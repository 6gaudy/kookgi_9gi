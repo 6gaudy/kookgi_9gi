{
 "cells": [
  {
   "cell_type": "markdown",
   "metadata": {},
   "source": [
    "class는 데이터와 데이터를 처리하는 메소드(클래스 내부에서 만든 함수)를 가지고 있는 자료형이다. => 사용자 정의 자료형"
   ]
  },
  {
   "cell_type": "code",
   "execution_count": 2,
   "metadata": {},
   "outputs": [],
   "source": [
    "'''\n",
    "class 클래스이름: => 클래스 이름은 다른 변수와 헷갈리지 않게하기 위해서 일반적으로 첫 문자를 대문자로 만들어 사용한다.\n",
    "    # 생성자(초기자) 함수를 만든다. => __init__(self)\n",
    "    # 생성자(Constructor)란 객체(클래스로 만든 변수)가 생성될 때 자동으로 실행되는 class 멤버 변수를 초기화시키는 목적으로 주로 사용된다.\n",
    "    # self는 클래스 자신을 의미하며 객체가 생성될 때 자기 자신이 메모리에 생성된 주소가 전달된다.\n",
    "    # 클래스에서 선언하는 모든 함수는 무조건 첫 번째 인수로 self를 가져야 한다.\n",
    "    def __init__(self):\n",
    "        # 멤버 변수 초기화...\n",
    "        # 변수 이름 앞에 \"self.\"가 붙어있는 변수를 멤버 변수라 부르고 멤버 변수는 클래스 전체(클래스의 모든 함수)에서 사용할 수 있다.\n",
    "        # 변수 이름 앞에 \"self.\"가 붙어있지 않은 변수를 지역 변수라 부르고 지역 변수는 변수가 선언된 함수 내부에서만 사용할 수 있다.\n",
    "    # 클래스에 저장된 데이터 출력에 사용하는 함수 => __str__(self) => java의 toString() 메소드와 같은 기능을 한다.\n",
    "    def __str__(self):\n",
    "        # return 뒤에 출력할 내용을 반드시 문자열 형태로 코딩한다.\n",
    "        return \"출력할 내용\"\n",
    "'''\n",
    "pass"
   ]
  },
  {
   "cell_type": "code",
   "execution_count": 53,
   "metadata": {},
   "outputs": [],
   "source": [
    "class Calculator:\n",
    "    def __init__(self, *num): # 변수 앞에 \"*\"을 붙여주면 가변 인자를 받는 튜플을 의미한다.\n",
    "        # print(\"Calculator 클래스의 객체가 생성될 때 자동으로 실행됩니다.\")\n",
    "        self.first = 0; self.second = 0; self.third = 0 # 멤버 변수 선언\n",
    "        if len(num) == 1:\n",
    "            self.first = num[0]\n",
    "        elif len(num) == 2:\n",
    "            self.first = num[0]; self.second = num[1]\n",
    "        elif len(num) == 3:\n",
    "            self.first = num[0]; self.second = num[1]; self.third = num[2]\n",
    "    def add(self):\n",
    "        print(\"Calculator 클래스의 add() 함수가 실행됩니다.\")\n",
    "        print(self.first)\n",
    "    def __str__(self):\n",
    "        return str(self.first + self.second + self.third)"
   ]
  },
  {
   "cell_type": "code",
   "execution_count": 54,
   "metadata": {},
   "outputs": [
    {
     "name": "stdout",
     "output_type": "stream",
     "text": [
      "0\n",
      "Calculator 클래스의 add() 함수가 실행됩니다.\n",
      "0\n",
      "cal1.first => 0\n"
     ]
    }
   ],
   "source": [
    "# class 객체(변수) 생성 방법\n",
    "# 객체(변수)이름 = 클래스이름([생성자로 전달할 데이터, ...])\n",
    "cal1 = Calculator()\n",
    "# 클래스로 생성한 객체를 출력하면 객체를 생성한 클래스 이름과 객체가 메모리에 생성된 주소가 아래와 같이 출력된다.\n",
    "# <__main__.Calculator object at 0x0000029EDB898D88> => 객체가 생성될 때 마다 주소는 변경된다.\n",
    "print(cal1)\n",
    "\n",
    "# 클래스로 생성한 객체 내부의 멤버 변수나 함수에 접근할 때는 객체 이름에 \".\"을 찍어서 접근한다.\n",
    "cal1.add() # 멤버 함수에 접근\n",
    "print(\"cal1.first\", cal1.first, sep = \" => \") # 멤버 변수에 접근"
   ]
  },
  {
   "cell_type": "code",
   "execution_count": 55,
   "metadata": {},
   "outputs": [
    {
     "name": "stdout",
     "output_type": "stream",
     "text": [
      "100\n"
     ]
    }
   ],
   "source": [
    "cal2 = Calculator(100)\n",
    "print(cal2)"
   ]
  },
  {
   "cell_type": "code",
   "execution_count": 56,
   "metadata": {},
   "outputs": [
    {
     "name": "stdout",
     "output_type": "stream",
     "text": [
      "300\n"
     ]
    }
   ],
   "source": [
    "cal3 = Calculator(100, 200)\n",
    "print(cal3)"
   ]
  },
  {
   "cell_type": "code",
   "execution_count": 57,
   "metadata": {},
   "outputs": [
    {
     "name": "stdout",
     "output_type": "stream",
     "text": [
      "600\n"
     ]
    }
   ],
   "source": [
    "cal4 = Calculator(100, 200, 300)\n",
    "print(cal4)"
   ]
  },
  {
   "cell_type": "code",
   "execution_count": null,
   "metadata": {},
   "outputs": [],
   "source": []
  },
  {
   "cell_type": "code",
   "execution_count": null,
   "metadata": {},
   "outputs": [],
   "source": []
  },
  {
   "cell_type": "code",
   "execution_count": null,
   "metadata": {},
   "outputs": [],
   "source": []
  },
  {
   "cell_type": "code",
   "execution_count": null,
   "metadata": {},
   "outputs": [],
   "source": []
  }
 ],
 "metadata": {
  "kernelspec": {
   "display_name": "Python 3",
   "language": "python",
   "name": "python3"
  },
  "language_info": {
   "codemirror_mode": {
    "name": "ipython",
    "version": 3
   },
   "file_extension": ".py",
   "mimetype": "text/x-python",
   "name": "python",
   "nbconvert_exporter": "python",
   "pygments_lexer": "ipython3",
   "version": "3.7.4"
  }
 },
 "nbformat": 4,
 "nbformat_minor": 2
}
