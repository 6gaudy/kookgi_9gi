{
 "cells": [
  {
   "cell_type": "markdown",
   "metadata": {},
   "source": [
    "예외 처리  \n",
    "프로그램을 작성할 때 잘못 동작되는 것을 방지하기 위해서 오류가 발생된다. => 프로그램이 멈춘다.  \n",
    "try ~ except를 사용하면 오류가 발생되었을 때 별도의 처리를 하거나 오류를 무시하고 프로그램을 실행할 수 있다.  \n",
    "오류가 발생될것으로 예상되는 문장 try 블록에 코딩하고 try 블록에 코딩된 내용을 실행하다가 오류가 발생되면 더 이상 try 블록에 코딩한 내용을 실행하지 않고 해당 except 블록에 코딩된 내용을 실행한다.\n",
    "\n",
    "try: # 필수  \n",
    "&nbsp;&nbsp;&nbsp;&nbsp;오류가 발생될것으로 예상되는 문장  \n",
    "&nbsp;&nbsp;&nbsp;&nbsp;...  \n",
    "except [오류 이름 [as 변수]]: # 필수 => 오류 이름은 생략할 수 있다.  \n",
    "&nbsp;&nbsp;&nbsp;&nbsp;오류가 발생되면 실행할 문장  \n",
    "&nbsp;&nbsp;&nbsp;&nbsp;...  \n",
    "finally: 선택 => 필요하면 사용한다.  \n",
    "&nbsp;&nbsp;&nbsp;&nbsp;오류 발생 여부와 관계없이 무조건 실행할 문장  \n",
    "&nbsp;&nbsp;&nbsp;&nbsp;..."
   ]
  },
  {
   "cell_type": "code",
   "execution_count": null,
   "metadata": {},
   "outputs": [],
   "source": [
    "try:\n",
    "    print(4 / 0) # ZeroDivisionError가 발생된다.\n",
    "except:\n",
    "    # except 뒤에 오류 이름을 적지않으면 모든 오류를 처리할 수 있다.\n",
    "    # 오류 발생시 아무것도 하지않고 오류를 무시하려면 아래와 같이 pass를 사용하면 된다.\n",
    "    # pass\n",
    "    print(\"나눗셈은 0으로 할 수 없습니다.\")\n",
    "print(\"꺄아~~~~~\")"
   ]
  },
  {
   "cell_type": "code",
   "execution_count": null,
   "metadata": {},
   "outputs": [],
   "source": [
    "data = [1, 2, 3]\n",
    "try:\n",
    "    print(data[2])\n",
    "    print(data[3]) # IndexError가 발생된다.\n",
    "    print(data[0])\n",
    "except:\n",
    "    print(\"리스트 인덱스 지정이 올바르지 않습니다.\")"
   ]
  },
  {
   "cell_type": "code",
   "execution_count": null,
   "metadata": {},
   "outputs": [],
   "source": [
    "string = \"안녕\"\n",
    "print(string)\n",
    "try:\n",
    "    # print(4 / 0) # ZeroDivisionError가 발생된다.\n",
    "    data = [1, 2, 3]\n",
    "    print(data[2])\n",
    "    # print(data[3]) # IndexError가 발생된다.\n",
    "    print(data[0])\n",
    "    # print(\"%d\" % string) # TypeError가 발생된다.\n",
    "except ZeroDivisionError:\n",
    "    # except 뒤에 오류 이름을 쓰면 지정된 오류에만 예외 처리를 한다.\n",
    "    print(\"나눗셈은 0으로 할 수 없습니다.\")\n",
    "except IndexError as e:\n",
    "    # xcept 뒤에 오류 이름을 쓰고 as 뒤에 변수를 선언하면 오류 메시지가 변수에 저장된다.\n",
    "    print(\"리스트 인덱스 지정이 올바르지 않습니다.\")\n",
    "    print(e)\n",
    "except:\n",
    "    # ZeroDivisionError, IndexError를 제외한 오류가 발생되면 이곳에 코딩한 문장이 실행된다.\n",
    "    # except 뒤에 오류 이름을 지정하지 않으면 모든 오류를 처리하기때문에 except만 사용할 경우 반드시 맨 마지막에 코딩해야 한다.\n",
    "    print(\"데이터 타입이 올바르지 않습니다.\")\n",
    "finally:\n",
    "    print(\"오류가 발생하던 발생하지 않던 무조건 실행해야 할 문장이 있다면 이곳에 코딩한다.\")"
   ]
  },
  {
   "cell_type": "code",
   "execution_count": 3,
   "metadata": {},
   "outputs": [
    {
     "name": "stdout",
     "output_type": "stream",
     "text": [
      "정렬할 데이터를 입력하세요(999가 입력되면 정렬이 시작됩니다.) : 111\n",
      "정렬할 데이터를 입력하세요(999가 입력되면 정렬이 시작됩니다.) : 홍길동\n",
      "정렬할 데이터를 입력하세요(999가 입력되면 정렬이 시작됩니다.) : 1\n",
      "정렬할 데이터를 입력하세요(999가 입력되면 정렬이 시작됩니다.) : 임꺽정\n",
      "정렬할 데이터를 입력하세요(999가 입력되면 정렬이 시작됩니다.) : 1111\n",
      "정렬할 데이터를 입력하세요(999가 입력되면 정렬이 시작됩니다.) : 장길산\n",
      "정렬할 데이터를 입력하세요(999가 입력되면 정렬이 시작됩니다.) : 11\n",
      "정렬할 데이터를 입력하세요(999가 입력되면 정렬이 시작됩니다.) : 일지매\n",
      "정렬할 데이터를 입력하세요(999가 입력되면 정렬이 시작됩니다.) : 999\n",
      "[1, 11, 111, 1111, '일지매', '임꺽정', '장길산', '홍길동']\n"
     ]
    }
   ],
   "source": [
    "number = []\n",
    "alpha = []\n",
    "while True:\n",
    "    var = input(\"정렬할 데이터를 입력하세요(999가 입력되면 정렬이 시작됩니다.) : \")\n",
    "    # 입력받은 데이터가 0 부터 9 사이의 문자로만 구성된 경우와 그렇치 안은 경우를 각각 number, alpha 리스트에 저장한다.\n",
    "    if var == \"999\":\n",
    "        break\n",
    "    try:\n",
    "        number.append(int(var))\n",
    "    except:\n",
    "        alpha.append(var)\n",
    "# ===== while True: 끝 =====\n",
    "number.sort()\n",
    "alpha.sort()\n",
    "print(number + alpha)"
   ]
  },
  {
   "cell_type": "code",
   "execution_count": null,
   "metadata": {},
   "outputs": [],
   "source": []
  },
  {
   "cell_type": "code",
   "execution_count": null,
   "metadata": {},
   "outputs": [],
   "source": []
  },
  {
   "cell_type": "code",
   "execution_count": null,
   "metadata": {},
   "outputs": [],
   "source": []
  },
  {
   "cell_type": "code",
   "execution_count": null,
   "metadata": {},
   "outputs": [],
   "source": []
  },
  {
   "cell_type": "code",
   "execution_count": null,
   "metadata": {},
   "outputs": [],
   "source": []
  },
  {
   "cell_type": "code",
   "execution_count": null,
   "metadata": {},
   "outputs": [],
   "source": []
  },
  {
   "cell_type": "code",
   "execution_count": null,
   "metadata": {},
   "outputs": [],
   "source": []
  },
  {
   "cell_type": "code",
   "execution_count": null,
   "metadata": {},
   "outputs": [],
   "source": []
  },
  {
   "cell_type": "code",
   "execution_count": null,
   "metadata": {},
   "outputs": [],
   "source": []
  }
 ],
 "metadata": {
  "kernelspec": {
   "display_name": "Python 3",
   "language": "python",
   "name": "python3"
  },
  "language_info": {
   "codemirror_mode": {
    "name": "ipython",
    "version": 3
   },
   "file_extension": ".py",
   "mimetype": "text/x-python",
   "name": "python",
   "nbconvert_exporter": "python",
   "pygments_lexer": "ipython3",
   "version": "3.7.4"
  }
 },
 "nbformat": 4,
 "nbformat_minor": 2
}
