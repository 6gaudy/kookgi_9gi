{
 "cells": [
  {
   "cell_type": "code",
   "execution_count": 1,
   "metadata": {},
   "outputs": [],
   "source": [
    "class Score:\n",
    "    # 생성자 함수로 Score 클래스의 객체가 생성될 때 이름과 3과목의 점수를 넘겨받아 멤버 변수를 초기화시키고 총점과 평균을 계산한다.\n",
    "    def __init__(self, name, python, java, jsp):\n",
    "        # 생성자 함수의 인수로 넘겨받은 데이터로 멤버 변수를 초기화시킨다.\n",
    "        self.name = name\n",
    "        self.python = python\n",
    "        self.java = java\n",
    "        self.jsp = jsp\n",
    "        # 총점과 평균 멤버 변수에 총점과 평균을 계산해서 넣어준다.\n",
    "        self.total = python + java + jsp\n",
    "        self.mean = self.total / 3\n",
    "    def __str__(self):\n",
    "        # 한 문장의 길이가 너무 길어서 2줄 이상으로 나눠서 코딩하려면 줄을 나눌곳에 \"\\\"를 입력하고 다음줄에 코딩하면 같은 문장으로 인식한다.\n",
    "        return \"이름 : {}, python : {}, java : {}, jsp : {}, 총점 : {}, 평균 : {}\".format(self.name, self.python, self.java, self.jsp, \\\n",
    "                                                                                    self.total, self.mean)"
   ]
  },
  {
   "cell_type": "code",
   "execution_count": 2,
   "metadata": {},
   "outputs": [
    {
     "name": "stdout",
     "output_type": "stream",
     "text": [
      "이름 : 홍길동, python : 100, java : 100, jsp : 99, 총점 : 299, 평균 : 99.66666666666667\n"
     ]
    }
   ],
   "source": [
    "score1 = Score(\"홍길동\", 100, 100, 99)\n",
    "print(score1)"
   ]
  },
  {
   "cell_type": "code",
   "execution_count": 3,
   "metadata": {},
   "outputs": [
    {
     "name": "stdout",
     "output_type": "stream",
     "text": [
      "이름 : 임꺽정, python : 65, java : 74, jsp : 45, 총점 : 184, 평균 : 61.333333333333336\n"
     ]
    }
   ],
   "source": [
    "score2 = Score(\"임꺽정\", 65, 74, 45)\n",
    "print(score2)"
   ]
  },
  {
   "cell_type": "code",
   "execution_count": null,
   "metadata": {},
   "outputs": [],
   "source": []
  },
  {
   "cell_type": "code",
   "execution_count": null,
   "metadata": {},
   "outputs": [],
   "source": []
  },
  {
   "cell_type": "code",
   "execution_count": null,
   "metadata": {},
   "outputs": [],
   "source": []
  },
  {
   "cell_type": "code",
   "execution_count": null,
   "metadata": {},
   "outputs": [],
   "source": []
  }
 ],
 "metadata": {
  "kernelspec": {
   "display_name": "Python 3",
   "language": "python",
   "name": "python3"
  },
  "language_info": {
   "codemirror_mode": {
    "name": "ipython",
    "version": 3
   },
   "file_extension": ".py",
   "mimetype": "text/x-python",
   "name": "python",
   "nbconvert_exporter": "python",
   "pygments_lexer": "ipython3",
   "version": "3.7.4"
  }
 },
 "nbformat": 4,
 "nbformat_minor": 2
}
