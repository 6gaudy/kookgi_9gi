{
 "cells": [
  {
   "cell_type": "code",
   "execution_count": 1,
   "metadata": {},
   "outputs": [
    {
     "name": "stdout",
     "output_type": "stream",
     "text": [
      "2020-07-17 17:35:50.160958\n"
     ]
    }
   ],
   "source": [
    "import datetime\n",
    "now = datetime.datetime.now()\n",
    "print(now)"
   ]
  },
  {
   "cell_type": "code",
   "execution_count": 2,
   "metadata": {},
   "outputs": [
    {
     "name": "stdout",
     "output_type": "stream",
     "text": [
      "2020-07-17 17:35:50.176977\n"
     ]
    }
   ],
   "source": [
    "from datetime import datetime\n",
    "now = datetime.now()\n",
    "print(now)"
   ]
  },
  {
   "cell_type": "code",
   "execution_count": 3,
   "metadata": {},
   "outputs": [
    {
     "name": "stdout",
     "output_type": "stream",
     "text": [
      "2020-07-17 17:35:50.186957\n",
      "년 : 2020\n",
      "월 : 7\n",
      "일 : 17\n",
      "시 : 17\n",
      "분 : 35\n",
      "초 : 50\n",
      "마이크로초 : 186957\n",
      "밀리초 : 186\n",
      "요일 : 4\n"
     ]
    }
   ],
   "source": [
    "from datetime import datetime as dt\n",
    "now = dt.now() # 컴퓨터 시스템의 날짜와 시간을 얻어온다.\n",
    "print(now)\n",
    "\n",
    "print(\"년 : {}\".format(now.year))\n",
    "print(\"월 : {}\".format(now.month))\n",
    "print(\"일 : {}\".format(now.day))\n",
    "print(\"시 : {}\".format(now.hour))\n",
    "print(\"분 : {}\".format(now.minute))\n",
    "print(\"초 : {}\".format(now.second))\n",
    "print(\"마이크로초 : {}\".format(now.microsecond))\n",
    "print(\"밀리초 : {}\".format(now.microsecond // 1000))\n",
    "# weekday() 메소드로 요일을 숫자로 얻어올 수 있다. => 월요일(0), 화요일(1), ..., 토요일(5), 일요일(6)\n",
    "print(\"요일 : {}\".format(now.weekday()))"
   ]
  },
  {
   "cell_type": "markdown",
   "metadata": {},
   "source": [
    "strftime(\"출력서식\") 함수를 이용해서 날짜와 시간에 출력 서식을 지정할 수 있다."
   ]
  },
  {
   "cell_type": "code",
   "execution_count": 4,
   "metadata": {},
   "outputs": [
    {
     "name": "stdout",
     "output_type": "stream",
     "text": [
      "2020-07-17\n",
      "20-07-17\n",
      "20-July-17\n",
      "20-Jul-17\n",
      "July-17 2020\n",
      "Friday July-17 2020\n",
      "Fri 17. Jul 2020\n",
      "2020년 07월 17일\n"
     ]
    }
   ],
   "source": [
    "# %Y => 년도 4자리, %y => 년도 2자리, %m => 월(숫자), %B => 월(영어 => 전체), %b(%h) => 월(영어 => 3글자), %d => 일, %A => 요일(전체), %a => 요일(3글자)\n",
    "print(now.strftime(\"%Y-%m-%d\"))\n",
    "print(now.strftime(\"%y-%m-%d\"))\n",
    "print(now.strftime(\"%y-%B-%d\"))\n",
    "print(now.strftime(\"%y-%b-%d\"))\n",
    "print(now.strftime(\"%B-%d %Y\"))\n",
    "print(now.strftime(\"%A %B-%d %Y\"))\n",
    "print(now.strftime(\"%a %d. %h %Y\"))\n",
    "# 날짜 및 시간 서식에 한글을 사용하고 싶으면 유니코드 문제로 인해서 아래와 같이 작성해야 한다.\n",
    "print(now.strftime(\"%Y년 %m월 %d일\".encode(\"unicode-escape\").decode()).encode().decode(\"unicode-escape\"))"
   ]
  },
  {
   "cell_type": "code",
   "execution_count": 5,
   "metadata": {},
   "outputs": [
    {
     "name": "stdout",
     "output_type": "stream",
     "text": [
      "17:35:50\n",
      "PM 05:35:50.186957\n",
      "17시 35분 50초\n"
     ]
    }
   ],
   "source": [
    "# %H => 시간(24시각), %I => 시간(12시각), %M => 분, %S => 초, %p => AM/PM, %f => 마이크로초\n",
    "print(now.strftime(\"%H:%M:%S\"))\n",
    "print(now.strftime(\"%p %I:%M:%S.%f\"))\n",
    "print(now.strftime(\"%H시 %M분 %S초\".encode(\"unicode-escape\").decode()).encode().decode(\"unicode-escape\"))"
   ]
  },
  {
   "cell_type": "code",
   "execution_count": null,
   "metadata": {},
   "outputs": [],
   "source": []
  },
  {
   "cell_type": "code",
   "execution_count": null,
   "metadata": {},
   "outputs": [],
   "source": []
  },
  {
   "cell_type": "code",
   "execution_count": null,
   "metadata": {},
   "outputs": [],
   "source": []
  },
  {
   "cell_type": "code",
   "execution_count": null,
   "metadata": {},
   "outputs": [],
   "source": []
  },
  {
   "cell_type": "code",
   "execution_count": null,
   "metadata": {},
   "outputs": [],
   "source": []
  },
  {
   "cell_type": "code",
   "execution_count": null,
   "metadata": {},
   "outputs": [],
   "source": []
  },
  {
   "cell_type": "code",
   "execution_count": null,
   "metadata": {},
   "outputs": [],
   "source": []
  }
 ],
 "metadata": {
  "kernelspec": {
   "display_name": "Python 3",
   "language": "python",
   "name": "python3"
  },
  "language_info": {
   "codemirror_mode": {
    "name": "ipython",
    "version": 3
   },
   "file_extension": ".py",
   "mimetype": "text/x-python",
   "name": "python",
   "nbconvert_exporter": "python",
   "pygments_lexer": "ipython3",
   "version": "3.7.4"
  }
 },
 "nbformat": 4,
 "nbformat_minor": 2
}
