{
 "cells": [
  {
   "cell_type": "code",
   "execution_count": 5,
   "metadata": {},
   "outputs": [
    {
     "name": "stdout",
     "output_type": "stream",
     "text": [
      "[1, 2, 3]\n",
      "[1, 2, 3, 4]\n",
      "[1, 5, 2, 3, 4]\n",
      "[1, 5, 2, 3, 4, 6]\n"
     ]
    }
   ],
   "source": [
    "a = [1, 2, 3]\n",
    "\n",
    "# append() 메소드로 리스트의 맨 뒤에 데이터를 추가한다.\n",
    "print(a)\n",
    "a.append(4)\n",
    "print(a)\n",
    "\n",
    "# insert() 메소드로 리스트의 특정 위치에 데이터를 삽입한다.\n",
    "# insert(삽입할 위치, 데이터)\n",
    "a.insert(1, 5)\n",
    "print(a)\n",
    "# insert() 메소드와 len() 함수를 사용해서 append() 메소드 효과내기\n",
    "# a.insert(-1, 6)\n",
    "# print(a) # [1, 5, 2, 3, 6, 4]\n",
    "a.insert(len(a), 6)\n",
    "print(a)"
   ]
  },
  {
   "cell_type": "code",
   "execution_count": 26,
   "metadata": {},
   "outputs": [
    {
     "name": "stdout",
     "output_type": "stream",
     "text": [
      "[1, 5, 2, 3, 4, 6]\n",
      "[1, 2, 3, 4, 5, 6]\n",
      "['d', 'b', 'a', 'c']\n",
      "['a', 'b', 'c', 'd']\n",
      "['홍길동', '임꺽정', '장길산', '일지매']\n",
      "['일지매', '임꺽정', '장길산', '홍길동']\n"
     ]
    }
   ],
   "source": [
    "# sort() 메소드로 리스트에 저장된 데이터를 오름차순(문자는 가나다순)으로 정렬한다.\n",
    "a = [1, 5, 2, 3, 4, 6]\n",
    "print(a)\n",
    "a.sort()\n",
    "print(a)\n",
    "\n",
    "b = [\"d\", \"b\", \"a\", \"c\"]\n",
    "print(b)\n",
    "b.sort()\n",
    "print(b)\n",
    "\n",
    "c = [\"홍길동\", \"임꺽정\", \"장길산\", \"일지매\"]\n",
    "print(c)\n",
    "c.sort()\n",
    "print(c)"
   ]
  },
  {
   "cell_type": "code",
   "execution_count": 27,
   "metadata": {},
   "outputs": [
    {
     "name": "stdout",
     "output_type": "stream",
     "text": [
      "[6, 5, 4, 3, 2, 1]\n",
      "['d', 'c', 'b', 'a']\n",
      "['홍길동', '장길산', '임꺽정', '일지매']\n"
     ]
    }
   ],
   "source": [
    "# sort() 메소드의 reverse 옵션을 True로 지정하면 내림차순(문자는 다나가순)으로 정렬된다.\n",
    "a.sort(reverse = True)\n",
    "print(a)\n",
    "b.sort(reverse = True)\n",
    "print(b)\n",
    "c.sort(reverse = True)\n",
    "print(c)"
   ]
  },
  {
   "cell_type": "code",
   "execution_count": 34,
   "metadata": {},
   "outputs": [
    {
     "name": "stdout",
     "output_type": "stream",
     "text": [
      "[1, 2, 3, 4, 5, 6]\n",
      "['a', 'b', 'c', 'd']\n",
      "['일지매', '임꺽정', '장길산', '홍길동']\n"
     ]
    }
   ],
   "source": [
    "# reverse() 메소드로 리스트에 저장된 데이터를 뒤집을 수 있다.\n",
    "# sort() 메소드로 오름차순으로 정렬한 리스트를 reverse() 메소드를 실행하면 내림차순으로 정렬되는 효과가 난다.\n",
    "a.reverse()\n",
    "print(a)\n",
    "b.reverse()\n",
    "print(b)\n",
    "c.reverse()\n",
    "print(c)"
   ]
  },
  {
   "cell_type": "code",
   "execution_count": 40,
   "metadata": {},
   "outputs": [
    {
     "name": "stdout",
     "output_type": "stream",
     "text": [
      "5\n",
      "4\n",
      "0\n"
     ]
    }
   ],
   "source": [
    "# index() 메소드로 리스트에 저장된 데이터의 위치를 얻어온다.\n",
    "print(a.index(6))\n",
    "# print(a.index(7)) # 위치를 얻어올 데이터가 리스트에 없기때문에 에러가 발생된다.\n",
    "\n",
    "# count() 메소드로 리스트의 데이터 요소 중 특정 데이터의 개수를 얻어올 수 있다.\n",
    "d = [1, 2, 3, 1, 3, 1, 4, 1, 5]\n",
    "print(d.count(1))\n",
    "print(d.count(6))"
   ]
  },
  {
   "cell_type": "code",
   "execution_count": 52,
   "metadata": {},
   "outputs": [
    {
     "name": "stdout",
     "output_type": "stream",
     "text": [
      "[1, 2, 3, 4, 5, 3]\n",
      "[1, 2, 4, 5, 3] ,  None\n",
      "[1, 2, 4, 5] ,  None\n",
      "================================================================================\n",
      "[1, 2, 3, 4, 5, 3]\n",
      "[1, 2, 3, 4, 5] ,  3\n",
      "[1, 2, 3, 4] ,  5\n",
      "[1, 2, 4] ,  3\n"
     ]
    }
   ],
   "source": [
    "# remove() 메소드로 리스트에 저장된 데이터를 제거한다. => remove() 메소드의 인수로 지정된 데이터가 제거된다.\n",
    "e = [1, 2, 3, 4, 5, 3]\n",
    "print(e)\n",
    "p = e.remove(3) # 삭제할 데이터가 2개 이상일 경우 앞에있는 데이터가 제거된다.\n",
    "print(e, \", \", p)\n",
    "p = e.remove(3) # 한 번 더 실행해야 나머지 3이 제거된다.\n",
    "print(e, \", \", p)\n",
    "print(\"=\" * 80)\n",
    "# e.remove(3) # 없는 데이터를 삭제하려 했기때문에 에러가 발생된다.\n",
    "\n",
    "# pop() 메소드로 리스트에 저장된 데이터를 제거한다.\n",
    "f = [1, 2, 3, 4, 5, 3]\n",
    "print(f)\n",
    "p = f.pop() # 제거할 데이터의 위치를 지정하지 않으면 맨 마지막 데이터를 제거한다.\n",
    "print(f, \", \", p)\n",
    "p = f.pop()\n",
    "print(f, \", \", p)\n",
    "p = f.pop(2) # 제거할 데이터의 인덱스를 지정하면 지정된 인덱스 위치의 데이터가 제거된다.\n",
    "print(f, \", \", p)"
   ]
  },
  {
   "cell_type": "code",
   "execution_count": 56,
   "metadata": {},
   "outputs": [
    {
     "name": "stdout",
     "output_type": "stream",
     "text": [
      "[1, 2, 3]\n",
      "[1, 2, 3, 4, 5]\n",
      "[1, 2, 3, 4, 5]\n"
     ]
    }
   ],
   "source": [
    "# extend() 메소드로 리스트를 확장한다 => 리스트에 리스트를 더한다. => \"+\"와 같다.\n",
    "g = [1, 2, 3]\n",
    "print(g)\n",
    "print(g + [4, 5])\n",
    "g.extend([4, 5])\n",
    "print(g)"
   ]
  },
  {
   "cell_type": "code",
   "execution_count": 61,
   "metadata": {},
   "outputs": [
    {
     "name": "stdout",
     "output_type": "stream",
     "text": [
      "a = 3, b = 4\n",
      "a = 4, b = 3\n",
      "a = 3, b = 4\n",
      "a = 4, b = 3\n"
     ]
    }
   ],
   "source": [
    "a = 3\n",
    "b = 4\n",
    "print(\"a = {}, b = {}\".format(a, b))\n",
    "# 두 변수에 저장된 값을 교환한다.\n",
    "temp = a\n",
    "a = b\n",
    "b = temp\n",
    "print(\"a = {}, b = {}\".format(a, b))\n",
    "[a, b] = [b, a]\n",
    "print(\"a = {}, b = {}\".format(a, b))\n",
    "a, b = b, a\n",
    "print(\"a = {}, b = {}\".format(a, b))"
   ]
  },
  {
   "cell_type": "code",
   "execution_count": null,
   "metadata": {},
   "outputs": [],
   "source": []
  },
  {
   "cell_type": "code",
   "execution_count": null,
   "metadata": {},
   "outputs": [],
   "source": []
  },
  {
   "cell_type": "code",
   "execution_count": null,
   "metadata": {},
   "outputs": [],
   "source": []
  },
  {
   "cell_type": "code",
   "execution_count": null,
   "metadata": {},
   "outputs": [],
   "source": []
  },
  {
   "cell_type": "code",
   "execution_count": null,
   "metadata": {},
   "outputs": [],
   "source": []
  },
  {
   "cell_type": "code",
   "execution_count": null,
   "metadata": {},
   "outputs": [],
   "source": []
  },
  {
   "cell_type": "code",
   "execution_count": null,
   "metadata": {},
   "outputs": [],
   "source": []
  },
  {
   "cell_type": "code",
   "execution_count": null,
   "metadata": {},
   "outputs": [],
   "source": []
  }
 ],
 "metadata": {
  "kernelspec": {
   "display_name": "Python 3",
   "language": "python",
   "name": "python3"
  },
  "language_info": {
   "codemirror_mode": {
    "name": "ipython",
    "version": 3
   },
   "file_extension": ".py",
   "mimetype": "text/x-python",
   "name": "python",
   "nbconvert_exporter": "python",
   "pygments_lexer": "ipython3",
   "version": "3.7.4"
  }
 },
 "nbformat": 4,
 "nbformat_minor": 2
}
