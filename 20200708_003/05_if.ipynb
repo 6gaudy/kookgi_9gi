{
 "cells": [
  {
   "cell_type": "markdown",
   "metadata": {},
   "source": [
    "if 명령의 형식  \n",
    "if 조건식:  \n",
    "&nbsp;&nbsp;&nbsp;&nbsp;조건식이 참일 경우 실행할 문장  \n",
    "&nbsp;&nbsp;&nbsp;&nbsp;...  \n",
    "else: => 조건식을 만족하지 않을 때 아무런 일도 할 필요가 없다면 else 이하를 생략할 수 있다.  \n",
    "&nbsp;&nbsp;&nbsp;&nbsp;조건식이 거짓일 경우 실행할 문장  \n",
    "&nbsp;&nbsp;&nbsp;&nbsp;..."
   ]
  },
  {
   "cell_type": "code",
   "execution_count": null,
   "metadata": {},
   "outputs": [],
   "source": [
    "# 관계(비교) 연산자 => 연산 결과는 무조건 True 아니면 False 이다.\n",
    "# <  : 작다(미만)\n",
    "# <= : 작거나 같다(이하)\n",
    "# >  : 크다(초과)\n",
    "# >= : 크거나 같다(이상)\n",
    "# == : 같다\n",
    "# != : 같지 않다"
   ]
  },
  {
   "cell_type": "code",
   "execution_count": null,
   "metadata": {},
   "outputs": [],
   "source": [
    "# 논리 연산자 => 연산 결과는 무조건 True 아니면 False 이다.\n",
    "# and : 논리곱, 두 조건이 모두 참일 경우에만 참, ~이고, ~이면서, ~중에서\n",
    "# or  : 논리합, 두 조건 중에서 한 개 이상 참일 경우에 참, ~또는, ~이거나\n",
    "# not : 논리 부정, 참은 거짓으로 거짓은 참으로 변환한다."
   ]
  },
  {
   "cell_type": "code",
   "execution_count": null,
   "metadata": {},
   "outputs": [],
   "source": [
    "# 단항 연산자 => 이항 연산자 => 삼항 연산자 => 대입 연산자  \n",
    "# 이항 연산자 : ** => *, /, //, % => +, - => 관계 연산자 => 논리 연산자"
   ]
  },
  {
   "cell_type": "code",
   "execution_count": null,
   "metadata": {},
   "outputs": [],
   "source": [
    "# 나이를 입력받아 성인인가 미성년자인가 판단한다.\n",
    "age = int(input(\"나이를 입력하세요 : \"))\n",
    "if age >= 19:\n",
    "    print(\"성인입니다. 어서오세요~~~~~\")\n",
    "else:\n",
    "    print(\"애들은 가라~~~~~\")"
   ]
  },
  {
   "cell_type": "code",
   "execution_count": null,
   "metadata": {},
   "outputs": [],
   "source": [
    "# 주민등록번호를 입력받아 성별을 판단한다.\n",
    "juminNumber = input(\"주민등록번호 13자리를 '-'없이 입력하세요 : \")\n",
    "# print(juminNumber[6])\n",
    "\n",
    "# 문자열로 비교\n",
    "if juminNumber[6] == \"1\" or juminNumber[6] == \"3\":\n",
    "    print(\"남자\")\n",
    "else:\n",
    "    print(\"여자\")\n",
    "    \n",
    "# 숫자로 비교\n",
    "if int(juminNumber[6]) == 1 or int(juminNumber[6]) == 3:\n",
    "    print(\"남자\")\n",
    "else:\n",
    "    print(\"여자\")\n",
    "    \n",
    "# 성별이 홀수면 남자, 짝수면 여자로 비교\n",
    "if int(juminNumber[6]) % 2 == 1:\n",
    "    print(\"남자\")\n",
    "else:\n",
    "    print(\"여자\")"
   ]
  },
  {
   "cell_type": "code",
   "execution_count": 2,
   "metadata": {},
   "outputs": [
    {
     "name": "stdout",
     "output_type": "stream",
     "text": [
      "주민등록번호 13자리를 '-'없이 입력하세요 : 8304221185600\n",
      "당신의 출생년도 : 1983, 당신의 나이는 : 37살\n"
     ]
    }
   ],
   "source": [
    "# 주민등록번호를 입력받아 출생년도를 계산한다.\n",
    "juminNumber = input(\"주민등록번호 13자리를 '-'없이 입력하세요 : \")\n",
    "# print(juminNumber[:2])\n",
    "\n",
    "# 성별이 2 이하이면 1900년대에 그렇치 않으면 2000년대에 태어났다.\n",
    "year = int(juminNumber[:2])\n",
    "'''\n",
    "if int(juminNumber[6]) % 4 <= 2:\n",
    "    # 대입 연산자 => \"=\"와 같이 사용하는 연산자를 말하며 연산자의 우선순위가 가장 늦다. => +=, -=, *=, /=, //=, %= 등\n",
    "    year += 1900 # year = year + 1900와 같은 기능이 실행된다.\n",
    "else:\n",
    "    year += 2000 # year = year + 2000\n",
    "'''\n",
    "# 삼항 연산자(if ~ else) => c/c++ 이나 java는 \"?:\"을 사용한다.\n",
    "# 삼항 연산자는 조건을 비교했을 때 실행할 문장이 참, 거짓의 경우 각각 1문장일 때 사용한다.\n",
    "# 형식 => 조건이 참일 때 실행할 문장 if 조건식 else 조건이 거짓일 때 실행할 문장\n",
    "year += 1900 if int(juminNumber[6]) % 4 <= 2 else 2000\n",
    "\n",
    "print(\"당신의 출생년도 : {}, 당신의 나이는 : {}살\".format(year, 2020 - year))"
   ]
  },
  {
   "cell_type": "code",
   "execution_count": null,
   "metadata": {},
   "outputs": [],
   "source": [
    "import datetime\n",
    "now = datetime.datetime.now()\n",
    "print(now)\n",
    "print(now.year)\n",
    "print(\"당신의 출생년도 : {}, 당신의 나이는 : {}살\".format(year, now.year - year))"
   ]
  },
  {
   "cell_type": "code",
   "execution_count": 6,
   "metadata": {},
   "outputs": [
    {
     "name": "stdout",
     "output_type": "stream",
     "text": [
      "윤년, 평년을 판단할 년도를 입력하세요 : 2100\n",
      "2100년은 평년입니다.\n",
      "2100년은 평년입니다.\n"
     ]
    }
   ],
   "source": [
    "# 윤년, 평년 판별식\n",
    "# 년도가 4로 나눠 떨어지고(and) 100으로 나눠 떨어지지 않거나(or) 400으로 나눠 떨어지면 윤년, 그렇치 않으면 평년\n",
    "year = int(input(\"윤년, 평년을 판단할 년도를 입력하세요 : \"))\n",
    "\n",
    "# 프로그램에서 여러번 사용되는 데이터는 변수에 저장시켜 사용하면 편리하다.\n",
    "isLeapYear = year % 4 == 0 and year % 100 != 0 or year % 400 == 0\n",
    "\n",
    "if isLeapYear:\n",
    "    print(\"{}년은 윤년입니다.\".format(year))\n",
    "else:\n",
    "    print(\"{}년은 평년입니다.\".format(year))\n",
    "    \n",
    "print(\"{}년은 {}년입니다.\".format(year, \"윤\" if isLeapYear else \"평\"))"
   ]
  },
  {
   "cell_type": "code",
   "execution_count": 77,
   "metadata": {},
   "outputs": [
    {
     "name": "stdout",
     "output_type": "stream",
     "text": [
      "2\n",
      "가위(1), 바위(2), 보(3) : 2\n",
      "비겼다~~~~~\n"
     ]
    }
   ],
   "source": [
    "import random\n",
    "# randrange(a, b) 메소드는 a 부터 b - 1 사이의 무작위수(난수)를 발생시킨다.\n",
    "# print(random.randrange(1, 4))\n",
    "cpu = random.randrange(1, 4)\n",
    "print(cpu)\n",
    "\n",
    "user = int(input(\"가위(1), 바위(2), 보(3) : \"))\n",
    "\n",
    "# 이기는 경우 : cpu => 가위(1) user => 바위(2), cpu => 바위(2) user => 보(3), cpu => 보(3) user => 가위(1)\n",
    "# 지는 경우   : cpu => 가위(1) user => 보(3), cpu => 바위(2) user => 가위(1), cpu => 보(3) user => 바위(2)\n",
    "if (cpu == 1 and user == 2) or (cpu == 2 and user == 3) or (cpu == 3 and user == 1):\n",
    "    print(\"이겼다~~~~~\")\n",
    "if (cpu == 1 and user == 3) or (cpu == 2 and user == 1) or (cpu == 3 and user == 2):\n",
    "    print(\"졌다~~~~~ 망했어ㅠㅠ\")\n",
    "if cpu == user:\n",
    "    print(\"비겼다~~~~~\")"
   ]
  },
  {
   "cell_type": "code",
   "execution_count": 63,
   "metadata": {},
   "outputs": [
    {
     "name": "stdout",
     "output_type": "stream",
     "text": [
      "2\n",
      "가위(1), 바위(2), 보(3) : 2\n",
      "비겼다~~~~~\n"
     ]
    }
   ],
   "source": [
    "import random\n",
    "cpu = random.randrange(1, 4)\n",
    "print(cpu)\n",
    "user = int(input(\"가위(1), 바위(2), 보(3) : \"))\n",
    "if (cpu == 1 and user == 2) or (cpu == 2 and user == 3) or (cpu == 3 and user == 1):\n",
    "    print(\"이겼다~~~~~\")\n",
    "elif (cpu == 1 and user == 3) or (cpu == 2 and user == 1) or (cpu == 3 and user == 2):\n",
    "    print(\"졌다~~~~~ 망했어ㅠㅠ\")\n",
    "else:\n",
    "    print(\"비겼다~~~~~\")"
   ]
  },
  {
   "cell_type": "code",
   "execution_count": 83,
   "metadata": {},
   "outputs": [
    {
     "name": "stdout",
     "output_type": "stream",
     "text": [
      "세 과목 점수를 입력하세요 : 60 60 59\n",
      "총점 : 179, 평균 : 59.666666666666664\n",
      "평균 점수 :  59.67, 등급 : F\n"
     ]
    }
   ],
   "source": [
    "# 세 과목의 점수를 입력받아 평균 점수가 90점 이상이면 A, 80점 이상이면 B, 70점 이상이면 C, 60점 이상이면 D, 그 이외의 경우이면 F\n",
    "python, java, jsp = map(int, input(\"세 과목 점수를 입력하세요 : \").split())\n",
    "total = python + java + jsp\n",
    "average = total / 3\n",
    "print(\"총점 : {}, 평균 : {}\".format(total, average))\n",
    "\n",
    "if average >= 90:\n",
    "    print(\"평균 점수 : %6.2f, 등급 : A\" % average)\n",
    "# if 80 <= average < 90: # 파이썬에서만 가능하다.\n",
    "if average < 90 and average >= 80:\n",
    "    print(\"평균 점수 : {0:6.2f}, 등급 : B\".format(average))\n",
    "if average < 80 and average >= 70:\n",
    "    print(\"평균 점수 : %6.2f, 등급 : C\" % average)\n",
    "if average < 70 and average >= 60:\n",
    "    print(\"평균 점수 : %6.2f, 등급 : D\" % average)\n",
    "if average < 60:\n",
    "    print(\"평균 점수 : %6.2f, 등급 : F\" % average)"
   ]
  },
  {
   "cell_type": "code",
   "execution_count": 76,
   "metadata": {},
   "outputs": [
    {
     "name": "stdout",
     "output_type": "stream",
     "text": [
      "세 과목 점수를 입력하세요 : 80 80 80\n",
      "총점 : 240, 평균 : 80.0\n",
      "평균 점수 :  80.00, 등급 : B\n"
     ]
    }
   ],
   "source": [
    "python, java, jsp = map(int, input(\"세 과목 점수를 입력하세요 : \").split())\n",
    "total = python + java + jsp\n",
    "average = total / 3\n",
    "print(\"총점 : {}, 평균 : {}\".format(total, average))\n",
    "\n",
    "if average >= 90:\n",
    "    print(\"평균 점수 : %6.2f, 등급 : A\" % average)\n",
    "elif average >= 80:\n",
    "    print(\"평균 점수 : {0:6.2f}, 등급 : B\".format(average))\n",
    "elif average >= 70:\n",
    "    print(\"평균 점수 : %6.2f, 등급 : C\" % average)\n",
    "elif average >= 60:\n",
    "    print(\"평균 점수 : %6.2f, 등급 : D\" % average)\n",
    "else:\n",
    "    print(\"평균 점수 : %6.2f, 등급 : F\" % average)"
   ]
  },
  {
   "cell_type": "code",
   "execution_count": null,
   "metadata": {},
   "outputs": [],
   "source": []
  },
  {
   "cell_type": "code",
   "execution_count": null,
   "metadata": {},
   "outputs": [],
   "source": []
  },
  {
   "cell_type": "code",
   "execution_count": null,
   "metadata": {},
   "outputs": [],
   "source": []
  },
  {
   "cell_type": "code",
   "execution_count": null,
   "metadata": {},
   "outputs": [],
   "source": []
  },
  {
   "cell_type": "code",
   "execution_count": null,
   "metadata": {},
   "outputs": [],
   "source": []
  },
  {
   "cell_type": "code",
   "execution_count": null,
   "metadata": {},
   "outputs": [],
   "source": []
  },
  {
   "cell_type": "code",
   "execution_count": null,
   "metadata": {},
   "outputs": [],
   "source": []
  }
 ],
 "metadata": {
  "kernelspec": {
   "display_name": "Python 3",
   "language": "python",
   "name": "python3"
  },
  "language_info": {
   "codemirror_mode": {
    "name": "ipython",
    "version": 3
   },
   "file_extension": ".py",
   "mimetype": "text/x-python",
   "name": "python",
   "nbconvert_exporter": "python",
   "pygments_lexer": "ipython3",
   "version": "3.7.4"
  }
 },
 "nbformat": 4,
 "nbformat_minor": 2
}
