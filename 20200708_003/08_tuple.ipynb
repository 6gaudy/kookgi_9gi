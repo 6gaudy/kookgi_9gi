{
 "cells": [
  {
   "cell_type": "markdown",
   "metadata": {},
   "source": [
    "튜플은 리스트와 거의 비슷하고 리스트는 데이터를 []로 둘러싸고 튜플은 ()로 둘러싼다.  \n",
    "리스트는 데이터의 수정 및 삭제가 가능하지만 튜플은 불가능하다."
   ]
  },
  {
   "cell_type": "code",
   "execution_count": 4,
   "metadata": {},
   "outputs": [
    {
     "name": "stdout",
     "output_type": "stream",
     "text": [
      "<class 'tuple'>\n",
      "()\n",
      "<class 'tuple'>\n",
      "()\n"
     ]
    }
   ],
   "source": [
    "# 빈 튜플 만들기\n",
    "a = ()\n",
    "print(type(a))\n",
    "print(a) # () => 빈 튜플\n",
    "# 빈 튜플은 생성자를 사용해서도 만들 수 있다.\n",
    "b = tuple()\n",
    "print(type(b))\n",
    "print(b)"
   ]
  },
  {
   "cell_type": "code",
   "execution_count": 8,
   "metadata": {},
   "outputs": [
    {
     "name": "stdout",
     "output_type": "stream",
     "text": [
      "<class 'list'>\n",
      "[1]\n",
      "<class 'int'>\n",
      "1\n",
      "<class 'tuple'>\n",
      "(1,)\n"
     ]
    }
   ],
   "source": [
    "c = [1] # 데이터가 1개인 리스트를 만든다.\n",
    "print(type(c))\n",
    "print(c)\n",
    "\n",
    "# 데이터가 1개인 튜플을 만들려는 경우 그냥 ()로 묶으면 튜플이 아니라 상수로 인식된다.\n",
    "d = (1)\n",
    "print(type(d))\n",
    "print(d) # 숫자 상수\n",
    "\n",
    "# 데이터가 1개인 튜플은 데이터 뒤에 반드시 \",\"를 찍어줘야 튜플로 인식된다.\n",
    "e = (1,)\n",
    "print(type(e))\n",
    "print(e)"
   ]
  },
  {
   "cell_type": "code",
   "execution_count": 14,
   "metadata": {},
   "outputs": [
    {
     "name": "stdout",
     "output_type": "stream",
     "text": [
      "(1, 2)\n",
      "(1, 2, 3)\n",
      "(1, 2, 3, ('a', 'b', 'c'))\n",
      "(1, 2, 3, ['a', 'b', 'c'])\n",
      "[1, 2, 3, ('a', 'b', 'c')]\n"
     ]
    }
   ],
   "source": [
    "f = (1, 2)\n",
    "print(f)\n",
    "g = (1, 2, 3)\n",
    "print(g)\n",
    "h = (1, 2, 3, (\"a\", \"b\", \"c\"))\n",
    "print(h)\n",
    "i = (1, 2, 3, [\"a\", \"b\", \"c\"])\n",
    "print(i)\n",
    "j = [1, 2, 3, (\"a\", \"b\", \"c\")]\n",
    "print(j)"
   ]
  },
  {
   "cell_type": "code",
   "execution_count": 15,
   "metadata": {},
   "outputs": [
    {
     "name": "stdout",
     "output_type": "stream",
     "text": [
      "<class 'tuple'>\n",
      "(1, 2, 3, 4)\n"
     ]
    }
   ],
   "source": [
    "# 튜플을 만들 때 ()로 데이터를 묶지 않고 하나의 변수에 \",\"로 구분해서 여러개의 데이터를 넣으면 자동으로 튜플로 인식된다.\n",
    "k = 1, 2, 3, 4\n",
    "print(type(k))\n",
    "print(k)"
   ]
  },
  {
   "cell_type": "code",
   "execution_count": 26,
   "metadata": {},
   "outputs": [
    {
     "name": "stdout",
     "output_type": "stream",
     "text": [
      "a\n",
      "('ab', 'cd')\n",
      "cd\n",
      "('b',)\n",
      "('a', 'b')\n",
      "('b', ('ab', 'cd'))\n",
      "('a', 'b', ('ab', 'cd'), 1, 2, 3)\n",
      "('a', 'b', ('ab', 'cd'), 'a', 'b', ('ab', 'cd'))\n"
     ]
    }
   ],
   "source": [
    "l = (\"a\", \"b\", (\"ab\", \"cd\"))\n",
    "\n",
    "# 튜플도 리스트와 같이 인덱싱과 슬라이싱이 가능하다.\n",
    "print(l[0])\n",
    "print(l[2])\n",
    "print(l[2][-1])\n",
    "print(l[1:2])\n",
    "print(l[:2])\n",
    "print(l[1:])\n",
    "\n",
    "# l[0] = \"123\" # 튜플은 데이터를 수정할 수 없으므로 에러가 발생된다.\n",
    "# del l[0]     # 튜플은 데이터를 삭제할 수 없으므로 에러가 발생된다.\n",
    "\n",
    "# 튜플도 리스트와 같이 덧셈(연결) 연산과 곱셈(반복) 연산이 가능하다.\n",
    "print(l + (1, 2, 3))\n",
    "print(l * 2)"
   ]
  },
  {
   "cell_type": "code",
   "execution_count": null,
   "metadata": {},
   "outputs": [],
   "source": []
  },
  {
   "cell_type": "code",
   "execution_count": null,
   "metadata": {},
   "outputs": [],
   "source": []
  },
  {
   "cell_type": "code",
   "execution_count": null,
   "metadata": {},
   "outputs": [],
   "source": []
  },
  {
   "cell_type": "code",
   "execution_count": null,
   "metadata": {},
   "outputs": [],
   "source": []
  },
  {
   "cell_type": "code",
   "execution_count": null,
   "metadata": {},
   "outputs": [],
   "source": []
  },
  {
   "cell_type": "code",
   "execution_count": null,
   "metadata": {},
   "outputs": [],
   "source": []
  },
  {
   "cell_type": "code",
   "execution_count": null,
   "metadata": {},
   "outputs": [],
   "source": []
  },
  {
   "cell_type": "code",
   "execution_count": null,
   "metadata": {},
   "outputs": [],
   "source": []
  }
 ],
 "metadata": {
  "kernelspec": {
   "display_name": "Python 3",
   "language": "python",
   "name": "python3"
  },
  "language_info": {
   "codemirror_mode": {
    "name": "ipython",
    "version": 3
   },
   "file_extension": ".py",
   "mimetype": "text/x-python",
   "name": "python",
   "nbconvert_exporter": "python",
   "pygments_lexer": "ipython3",
   "version": "3.7.4"
  }
 },
 "nbformat": 4,
 "nbformat_minor": 2
}
