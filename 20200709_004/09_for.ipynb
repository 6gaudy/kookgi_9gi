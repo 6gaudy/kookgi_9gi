{
 "cells": [
  {
   "cell_type": "markdown",
   "metadata": {},
   "source": [
    "숫자 리스트를 자동으로 만들어 주는 range() 함수"
   ]
  },
  {
   "cell_type": "code",
   "execution_count": 1,
   "metadata": {},
   "outputs": [
    {
     "name": "stdout",
     "output_type": "stream",
     "text": [
      "[0, 1, 2, 3, 4, 5, 6, 7, 8, 9]\n",
      "[0, 1, 2, 3, 4, 5, 6, 7, 8, 9]\n",
      "[9, 8, 7, 6, 5, 4, 3, 2, 1, 0]\n",
      "[0, 2, 4, 6, 8]\n",
      "[1, 3, 5, 7, 9]\n"
     ]
    }
   ],
   "source": [
    "# range([초기치,] 최종치[, 증가치]) : 초기치 부터 최종치 - 증가치 까지 증가치 만큼 증가하는 숫자를 포함하는 객체를 만들어주는 함수\n",
    "# 초기치와 증가치는 생략이 가능하고 초기치가 생략되면 0, 증가치가 생략되면 1이 기본값으로 사용된다.\n",
    "\n",
    "print(list(range(10))) # 초기치와 증가치가 생략된 경우\n",
    "print(list(range(0, 10, 1))) # range(10)와 같은 표현이다.\n",
    "print(list(range(9, -1, -1)))\n",
    "print(list(range(0, 10, 2)))\n",
    "print(list(range(1, 10, 2)))"
   ]
  },
  {
   "cell_type": "markdown",
   "metadata": {},
   "source": [
    "range() 함수와 같이 사용되는 for 명령의 형식  \n",
    "range() 함수로 생성되는 숫자 리스트의 값이 차례차례 변수에 저장되면서 마지막 값까지 반복한다.  \n",
    "for 변수 in range():  \n",
    "&nbsp;&nbsp;&nbsp;&nbsp;반복할 문장  \n",
    "&nbsp;&nbsp;&nbsp;&nbsp;..."
   ]
  },
  {
   "cell_type": "code",
   "execution_count": 2,
   "metadata": {},
   "outputs": [
    {
     "name": "stdout",
     "output_type": "stream",
     "text": [
      "0\n",
      "1\n",
      "2\n",
      "3\n",
      "4\n"
     ]
    }
   ],
   "source": [
    "for i in range(5):\n",
    "    print(i)"
   ]
  },
  {
   "cell_type": "code",
   "execution_count": 3,
   "metadata": {
    "scrolled": true
   },
   "outputs": [
    {
     "name": "stdout",
     "output_type": "stream",
     "text": [
      "5050\n"
     ]
    }
   ],
   "source": [
    "# 1 ~ 100의 합계\n",
    "total = 0\n",
    "for i in range(1, 101):\n",
    "    total = total + i\n",
    "print(total)"
   ]
  },
  {
   "cell_type": "markdown",
   "metadata": {},
   "source": [
    "주사위를 10번 굴렸을 때 나오는 눈의 개수를 출력한다. => 변수 사용"
   ]
  },
  {
   "cell_type": "code",
   "execution_count": 4,
   "metadata": {},
   "outputs": [
    {
     "name": "stdout",
     "output_type": "stream",
     "text": [
      "2\n",
      "1\n",
      "3\n",
      "5\n",
      "6\n",
      "3\n",
      "4\n",
      "3\n",
      "1\n",
      "2\n",
      "1의 개수 : 2\n",
      "2의 개수 : 2\n",
      "3의 개수 : 3\n",
      "4의 개수 : 1\n",
      "5의 개수 : 1\n",
      "6의 개수 : 1\n"
     ]
    }
   ],
   "source": [
    "import random\n",
    "# 1 부터 6 사이의 숫자 개수를 기억할 변수 6개를 선언하고 0으로 초기화시킨다.\n",
    "# 파이썬은 1줄에 1문장 코딩을 원칙으로 하지만 1줄에 2개 이상의 문장을 코딩할 수 있다. => 문장과 문장은 \";\"으로 구분하면 된다.\n",
    "a = 0; b = 0; c = 0; d = 0; e = 0; f = 0\n",
    "# 주사위를 10번 굴린다.\n",
    "for i in range(10):\n",
    "    dice = random.randrange(1, 7) # 주사위를 굴린다.\n",
    "    print(dice) # 주사위를 굴려서 발생된 눈과 변수에 저장된 눈의 개수를 비교하기 위한 검증코드\n",
    "    # 주사위 눈의 개수를 계산한다.    \n",
    "    if dice == 1:\n",
    "        a += 1\n",
    "    elif dice == 2:\n",
    "        b += 1\n",
    "    elif dice == 3:\n",
    "        c += 1\n",
    "    elif dice == 4:\n",
    "        d += 1\n",
    "    elif dice == 5:\n",
    "        e += 1\n",
    "    else:\n",
    "        f += 1\n",
    "# ===== for i in range(10) 끝 =====\n",
    "# 주사위 눈의 개수를 출력한다.\n",
    "print(\"1의 개수 : {}\".format(a))\n",
    "print(\"2의 개수 : {}\".format(b))\n",
    "print(\"3의 개수 : {}\".format(c))\n",
    "print(\"4의 개수 : {}\".format(d))\n",
    "print(\"5의 개수 : {}\".format(e))\n",
    "print(\"6의 개수 : {}\".format(f))"
   ]
  },
  {
   "cell_type": "code",
   "execution_count": 5,
   "metadata": {},
   "outputs": [
    {
     "name": "stdout",
     "output_type": "stream",
     "text": [
      "6\n",
      "6\n",
      "2\n",
      "4\n",
      "3\n",
      "1\n",
      "2\n",
      "3\n",
      "1\n",
      "3\n",
      "1의 개수 : 2\n",
      "2의 개수 : 2\n",
      "3의 개수 : 3\n",
      "4의 개수 : 1\n",
      "5의 개수 : 0\n",
      "6의 개수 : 2\n"
     ]
    }
   ],
   "source": [
    "import random\n",
    "# 1. 1 부터 6 사이의 숫자의 개수를 기억할 크기가 6인 리스트를 선언한다. => 기억장소를 모두 0으로 초기화시킨다.\n",
    "# count = [0, 0, 0, 0, 0, 0]\n",
    "# 2. 1 부터 6 사이의 숫자의 개수를 기억할 빈 리스트를 선언하고 append() 메소드로 0을 6번 추가한다.\n",
    "# count = []\n",
    "# for i in range(6):\n",
    "    # count.append(0)\n",
    "# 3. 0이 6번 반복되는 리스트를 만든다.\n",
    "count = [0 for i in range(6)]\n",
    "# print(count)\n",
    "\n",
    "for i in range(10):\n",
    "    dice = random.randrange(1, 7)\n",
    "    print(dice)\n",
    "    if dice == 1:\n",
    "        count[0] += 1\n",
    "    elif dice == 2:\n",
    "        count[1] += 1\n",
    "    elif dice == 3:\n",
    "        count[2] += 1\n",
    "    elif dice == 4:\n",
    "        count[3] += 1\n",
    "    elif dice == 5:\n",
    "        count[4] += 1\n",
    "    else:\n",
    "        count[5] += 1\n",
    "# ===== for i in range(10) 끝 =====\n",
    "print(\"1의 개수 : {}\".format(count[0]))\n",
    "print(\"2의 개수 : {}\".format(count[1]))\n",
    "print(\"3의 개수 : {}\".format(count[2]))\n",
    "print(\"4의 개수 : {}\".format(count[3]))\n",
    "print(\"5의 개수 : {}\".format(count[4]))\n",
    "print(\"6의 개수 : {}\".format(count[5]))"
   ]
  },
  {
   "cell_type": "code",
   "execution_count": 18,
   "metadata": {},
   "outputs": [
    {
     "name": "stdout",
     "output_type": "stream",
     "text": [
      "1의 개수 : 1\n",
      "2의 개수 : 1\n",
      "3의 개수 : 2\n",
      "4의 개수 : 3\n",
      "5의 개수 : 1\n",
      "6의 개수 : 2\n"
     ]
    }
   ],
   "source": [
    "import random\n",
    "count = [0 for i in range(6)]\n",
    "\n",
    "for i in range(10):\n",
    "    dice = random.randrange(1, 7)\n",
    "    # print(dice)\n",
    "    # 주사위의 눈(dice) - 1 번째 count 리스트의 요소를 1증가시킨다.\n",
    "    count[dice - 1] += 1\n",
    "# ===== for i in range(10) 끝 =====\n",
    "for i in range(6):\n",
    "    print(\"{0}의 개수 : {1}\".format(i + 1, count[i]))"
   ]
  },
  {
   "cell_type": "code",
   "execution_count": null,
   "metadata": {},
   "outputs": [],
   "source": []
  },
  {
   "cell_type": "code",
   "execution_count": null,
   "metadata": {},
   "outputs": [],
   "source": []
  },
  {
   "cell_type": "code",
   "execution_count": null,
   "metadata": {},
   "outputs": [],
   "source": []
  },
  {
   "cell_type": "code",
   "execution_count": null,
   "metadata": {},
   "outputs": [],
   "source": []
  },
  {
   "cell_type": "code",
   "execution_count": null,
   "metadata": {},
   "outputs": [],
   "source": []
  },
  {
   "cell_type": "code",
   "execution_count": null,
   "metadata": {},
   "outputs": [],
   "source": []
  }
 ],
 "metadata": {
  "kernelspec": {
   "display_name": "Python 3",
   "language": "python",
   "name": "python3"
  },
  "language_info": {
   "codemirror_mode": {
    "name": "ipython",
    "version": 3
   },
   "file_extension": ".py",
   "mimetype": "text/x-python",
   "name": "python",
   "nbconvert_exporter": "python",
   "pygments_lexer": "ipython3",
   "version": "3.7.4"
  }
 },
 "nbformat": 4,
 "nbformat_minor": 2
}
