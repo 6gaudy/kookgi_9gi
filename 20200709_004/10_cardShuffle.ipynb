{
 "cells": [
  {
   "cell_type": "code",
   "execution_count": 1,
   "metadata": {},
   "outputs": [],
   "source": [
    "import random"
   ]
  },
  {
   "cell_type": "code",
   "execution_count": 2,
   "metadata": {},
   "outputs": [],
   "source": [
    "# 카드 출력에 사용할 숫자와 무늬를 기억하는 리스트를 만든다.\n",
    "number = [\"A\", \"2\", \"3\", \"4\", \"5\", \"6\", \"7\", \"8\", \"9\", \"10\", \"J\", \"Q\", \"K\"]\n",
    "symbol = [\"♠\", \"◇\", \"♥\", \"♧\"]"
   ]
  },
  {
   "cell_type": "code",
   "execution_count": 69,
   "metadata": {},
   "outputs": [
    {
     "name": "stdout",
     "output_type": "stream",
     "text": [
      "♠A  ♠2  ♠3  ♠4  ♠5  ♠6  ♠7  ♠8  ♠9  ♠10 ♠J  ♠Q  ♠K  \n",
      "◇A  ◇2  ◇3  ◇4  ◇5  ◇6  ◇7  ◇8  ◇9  ◇10 ◇J  ◇Q  ◇K  \n",
      "♥A  ♥2  ♥3  ♥4  ♥5  ♥6  ♥7  ♥8  ♥9  ♥10 ♥J  ♥Q  ♥K  \n",
      "♧A  ♧2  ♧3  ♧4  ♧5  ♧6  ♧7  ♧8  ♧9  ♧10 ♧J  ♧Q  ♧K  \n",
      "================================================================================\n",
      "◇5  ♠6  ◇10 ♥A  ♧7  ♥K  ♥6  ♧5  ♠3  ♠9  ♠K  ♥4  ♧10 \n",
      "◇3  ◇Q  ◇J  ♥J  ♠7  ♠5  ♧8  ◇7  ♥8  ♠10 ♥9  ◇8  ♧3  \n",
      "◇9  ♧4  ◇4  ♧A  ♠8  ♥2  ♧K  ♧9  ◇A  ♠A  ♥3  ♥5  ♠J  \n",
      "♥Q  ♥7  ♧6  ♠Q  ♠4  ♥10 ◇6  ♧2  ♠2  ♧J  ◇2  ♧Q  ◇K  \n"
     ]
    }
   ],
   "source": [
    "# 0 ~ 51의 숫자가 채워진 리스트를 만든다. => 카드\n",
    "card = [i for i in range(52)]\n",
    "# print(card)\n",
    "\n",
    "# 섞기 전 상태를 출력한다. => card 리스트에 저장된 숫자를 한 줄어 13개씩 출력한다.\n",
    "for i in range(len(card)):\n",
    "    # print(\"{0:2d}\".format(card[i]), end = \" \")\n",
    "    # print(\"{0:2s}\".format(number[card[i] % 13]), end = \" \") # 숫자만\n",
    "    # print(\"{0:s}\".format(symbol[card[i] // 13]), end = \" \") # 무늬만\n",
    "    print(\"{0:s}{1:2s}\".format(symbol[card[i] // 13], number[card[i] % 13]), end = \" \")\n",
    "    if (i + 1) % 13 == 0:\n",
    "        print()\n",
    "print(\"=\" * 80)\n",
    "\n",
    "# 섞는다.\n",
    "# card[0]와 card[1] ~ card[51] 사이의 랜덤한 위치와 값을 교환한다.\n",
    "for i in range(1000000):\n",
    "    r = random.randrange(1, 52)\n",
    "    card[0], card[r] = card[r], card[0]\n",
    "    \n",
    "# 섞은 후 상태를 출력한다.\n",
    "for i in range(len(card)):\n",
    "    # print(\"{0:2d}\".format(card[i]), end = \" \")\n",
    "    # print(\"{0:2s}\".format(number[card[i] % 13]), end = \" \") # 숫자만\n",
    "    # print(\"{0:s}\".format(symbol[card[i] // 13]), end = \" \") # 무늬만\n",
    "    print(\"{0:s}{1:2s}\".format(symbol[card[i] // 13], number[card[i] % 13]), end = \" \")\n",
    "    if (i + 1) % 13 == 0:\n",
    "        print()"
   ]
  },
  {
   "cell_type": "code",
   "execution_count": null,
   "metadata": {},
   "outputs": [],
   "source": []
  },
  {
   "cell_type": "code",
   "execution_count": null,
   "metadata": {},
   "outputs": [],
   "source": []
  },
  {
   "cell_type": "code",
   "execution_count": null,
   "metadata": {},
   "outputs": [],
   "source": []
  },
  {
   "cell_type": "code",
   "execution_count": null,
   "metadata": {},
   "outputs": [],
   "source": []
  },
  {
   "cell_type": "code",
   "execution_count": null,
   "metadata": {},
   "outputs": [],
   "source": []
  },
  {
   "cell_type": "code",
   "execution_count": null,
   "metadata": {},
   "outputs": [],
   "source": []
  },
  {
   "cell_type": "code",
   "execution_count": null,
   "metadata": {},
   "outputs": [],
   "source": []
  },
  {
   "cell_type": "code",
   "execution_count": null,
   "metadata": {},
   "outputs": [],
   "source": []
  }
 ],
 "metadata": {
  "kernelspec": {
   "display_name": "Python 3",
   "language": "python",
   "name": "python3"
  },
  "language_info": {
   "codemirror_mode": {
    "name": "ipython",
    "version": 3
   },
   "file_extension": ".py",
   "mimetype": "text/x-python",
   "name": "python",
   "nbconvert_exporter": "python",
   "pygments_lexer": "ipython3",
   "version": "3.7.4"
  }
 },
 "nbformat": 4,
 "nbformat_minor": 2
}
