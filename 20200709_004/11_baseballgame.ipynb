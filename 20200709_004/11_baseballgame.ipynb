{
 "cells": [
  {
   "cell_type": "code",
   "execution_count": 1,
   "metadata": {},
   "outputs": [],
   "source": [
    "import random"
   ]
  },
  {
   "cell_type": "code",
   "execution_count": 2,
   "metadata": {},
   "outputs": [
    {
     "name": "stdout",
     "output_type": "stream",
     "text": [
      "레벨을 입력하세요(1 ~ 9) : 3\n",
      "[2, 7, 3]\n",
      "USER : 123\n",
      "1 스트라이크 1 볼\n",
      "USER : 732\n",
      "0 스트라이크 3 볼\n",
      "USER : 237\n",
      "1 스트라이크 2 볼\n",
      "USER : 273\n",
      "맞췄다 ==> [2, 7, 3]\n"
     ]
    }
   ],
   "source": [
    "# 1 ~ 9의 숫자가 채워진 리스트를 만든다.\n",
    "baseball = [i for i in range(1, 10)]\n",
    "# print(baseball)\n",
    "\n",
    "# 섞는다.\n",
    "# baseball[0]와 baseball[1] ~ baseball[51] 사이의 랜덤한 위치와 값을 교환한다.\n",
    "for i in range(1000000):\n",
    "    r = random.randrange(1, 9)\n",
    "    baseball[0], baseball[r] = baseball[r], baseball[0]\n",
    "# print(baseball)\n",
    "\n",
    "level = int(input(\"레벨을 입력하세요(1 ~ 9) : \"))\n",
    "'''\n",
    "for i in range(level):\n",
    "    print(baseball[i], end = \"\")\n",
    "print()\n",
    "'''\n",
    "cpu = baseball[:level]\n",
    "print(cpu)\n",
    "\n",
    "for i in range(100000000):\n",
    "    # 반복이 시작될 때 마다 스트라이크의 개수와 볼의 개수를 기억하는 변수를 선언하고 0으로 초기화시킨다.\n",
    "    s = 0\n",
    "    b = 0\n",
    "    # 컴퓨터가 숨겨놓은 숫자를 맞추기 위해 유저에게 입력을 받는다.\n",
    "    user = input(\"USER : \")\n",
    "    \n",
    "    # level 만큼 반복하며 스트라이크와 볼의 개수를 계산한다.\n",
    "    for i in range(level):\n",
    "        # 스트라이크\n",
    "        # str() 함수는 숫자를 문자열로 변환한다. <=> int(), float()\n",
    "        if str(cpu[i]) == user[i]:\n",
    "            s += 1\n",
    "        # 볼\n",
    "        # count() 메소드의 실행 결과가 1 이상이라면 user의 문자열이 cpu 리스트에 포함되어있다는 의미이다.\n",
    "        # if cpu.count(int(user[i])) >= 1:\n",
    "        if int(user[i]) in cpu:\n",
    "            b += 1\n",
    "    # ===== for i in range(level): 끝 =====\n",
    "    \n",
    "    # 스트라이크 개수와 level이 같으면 맞춘것이므로 반복을 탈출시킨다.\n",
    "    if s == level:\n",
    "        break # 반복문을 탈출시킨다.\n",
    "    print(\"{} 스트라이크 {} 볼\".format(s, b - s))\n",
    "# ===== for i in range(100000000): 끝 =====\n",
    "print(\"맞췄다 ==> {}\".format(cpu))"
   ]
  },
  {
   "cell_type": "code",
   "execution_count": null,
   "metadata": {},
   "outputs": [],
   "source": []
  },
  {
   "cell_type": "code",
   "execution_count": null,
   "metadata": {},
   "outputs": [],
   "source": []
  },
  {
   "cell_type": "code",
   "execution_count": null,
   "metadata": {},
   "outputs": [],
   "source": []
  },
  {
   "cell_type": "code",
   "execution_count": null,
   "metadata": {},
   "outputs": [],
   "source": []
  },
  {
   "cell_type": "code",
   "execution_count": null,
   "metadata": {},
   "outputs": [],
   "source": []
  },
  {
   "cell_type": "code",
   "execution_count": null,
   "metadata": {},
   "outputs": [],
   "source": []
  },
  {
   "cell_type": "code",
   "execution_count": null,
   "metadata": {},
   "outputs": [],
   "source": []
  }
 ],
 "metadata": {
  "kernelspec": {
   "display_name": "Python 3",
   "language": "python",
   "name": "python3"
  },
  "language_info": {
   "codemirror_mode": {
    "name": "ipython",
    "version": 3
   },
   "file_extension": ".py",
   "mimetype": "text/x-python",
   "name": "python",
   "nbconvert_exporter": "python",
   "pygments_lexer": "ipython3",
   "version": "3.7.4"
  }
 },
 "nbformat": 4,
 "nbformat_minor": 2
}
