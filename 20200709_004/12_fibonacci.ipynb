{
 "cells": [
  {
   "cell_type": "markdown",
   "metadata": {},
   "source": [
    "피보나치 수열의 n번째 항의 값은 n-2 번째 항의 값과 n-1 번째 항의 값을 더한 값이다.  \n",
    "P = 1 + 1 + 2 + 3 + 5 + 8 + 13 + 21 + ..."
   ]
  },
  {
   "cell_type": "markdown",
   "metadata": {},
   "source": [
    "키보드로 피보나치 수열의 합계를 계산할 항(n)을 입력받아 n 번째 항 까지 피보나치 수열의 합계를 계산해 출력하는 프로그램  \n",
    "1번째 항과 2번째 항의 합계는 이미 계산되어있다고 가정하고 3번째 항 부터 n번째 항 까지 반복하며 수열의 합계를 계산한다."
   ]
  },
  {
   "cell_type": "code",
   "execution_count": 2,
   "metadata": {},
   "outputs": [
    {
     "name": "stdout",
     "output_type": "stream",
     "text": [
      "피보나치 수열의 합계를 계산할 항을 입력하세요 : 6\n",
      "피보나치 수열의 6 번째 항 까지의 합계 = 20\n"
     ]
    }
   ],
   "source": [
    "a = 1 # 첫 번째 항의 값 초기화, 피보나치 수열의 n-2 번째 항의 값\n",
    "b = 1 # 두 번째 항의 값 초기화, 피보나치 수열의 n-1 번째 항의 값\n",
    "y = 2 # 첫 번째 항의 값과 두 번째 항의 합계, n 번째 항 까지 피보나치 수열의 합계를 기억할 변수\n",
    "\n",
    "# 피보나치 수열의 합계를 계산할 항(n)을 입력받는다.\n",
    "n = int(input(\"피보나치 수열의 합계를 계산할 항을 입력하세요 : \"))\n",
    "\n",
    "# 1번째 항과 2번째 항은 이미 계산이 되어있다는 가정하에 작업을 하므로 3번째 항 부터 n번째 항 까지 반복하며 합계를 계산한다.\n",
    "for k in range(3, n + 1, 1):\n",
    "    c = a + b\n",
    "    y += c\n",
    "    # 다음 항의 값을 계산하기 위해 n-2 번째 항의 값(a)을 n-1 번째 항의 값(b)으로 넣어주고 n-1 번째 항의 값(b)에 n 번째 항의 값(c)을 넣어준다.\n",
    "    a = b\n",
    "    b = c\n",
    "# ===== for k in range(3, n + 1, 1): 끝 =====\n",
    "print(\"피보나치 수열의 {} 번째 항 까지의 합계 = {}\".format(n, y))"
   ]
  },
  {
   "cell_type": "code",
   "execution_count": 10,
   "metadata": {},
   "outputs": [
    {
     "name": "stdout",
     "output_type": "stream",
     "text": [
      "피보나치 수열의 합계를 계산할 항을 입력하세요 : 7\n",
      "[1, 1, 2, 3, 5, 8, 13] 33\n",
      "피보나치 수열의 7 번째 항 까지의 합계 : 33 = 1 + 1 + 2 + 3 + 5 + 8 + 13\n",
      "피보나치 수열의 7 번째 항 까지의 합계 : 33 = 1 + 1 + 2 + 3 + 5 + 8 + 13"
     ]
    }
   ],
   "source": [
    "p = [1, 1] # 피보나치 수열의 첫 번째 항과 두 번째 항의 값을 기억하는 리스트를 만든다.\n",
    "y = 2\n",
    "n = int(input(\"피보나치 수열의 합계를 계산할 항을 입력하세요 : \"))\n",
    "for k in range(2, n, 1):\n",
    "    p.append(p[k - 2] + p[k - 1])\n",
    "    y += p[k]\n",
    "# ===== for k in range(3, n + 1, 1): 끝 =====\n",
    "print(p, y)\n",
    "print(\"피보나치 수열의 {} 번째 항 까지의 합계 : {} = \".format(n, y), end = \"\")\n",
    "for i in range(len(p) - 1):\n",
    "    print(p[i], end = \" + \")\n",
    "print(p[-1])\n",
    "# ===========================================\n",
    "print(\"피보나치 수열의 {} 번째 항 까지의 합계 : {} = \".format(n, y), end = \"\")\n",
    "for i in range(len(p)):\n",
    "    if i > 0:\n",
    "        print(\" + \", end = \"\")\n",
    "    print(p[i], end = \"\")"
   ]
  },
  {
   "cell_type": "code",
   "execution_count": null,
   "metadata": {},
   "outputs": [],
   "source": []
  },
  {
   "cell_type": "code",
   "execution_count": null,
   "metadata": {},
   "outputs": [],
   "source": []
  },
  {
   "cell_type": "code",
   "execution_count": null,
   "metadata": {},
   "outputs": [],
   "source": []
  },
  {
   "cell_type": "code",
   "execution_count": null,
   "metadata": {},
   "outputs": [],
   "source": []
  },
  {
   "cell_type": "code",
   "execution_count": null,
   "metadata": {},
   "outputs": [],
   "source": []
  },
  {
   "cell_type": "code",
   "execution_count": null,
   "metadata": {},
   "outputs": [],
   "source": []
  },
  {
   "cell_type": "code",
   "execution_count": null,
   "metadata": {},
   "outputs": [],
   "source": []
  }
 ],
 "metadata": {
  "kernelspec": {
   "display_name": "Python 3",
   "language": "python",
   "name": "python3"
  },
  "language_info": {
   "codemirror_mode": {
    "name": "ipython",
    "version": 3
   },
   "file_extension": ".py",
   "mimetype": "text/x-python",
   "name": "python",
   "nbconvert_exporter": "python",
   "pygments_lexer": "ipython3",
   "version": "3.7.4"
  }
 },
 "nbformat": 4,
 "nbformat_minor": 2
}
