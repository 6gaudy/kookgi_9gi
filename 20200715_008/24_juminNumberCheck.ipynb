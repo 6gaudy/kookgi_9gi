{
 "cells": [
  {
   "cell_type": "markdown",
   "metadata": {},
   "source": [
    "주민등록번호 유효성 검사  \n",
    "주민등록번호의 각 자리 숫자와 가중치를 곱한 합계를 계산한다.  \n",
    "위의 결과를 11로 나눈 나머지를 계산해서 11에서 뺀다.  \n",
    "11에서 나머지를 뺀 결과가 2자리 숫자가 나오면 10의 자리는 버리고 1의 자리만 취한다.  \n",
    "1의 자리가 주민등록번호의 마지막 자리와 같으면 정상인 주민등록번호이고 다르면 오류가 있는 주민등록번호이다."
   ]
  },
  {
   "cell_type": "code",
   "execution_count": 7,
   "metadata": {},
   "outputs": [
    {
     "data": {
      "image/png": "[encoded data removed]",
      "text/plain": [
       "<IPython.core.display.Image object>"
      ]
     },
     "execution_count": 7,
     "metadata": {
      "image/png": {
       "width": 900
      }
     },
     "output_type": "execute_result"
    }
   ],
   "source": [
    "from IPython.display import Image # jupyter notebook에 이미지를 표시할 수 있다.\n",
    "Image(\"./data/주민등록번호유효성검사.png\", width = 900)"
   ]
  },
  {
   "cell_type": "code",
   "execution_count": 14,
   "metadata": {},
   "outputs": [
    {
     "name": "stdout",
     "output_type": "stream",
     "text": [
      "주민등록번호 13자리를 '-'없이 입력하세요 : 8304221185601\n",
      "143\n",
      "정상\n"
     ]
    }
   ],
   "source": [
    "check = \"234567892345\" # 가중치\n",
    "jumin = input(\"주민등록번호 13자리를 '-'없이 입력하세요 : \")\n",
    "\n",
    "# 주민등록번호의 각 자리 숫자와 가중치의 각 자리 숫자를 곱한 합계를 계산한다.\n",
    "total = 0\n",
    "for i in range(12):\n",
    "    total += int(jumin[i]) * int(check[i])\n",
    "print(total)\n",
    "\n",
    "result = (11 - total % 11) % 10\n",
    "# if result == int(jumin[12]):\n",
    "if str(result) == jumin[12]:\n",
    "    print(\"정상\")\n",
    "else:\n",
    "    print(\"오류\")"
   ]
  },
  {
   "cell_type": "code",
   "execution_count": 18,
   "metadata": {},
   "outputs": [
    {
     "name": "stdout",
     "output_type": "stream",
     "text": [
      "주민등록번호 13자리를 '-'없이 입력하세요 : 8304221185601\n",
      "143\n",
      "정상\n"
     ]
    }
   ],
   "source": [
    "jumin = input(\"주민등록번호 13자리를 '-'없이 입력하세요 : \")\n",
    "\n",
    "total = 0\n",
    "for i in range(12):\n",
    "    total += int(jumin[i]) * (i + 2 if i < 8 else i - 6)\n",
    "print(total)\n",
    "\n",
    "result = (11 - total % 11) % 10\n",
    "'''\n",
    "if str(result) == jumin[12]:\n",
    "    print(\"정상\")\n",
    "else:\n",
    "    print(\"오류\")\n",
    "'''\n",
    "print(\"{}\".format(\"정상\" if str(result) == jumin[12] else \"오류\"))"
   ]
  },
  {
   "cell_type": "code",
   "execution_count": 20,
   "metadata": {},
   "outputs": [
    {
     "name": "stdout",
     "output_type": "stream",
     "text": [
      "주민등록번호 13자리를 '-'없이 입력하세요 : 8304221185601\n",
      "143\n",
      "정상\n"
     ]
    }
   ],
   "source": [
    "jumin = input(\"주민등록번호 13자리를 '-'없이 입력하세요 : \")\n",
    "\n",
    "total = 0\n",
    "for i in range(12):\n",
    "    total += int(jumin[i]) * (i % 8 + 2)\n",
    "print(total)\n",
    "\n",
    "result = (11 - total % 11) % 10\n",
    "print(\"{}\".format(\"정상\" if str(result) == jumin[12] else \"오류\"))"
   ]
  },
  {
   "cell_type": "code",
   "execution_count": null,
   "metadata": {},
   "outputs": [],
   "source": []
  },
  {
   "cell_type": "code",
   "execution_count": null,
   "metadata": {},
   "outputs": [],
   "source": []
  },
  {
   "cell_type": "code",
   "execution_count": null,
   "metadata": {},
   "outputs": [],
   "source": []
  },
  {
   "cell_type": "code",
   "execution_count": null,
   "metadata": {},
   "outputs": [],
   "source": []
  },
  {
   "cell_type": "code",
   "execution_count": null,
   "metadata": {},
   "outputs": [],
   "source": []
  },
  {
   "cell_type": "code",
   "execution_count": null,
   "metadata": {},
   "outputs": [],
   "source": []
  },
  {
   "cell_type": "code",
   "execution_count": null,
   "metadata": {},
   "outputs": [],
   "source": []
  },
  {
   "cell_type": "code",
   "execution_count": null,
   "metadata": {},
   "outputs": [],
   "source": []
  }
 ],
 "metadata": {
  "kernelspec": {
   "display_name": "Python 3",
   "language": "python",
   "name": "python3"
  },
  "language_info": {
   "codemirror_mode": {
    "name": "ipython",
    "version": 3
   },
   "file_extension": ".py",
   "mimetype": "text/x-python",
   "name": "python",
   "nbconvert_exporter": "python",
   "pygments_lexer": "ipython3",
   "version": "3.7.4"
  }
 },
 "nbformat": 4,
 "nbformat_minor": 2
}
