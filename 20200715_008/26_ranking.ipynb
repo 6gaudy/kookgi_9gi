{
 "cells": [
  {
   "cell_type": "markdown",
   "metadata": {},
   "source": [
    "선택 정렬의 반복 알고리즘을 이용해 내림차순(큰 점수가 1등) 석차를 계산하는 프로그램"
   ]
  },
  {
   "cell_type": "code",
   "execution_count": 24,
   "metadata": {},
   "outputs": [
    {
     "name": "stdout",
     "output_type": "stream",
     "text": [
      " 75점은 4등 입니다.\n",
      " 94점은 2등 입니다.\n",
      " 89점은 3등 입니다.\n",
      " 95점은 1등 입니다.\n",
      " 62점은 5등 입니다.\n"
     ]
    }
   ],
   "source": [
    "score = [75, 94, 89, 95, 62]\n",
    "# 석차를 기억할 리스트를 만든다. => 석차를 기억하는 기억장소의 초기치는 무조건 1로 한다.\n",
    "# rank = [1, 1, 1, 1, 1]\n",
    "rank = [1 for i in range(len(score))]\n",
    "# print(rank)\n",
    "\n",
    "for i in range(len(score) - 1):\n",
    "    for j in range(i + 1, len(score), 1):\n",
    "        # i번째 점수가 크면 j번째 석차를 1증가 시키고 j번째 점수가 크면 i번째 석차를 1증가 시킨다.\n",
    "        # 부등호 방향을 모두 반대로 변경하면 오름차순(작은 점수가 1등) 석차가 계산된다.\n",
    "        if score[i] > score[j]:\n",
    "            rank[j] += 1\n",
    "        elif score[i] < score[j]:\n",
    "            rank[i] += 1\n",
    "    # ===== for j in range(i + 1, len(score), 1): 끝 =====\n",
    "# ===== for i in range(len(score) - 1): 끝 =====\n",
    "            \n",
    "for i in range(len(score)):\n",
    "    print(\"{0:3d}점은 {1}등 입니다.\".format(score[i], rank[i]))"
   ]
  },
  {
   "cell_type": "code",
   "execution_count": 28,
   "metadata": {},
   "outputs": [
    {
     "name": "stdout",
     "output_type": "stream",
     "text": [
      " 75점은 4등 입니다.★★★★★★★☆\n",
      " 94점은 2등 입니다.★★★★★★★★★\n",
      " 89점은 3등 입니다.★★★★★★★★☆\n",
      " 95점은 1등 입니다.★★★★★★★★★☆\n",
      " 62점은 5등 입니다.★★★★★★\n"
     ]
    }
   ],
   "source": [
    "# 점수와 석차를 출력하고 별점을 부여한다.\n",
    "for i in range(len(score)):\n",
    "    print(\"{0:3d}점은 {1}등 입니다.\".format(score[i], rank[i]), end = \"\")\n",
    "    # 10점당 \"★\"을 1개씩 가로 방향으로 출력한다.\n",
    "    '''\n",
    "    for j in range(score[i] // 10):\n",
    "        print(\"★\", end = \"\")\n",
    "    print()\n",
    "    '''\n",
    "    print(\"★\" * (score[i] // 10), end = \"\")\n",
    "    # 1자리의 점수가 5점 이상이면 \"☆\"을 출력한다.\n",
    "    '''\n",
    "    if score[i] % 10 >= 5:\n",
    "        print(\"☆\", end = \"\")\n",
    "    print()\n",
    "    '''\n",
    "    print(\"☆\" if score[i] % 10 >= 5 else \"\")"
   ]
  },
  {
   "cell_type": "markdown",
   "metadata": {},
   "source": [
    "10점 마다 \"★\"를 1개씩 세로로 출력한다."
   ]
  },
  {
   "cell_type": "code",
   "execution_count": 45,
   "metadata": {},
   "outputs": [
    {
     "name": "stdout",
     "output_type": "stream",
     "text": [
      "100 │                  ☆       \n",
      " 90 │        ★    ☆    ★       \n",
      " 80 │   ☆    ★    ★    ★       \n",
      " 70 │   ★    ★    ★    ★       \n",
      " 60 │   ★    ★    ★    ★    ★  \n",
      " 50 │   ★    ★    ★    ★    ★  \n",
      " 40 │   ★    ★    ★    ★    ★  \n",
      " 30 │   ★    ★    ★    ★    ★  \n",
      " 20 │   ★    ★    ★    ★    ★  \n",
      " 10 │   ★    ★    ★    ★    ★  \n",
      "  0 └──────────────────────────\n",
      "       75   94   89   95   62 "
     ]
    }
   ],
   "source": [
    "for i in range(10, 0, -1):\n",
    "    print(\"%3d │ \" % (i * 10), end = \"\")\n",
    "    for s in score:\n",
    "        if s // 10 >= i:\n",
    "            print(\"  ★  \", end = \"\")\n",
    "        elif s + 5 >= i * 10:\n",
    "            print(\"  ☆  \", end = \"\")\n",
    "        else:\n",
    "            print(\"     \", end = \"\")\n",
    "    print()\n",
    "    \n",
    "print(\"  0 └\", end = \"\")\n",
    "print(\"─\" * 26)\n",
    "print(\"     \", end = \"\")\n",
    "for i in score:\n",
    "    print(\" %3d \" % i, end = \"\")\n",
    "    "
   ]
  },
  {
   "cell_type": "code",
   "execution_count": 49,
   "metadata": {},
   "outputs": [
    {
     "name": "stdout",
     "output_type": "stream",
     "text": [
      "a b a b\n"
     ]
    }
   ],
   "source": [
    "print(\"a\", \"b\", sep=\" \", end=\" \")\n",
    "print(\"a\", \"b\")"
   ]
  },
  {
   "cell_type": "code",
   "execution_count": 53,
   "metadata": {},
   "outputs": [
    {
     "name": "stdout",
     "output_type": "stream",
     "text": [
      "주민등록번호 13자리를 입력하세요 : 830422-1185600\n",
      "<class 'list'>\n",
      "8304221185600\n"
     ]
    }
   ],
   "source": [
    "jumin = input(\"주민등록번호 13자리를 입력하세요 : \").split(\"-\")\n",
    "print(type(jumin))\n",
    "print(jumin[0], jumin[1], sep=\"\")"
   ]
  },
  {
   "cell_type": "code",
   "execution_count": null,
   "metadata": {},
   "outputs": [],
   "source": []
  },
  {
   "cell_type": "code",
   "execution_count": null,
   "metadata": {},
   "outputs": [],
   "source": []
  },
  {
   "cell_type": "code",
   "execution_count": null,
   "metadata": {},
   "outputs": [],
   "source": []
  },
  {
   "cell_type": "code",
   "execution_count": null,
   "metadata": {},
   "outputs": [],
   "source": []
  },
  {
   "cell_type": "code",
   "execution_count": null,
   "metadata": {},
   "outputs": [],
   "source": []
  },
  {
   "cell_type": "code",
   "execution_count": null,
   "metadata": {},
   "outputs": [],
   "source": []
  },
  {
   "cell_type": "code",
   "execution_count": null,
   "metadata": {},
   "outputs": [],
   "source": []
  },
  {
   "cell_type": "code",
   "execution_count": null,
   "metadata": {},
   "outputs": [],
   "source": []
  }
 ],
 "metadata": {
  "kernelspec": {
   "display_name": "Python 3",
   "language": "python",
   "name": "python3"
  },
  "language_info": {
   "codemirror_mode": {
    "name": "ipython",
    "version": 3
   },
   "file_extension": ".py",
   "mimetype": "text/x-python",
   "name": "python",
   "nbconvert_exporter": "python",
   "pygments_lexer": "ipython3",
   "version": "3.7.4"
  }
 },
 "nbformat": 4,
 "nbformat_minor": 2
}
