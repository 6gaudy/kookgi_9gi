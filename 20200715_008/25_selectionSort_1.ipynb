{
 "cells": [
  {
   "cell_type": "markdown",
   "metadata": {},
   "source": [
    "selection sort(선택 정렬) 알고리즘  \n",
    "선택 정렬은 i번째 데이터를 선택해서 나머지 데이터(j번째)와 비교하며 정렬한다.  \n",
    "정렬할 데이터가 n개일 경우 회전수는 n-1번이 된다. => 데이터가 5개면 회전수는 4번이다.  \n",
    "데이터의 개수가 5개일 때 데이터가 선택되는 위치(i)와 선택된 데이터와 비교하는 위치(j)의 변화는 아래와 같다.  \n",
    "i&nbsp;&nbsp;&nbsp;&nbsp;&nbsp;&nbsp;&nbsp;&nbsp;&nbsp;j  \n",
    "0&nbsp;&nbsp;&nbsp;&nbsp;1, 2, 3, 4  \n",
    "1&nbsp;&nbsp;&nbsp;&nbsp;&nbsp;&nbsp;&nbsp;2, 3, 4  \n",
    "2&nbsp;&nbsp;&nbsp;&nbsp;&nbsp;&nbsp;&nbsp;&nbsp;&nbsp;&nbsp;3, 4  \n",
    "3&nbsp;&nbsp;&nbsp;&nbsp;&nbsp;&nbsp;&nbsp;&nbsp;&nbsp;&nbsp;&nbsp;&nbsp;&nbsp;4"
   ]
  },
  {
   "cell_type": "code",
   "execution_count": 1,
   "metadata": {},
   "outputs": [],
   "source": [
    "def selectionSortAsc(data):\n",
    "    for i in range(len(data) - 1): # 회전수, 데이터 선택 위치\n",
    "        for j in range(i + 1, len(data), 1): # 선택된 데이터와 비교 대상 데이터의 위치\n",
    "            # print(\"i = {}, j = {}\".format(i, j))\n",
    "            # 오름차순 정렬 => 앞(i번째)의 데이터가 뒤(j번째)의 데이터 보다 크면 두 기억장소의 데이터를 교환한다.\n",
    "            # 부등호를 \">\"에서 \"<\"로 변경하면 내림차순으로 정렬된다.\n",
    "            if data[i] > data[j]:\n",
    "                data[i], data[j] = data[j], data[i]\n",
    "        # ===== for j in range(i + 1, 5, 1): 끝 => 회전 종료 =====\n",
    "        # print(\"{}회전 결과 : {}\".format(i + 1, data))\n",
    "    # ===== for i in range(4): 끝 => 정렬 종료 =====\n",
    "    # print(\"정렬 결과 : {}\".format(data))\n",
    "    return data"
   ]
  },
  {
   "cell_type": "code",
   "execution_count": 2,
   "metadata": {},
   "outputs": [],
   "source": [
    "def selectionSortDesc(data):\n",
    "    for i in range(len(data) - 1):\n",
    "        for j in range(i + 1, len(data), 1):\n",
    "            if data[i] < data[j]:\n",
    "                data[i], data[j] = data[j], data[i]\n",
    "    return data"
   ]
  },
  {
   "cell_type": "code",
   "execution_count": 3,
   "metadata": {},
   "outputs": [
    {
     "name": "stdout",
     "output_type": "stream",
     "text": [
      "오름차순 정렬 결과 : [1, 3, 4, 8, 9]\n",
      "내림차순 정렬 결과 : [9, 8, 4, 3, 1]\n"
     ]
    }
   ],
   "source": [
    "if __name__ == \"__main__\":\n",
    "    data = [8, 3, 4, 9, 1]\n",
    "    result = selectionSortAsc(data)\n",
    "    print(\"오름차순 정렬 결과 : {}\".format(result))\n",
    "    result = selectionSortDesc(data)\n",
    "    print(\"내림차순 정렬 결과 : {}\".format(result))"
   ]
  },
  {
   "cell_type": "code",
   "execution_count": null,
   "metadata": {},
   "outputs": [],
   "source": []
  },
  {
   "cell_type": "code",
   "execution_count": null,
   "metadata": {},
   "outputs": [],
   "source": []
  },
  {
   "cell_type": "code",
   "execution_count": null,
   "metadata": {},
   "outputs": [],
   "source": []
  },
  {
   "cell_type": "code",
   "execution_count": null,
   "metadata": {},
   "outputs": [],
   "source": []
  },
  {
   "cell_type": "code",
   "execution_count": null,
   "metadata": {},
   "outputs": [],
   "source": []
  },
  {
   "cell_type": "code",
   "execution_count": null,
   "metadata": {},
   "outputs": [],
   "source": []
  }
 ],
 "metadata": {
  "kernelspec": {
   "display_name": "Python 3",
   "language": "python",
   "name": "python3"
  },
  "language_info": {
   "codemirror_mode": {
    "name": "ipython",
    "version": 3
   },
   "file_extension": ".py",
   "mimetype": "text/x-python",
   "name": "python",
   "nbconvert_exporter": "python",
   "pygments_lexer": "ipython3",
   "version": "3.7.4"
  }
 },
 "nbformat": 4,
 "nbformat_minor": 2
}
