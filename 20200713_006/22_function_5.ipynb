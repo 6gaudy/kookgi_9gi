{
 "cells": [
  {
   "cell_type": "code",
   "execution_count": 24,
   "metadata": {},
   "outputs": [],
   "source": [
    "# 디폴트 인수를 사용하는 함수로 가변 인자를 가지는 함수를 흉내낼 수 있지만 인수의 개수가 많아지면 비효율적이다.\n",
    "# def func5(a = 0, b = 0, c = 0, d = 0, e = 0, f = 0, g = 0):\n",
    "    # print(\"{}\".format(a + b + c + d + e + f + g))\n",
    "    \n",
    "# 가변 인자를 가지는 함수 => 인수의 개수가 가변적인 함수 => 가변 인자는 \"*변수이름\" 형태로 표현한다. => 가변 인자로 넘어오는 데이터는 튜플로 받는다.\n",
    "# 가변 인자는 맨 마지막에 딱 1번만 나와야 한다.\n",
    "def func5(*args):\n",
    "    # print(type(args))\n",
    "    # print(args)\n",
    "    total = 0\n",
    "    for arg in args:\n",
    "        total += arg\n",
    "    print(total)"
   ]
  },
  {
   "cell_type": "code",
   "execution_count": 25,
   "metadata": {},
   "outputs": [
    {
     "name": "stdout",
     "output_type": "stream",
     "text": [
      "1\n",
      "3\n",
      "6\n",
      "10\n",
      "15\n",
      "21\n",
      "28\n",
      "120\n"
     ]
    }
   ],
   "source": [
    "func5(1)\n",
    "func5(1, 2)\n",
    "func5(1, 2, 3)\n",
    "func5(1, 2, 3, 4)\n",
    "func5(1, 2, 3, 4, 5)\n",
    "func5(1, 2, 3, 4, 5, 6)\n",
    "func5(1, 2, 3, 4, 5, 6, 7)\n",
    "func5(1, 2, 3, 4, 5, 6, 7, 8, 9, 10, 11, 12, 13, 14, 15)"
   ]
  },
  {
   "cell_type": "code",
   "execution_count": null,
   "metadata": {},
   "outputs": [],
   "source": []
  }
 ],
 "metadata": {
  "kernelspec": {
   "display_name": "Python 3",
   "language": "python",
   "name": "python3"
  },
  "language_info": {
   "codemirror_mode": {
    "name": "ipython",
    "version": 3
   },
   "file_extension": ".py",
   "mimetype": "text/x-python",
   "name": "python",
   "nbconvert_exporter": "python",
   "pygments_lexer": "ipython3",
   "version": "3.7.4"
  }
 },
 "nbformat": 4,
 "nbformat_minor": 2
}
