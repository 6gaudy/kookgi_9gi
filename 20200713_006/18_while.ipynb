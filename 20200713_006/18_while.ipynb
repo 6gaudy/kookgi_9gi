{
 "cells": [
  {
   "cell_type": "markdown",
   "metadata": {},
   "source": [
    "while은 조건이 참인동안 반복하고 조건이 거짓이 되는 순간 반복이 종료되고 while로 최초 진입 조건이 거짓이면 한 번도 반복을 실행하지 않는다.  \n",
    "반복을 하기는 해야겠는데 몇 번 반복해야하나 반복 횟수를 정확히 모를 때 사용한다."
   ]
  },
  {
   "cell_type": "markdown",
   "metadata": {},
   "source": [
    "while 조건식:  \n",
    "&nbsp;&nbsp;&nbsp;&nbsp;조건식이 참일 경우 실행할 문장  \n",
    "&nbsp;&nbsp;&nbsp;&nbsp;..."
   ]
  },
  {
   "cell_type": "code",
   "execution_count": 1,
   "metadata": {},
   "outputs": [
    {
     "name": "stdout",
     "output_type": "stream",
     "text": [
      "5050\n",
      "5050\n"
     ]
    }
   ],
   "source": [
    "# 1 부터 100 까지의 합계\n",
    "total = 0\n",
    "for i in range(1, 101, 1):\n",
    "    total += i\n",
    "print(total)\n",
    "\n",
    "i = 0\n",
    "total = 0\n",
    "while i < 100: # 조건에 True를 입력하면 무한 루프(끝이 없는 반복)가 되므로 반드시 중간에 break 명령으로 반복을 탈출시켜야 한다.\n",
    "    i += 1\n",
    "    total += i\n",
    "print(total)"
   ]
  },
  {
   "cell_type": "code",
   "execution_count": 16,
   "metadata": {},
   "outputs": [
    {
     "name": "stdout",
     "output_type": "stream",
     "text": [
      "========================================\n",
      " 1.입력  2.보기  3.수정  4.삭제  5.종료 \n",
      "========================================\n",
      "원하는 메뉴를 입력하세요 : 1\n",
      "입력 작업\n",
      "========================================\n",
      " 1.입력  2.보기  3.수정  4.삭제  5.종료 \n",
      "========================================\n",
      "원하는 메뉴를 입력하세요 : 2\n",
      "보기 작업\n",
      "========================================\n",
      " 1.입력  2.보기  3.수정  4.삭제  5.종료 \n",
      "========================================\n",
      "원하는 메뉴를 입력하세요 : 3\n",
      "수정 작업\n",
      "========================================\n",
      " 1.입력  2.보기  3.수정  4.삭제  5.종료 \n",
      "========================================\n",
      "원하는 메뉴를 입력하세요 : 4\n",
      "삭제 작업\n",
      "========================================\n",
      " 1.입력  2.보기  3.수정  4.삭제  5.종료 \n",
      "========================================\n",
      "원하는 메뉴를 입력하세요 : 0\n",
      "메뉴는 1 부터 5 사이의 값만 입력해야 합니다.\n",
      "========================================\n",
      " 1.입력  2.보기  3.수정  4.삭제  5.종료 \n",
      "========================================\n",
      "원하는 메뉴를 입력하세요 : 6\n",
      "메뉴는 1 부터 5 사이의 값만 입력해야 합니다.\n",
      "========================================\n",
      " 1.입력  2.보기  3.수정  4.삭제  5.종료 \n",
      "========================================\n",
      "원하는 메뉴를 입력하세요 : 5\n",
      "프로그램을 종료합니다. 바이바이~~~~~\n"
     ]
    }
   ],
   "source": [
    "# while 명령의 조건이 항상 참이라면 무한 루프가 된다.\n",
    "# 의도적으로 무한 루프를 발생시켰다면 반드시 무한 루프를 탈출하는 처리를 해야한다. => 반복 탈출 시 break 명령을 사용한다.\n",
    "menu = 0\n",
    "while menu != 5:\n",
    "    while True: # 의도한 무한 루프\n",
    "        print(\"=\" * 40)\n",
    "        print(\" 1.입력  2.보기  3.수정  4.삭제  5.종료 \")\n",
    "        print(\"=\" * 40)\n",
    "        menu = int(input(\"원하는 메뉴를 입력하세요 : \"))\n",
    "        \n",
    "        # 메뉴가 1 부터 5 사이의 값이 입력되었다면 무한 루프를 탈출한다.\n",
    "        # if menu >= 1 and menu <= 5:\n",
    "        # if 1 <= menu <= 5:\n",
    "        if menu in [i for i in range(1, 6)]:\n",
    "            break # 반복문의 실행을 중지시킨다. 반복을 탈출한다. <=> continue => 남은 문장을 실행하지 않고 다시 반복을 실행한다.\n",
    "        else:\n",
    "            print(\"메뉴는 1 부터 5 사이의 값만 입력해야 합니다.\")\n",
    "    # ===== while True: 끝 =====\n",
    "\n",
    "    # 여기까지 넘어왔으면 menu에는 1 부터 5 사이의 정수가 입력된것이다.\n",
    "    if menu == 1:\n",
    "        print(\"입력 작업\")\n",
    "    elif menu == 2:\n",
    "        print(\"보기 작업\")\n",
    "    elif menu == 3:\n",
    "        print(\"수정 작업\")\n",
    "    elif menu == 4:\n",
    "        print(\"삭제 작업\")\n",
    "# ===== while menu != 5: 끝 =====\n",
    "print(\"프로그램을 종료합니다. 바이바이~~~~~\")"
   ]
  },
  {
   "cell_type": "code",
   "execution_count": null,
   "metadata": {},
   "outputs": [],
   "source": []
  },
  {
   "cell_type": "code",
   "execution_count": null,
   "metadata": {},
   "outputs": [],
   "source": []
  },
  {
   "cell_type": "code",
   "execution_count": null,
   "metadata": {},
   "outputs": [],
   "source": []
  },
  {
   "cell_type": "code",
   "execution_count": null,
   "metadata": {},
   "outputs": [],
   "source": []
  },
  {
   "cell_type": "code",
   "execution_count": null,
   "metadata": {},
   "outputs": [],
   "source": []
  },
  {
   "cell_type": "code",
   "execution_count": null,
   "metadata": {},
   "outputs": [],
   "source": []
  },
  {
   "cell_type": "code",
   "execution_count": null,
   "metadata": {},
   "outputs": [],
   "source": []
  }
 ],
 "metadata": {
  "kernelspec": {
   "display_name": "Python 3",
   "language": "python",
   "name": "python3"
  },
  "language_info": {
   "codemirror_mode": {
    "name": "ipython",
    "version": 3
   },
   "file_extension": ".py",
   "mimetype": "text/x-python",
   "name": "python",
   "nbconvert_exporter": "python",
   "pygments_lexer": "ipython3",
   "version": "3.7.4"
  }
 },
 "nbformat": 4,
 "nbformat_minor": 2
}
