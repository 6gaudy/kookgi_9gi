{
 "cells": [
  {
   "cell_type": "markdown",
   "metadata": {},
   "source": [
    "유클리드 호제법 => 최대공약수, 최소공배수  \n",
    "숫자 2개를 입력받아 큰수와 작은수를 구분한다.  \n",
    "큰수를 작은수로 나눈 나머지가 0이면 작은수가 최대공약수가 되고 큰수를 작은수로 나눈 나머지가 0이 아니면 큰수를 기억하는 기억장소에 작은수를 작은수를 기억하는 기억장소에 나머지를 넣어준 후 작업을 반복한다.  \n",
    "최대공약수가 계산되면 입력받은 숫자 2개를 곱한 결과를 최대공약수로 나눠주면 최소공배수를 얻을 수 있다."
   ]
  },
  {
   "cell_type": "code",
   "execution_count": 5,
   "metadata": {},
   "outputs": [
    {
     "name": "stdout",
     "output_type": "stream",
     "text": [
      "숫자 2개를 입력하세요 : 6 9\n",
      "최대공약수 : 3, 최소공배수 : 18\n"
     ]
    }
   ],
   "source": [
    "# 숫자 2개를 입력받아 큰수, 작은수를 판단한다.\n",
    "a, b = map(int, input(\"숫자 2개를 입력하세요 : \").split())\n",
    "if a > b:\n",
    "    high = a; low = b\n",
    "else:\n",
    "    high = b; low = a\n",
    "    \n",
    "while True:\n",
    "    r = high % low # 큰수를 작은수로 나눈 나머지를 계산한다.\n",
    "    if r == 0:     # 무한 루프 종료 조건\n",
    "        break      # 무한 루프를 탈출한다.\n",
    "    # ===== if r == 0: 끝 =====\n",
    "    high = low     # 큰수를 기억하는 기억장소에 작은수를 넣어준다.\n",
    "    low = r        # 작은수를 기억하는 기억장소에 나머지를 넣어준다.\n",
    "# ===== while True: 끝 =====\n",
    "\n",
    "# 최소공배수를 계산하고 최대공약수와 최소공배수를 출력한다.\n",
    "print(\"최대공약수 : {}, 최소공배수 : {}\".format(low, int(a * b / low)))"
   ]
  },
  {
   "cell_type": "code",
   "execution_count": 7,
   "metadata": {},
   "outputs": [
    {
     "name": "stdout",
     "output_type": "stream",
     "text": [
      "숫자 2개를 입력하세요 : 9 6\n",
      "최대공약수 : 3, 최소공배수 : 18\n"
     ]
    }
   ],
   "source": [
    "a, b = map(int, input(\"숫자 2개를 입력하세요 : \").split())\n",
    "if a > b:\n",
    "    high = a; low = b\n",
    "else:\n",
    "    high = b; low = a\n",
    "r = 1 # 나머지를 기억하는 변수\n",
    "\n",
    "while r > 0:\n",
    "    r = high % low\n",
    "    high = low\n",
    "    low = r\n",
    "# ===== while r > 0: 끝 =====\n",
    "\n",
    "print(\"최대공약수 : {}, 최소공배수 : {}\".format(high, int(a * b / high)))"
   ]
  },
  {
   "cell_type": "code",
   "execution_count": null,
   "metadata": {},
   "outputs": [],
   "source": []
  },
  {
   "cell_type": "code",
   "execution_count": null,
   "metadata": {},
   "outputs": [],
   "source": []
  },
  {
   "cell_type": "code",
   "execution_count": null,
   "metadata": {},
   "outputs": [],
   "source": []
  },
  {
   "cell_type": "code",
   "execution_count": null,
   "metadata": {},
   "outputs": [],
   "source": []
  },
  {
   "cell_type": "code",
   "execution_count": null,
   "metadata": {},
   "outputs": [],
   "source": []
  },
  {
   "cell_type": "code",
   "execution_count": null,
   "metadata": {},
   "outputs": [],
   "source": []
  },
  {
   "cell_type": "code",
   "execution_count": null,
   "metadata": {},
   "outputs": [],
   "source": []
  }
 ],
 "metadata": {
  "kernelspec": {
   "display_name": "Python 3",
   "language": "python",
   "name": "python3"
  },
  "language_info": {
   "codemirror_mode": {
    "name": "ipython",
    "version": 3
   },
   "file_extension": ".py",
   "mimetype": "text/x-python",
   "name": "python",
   "nbconvert_exporter": "python",
   "pygments_lexer": "ipython3",
   "version": "3.7.4"
  }
 },
 "nbformat": 4,
 "nbformat_minor": 2
}
