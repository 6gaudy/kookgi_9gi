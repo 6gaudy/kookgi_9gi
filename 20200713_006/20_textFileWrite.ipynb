{
 "cells": [
  {
   "cell_type": "markdown",
   "metadata": {},
   "source": [
    "파일 열기  \n",
    "파일변수 = open(\"텍스트 파일 이름\", \"파일 열기 mode\")  \n",
    "파일 열기 mode => r(read, 읽기 전용), w(write, 쓰기 전용), a(append, 추가)  \n",
    "r은 지정된 경로에 파일이 없으면 에러가 발생된다.  \n",
    "w는 지정된 경로에 파일이 없으면 파일을 만든 후 저장하고 파일이 있으면 기존의 모든 데이터를 지우고 다시 저장한다. => 덮어쓰기  \n",
    "a는 지정된 경로에 파일이 없으면 파일을 만든 후 저장하고 파일이 있으면 기존의 데이터 뒤에 데이터를 추가해서 저장한다.  \n",
    "w, a 모드로 파일을 열어서 작업했으면 반드시 close() 메소드로 닫아야 하고 r 모드로 열어서 작업했으면 닫지 않아도 상관없다.  \n",
    "\n",
    "파이썬을 이용해서 텍스트 파일을 처리할 경우 아래의 설정이 되어있어야 한다.  \n",
    "윈도우 탐색기 => 보기 메뉴 => 폴더 및 검색 옵션 변경 => 보기 탭으로 이동 => 알려진 파일 형식의 파일 확장명 숨기기 체크 해제  \n",
    "윈도우 탐색기 => 보기 메뉴 => 파일 확장명 체크"
   ]
  },
  {
   "cell_type": "markdown",
   "metadata": {},
   "source": [
    "텍스트 파일로 쓰기 => w 모드 => 덮어 쓰기"
   ]
  },
  {
   "cell_type": "code",
   "execution_count": 2,
   "metadata": {},
   "outputs": [
    {
     "name": "stdout",
     "output_type": "stream",
     "text": [
      "data.txt 파일에 쓰기 완료\n"
     ]
    }
   ],
   "source": [
    "# open() 함수에 파일 이름만 쓰면 현재 작업중인 프로그램이 위치한 경로에 위치한 파일이라는 의미이다.\n",
    "f = open(\"data.txt\", \"w\")\n",
    "for i in range(1, 11):\n",
    "    # write() 메소드로 텍스트 파일에 출력한다. => 출력할 때 끝에 개행 문자(\"\\n\" => new line)를 붙여줘야 텍스트 파일로 데이터가\n",
    "    # 저장될 때 줄이 바뀐다.\n",
    "    f.write(\"꺄아~~~~~\" + \"\\n\")\n",
    "# 파일 열기 모드가 \"a\" 또는 \"w\"일 경우 파일을 닫지 않으면 데이터가 저장되지 않는다.\n",
    "f.close()\n",
    "print(\"data.txt 파일에 쓰기 완료\")"
   ]
  },
  {
   "cell_type": "markdown",
   "metadata": {},
   "source": [
    "경로 지정 방법 => 절대 경로 지정 방식과 상대 경로 지정 방식이 있다.  \n",
    "절대 경로 지정 방식은 화면에 표시되는 소스 파일이 위치한 디스크 드라이브의 최상위(root) 디렉토리(폴더) 부터 텍스트 파일이 저장될 디렉토리까지의 경로를 의미하고 상대 경로 지정 방식은 현재 화면에 표시되는 소스 파일이 위치한 디렉토리 부터 텍스트 파일이 저장될 디렉토리까지의 경로를 의미한다."
   ]
  },
  {
   "cell_type": "code",
   "execution_count": 7,
   "metadata": {},
   "outputs": [],
   "source": [
    "# 현재 작업중인 소스 프로그램이 위치한 경로가 아닌 다른 경로에 파일을 저장하려면 반드시 파일이 저장될 경로를 지정해야 한다.\n",
    "# D:\\kookgi_9gi\\PYTHON\\workspace\\data\\data.txt => 절대 경로\n",
    "# 위와 같이 실행했을 때 에러가 발생되면 \"\\\"를 \"\\\\\"로 변경한다.\n",
    "# \"D:\\\\kookgi_9gi\\\\PYTHON\\\\workspace\\\\data\\\\data.txt\" => 절대 경로\n",
    "# \"\\\"나 \"\\\\\"를 \"/\"로 대체해서 사용할 수 있다.\n",
    "# \"D:/kookgi_9gi/PYTHON/workspace/data/data.txt\" => 절대 경로\n",
    "# \".\" => 현재 화면에 표시되는 소스 파일이 위치한 디렉토리\n",
    "# \"..\" => 현재 화면에 표시되는 소스 파일이 위치한 디렉토리의 한 단계 상위 디렉토리"
   ]
  },
  {
   "cell_type": "code",
   "execution_count": 11,
   "metadata": {},
   "outputs": [
    {
     "name": "stdout",
     "output_type": "stream",
     "text": [
      ">>> kl;sdgkl;\n",
      ">>> sdfl;jkmsdf;\n",
      ">>> sdfkl;l;sdf\\\n",
      ">>> sfdkl;sfdlk;\\sdjklwerjkl;e\n",
      ">>> jklsfdjksd\n",
      ">>> quit\n",
      "data.txt 파일에 쓰기 완료\n"
     ]
    }
   ],
   "source": [
    "# 키보드로 입력한 문자열을 텍스트 파일로 저장한다.\n",
    "# \"quit\"가 입력되면 저장을 종료한다. => \"quit\"가 모두 대문자로 입력되던 모두 소문자로 입력되던 섞여서 입력되던 종료가 되어야한다.\n",
    "filePath = \"./data/data.txt\" # 상대 경로\n",
    "f = open(filePath, \"w\")\n",
    "\n",
    "while True:\n",
    "    string = input(\">>> \")\n",
    "    # \"quit\"가 입력되면 무한 루프를 탈출한다.\n",
    "    if string.lower() == \"quit\":\n",
    "        break\n",
    "    f.write(string + \"\\n\")\n",
    "    \n",
    "f.close()\n",
    "print(\"data.txt 파일에 쓰기 완료\")"
   ]
  },
  {
   "cell_type": "markdown",
   "metadata": {},
   "source": [
    "텍스트 파일로 쓰기 => a 모드 => 덮어 쓰기"
   ]
  },
  {
   "cell_type": "code",
   "execution_count": 31,
   "metadata": {},
   "outputs": [
    {
     "name": "stdout",
     "output_type": "stream",
     "text": [
      "data.txt 파일에 추가 완료\n"
     ]
    }
   ],
   "source": [
    "f = open(\"./data/data.txt\", \"a\")\n",
    "for i in range(1, 11):\n",
    "    f.write(\"{0:2d}번째 줄 입니다.\\n\".format(i))\n",
    "f.close()\n",
    "print(\"data.txt 파일에 추가 완료\")"
   ]
  },
  {
   "cell_type": "code",
   "execution_count": 32,
   "metadata": {},
   "outputs": [
    {
     "name": "stdout",
     "output_type": "stream",
     "text": [
      "data.txt 파일에 추가 완료\n"
     ]
    }
   ],
   "source": [
    "# with 구문을 사용해서 파일을 open 시키면 with 구문 내부의 내용이 모두 실행되고 난 후 자동으로 파일을 close 시켜준다.\n",
    "with open(\"./data/data.txt\", \"a\") as f:\n",
    "    for i in range(11, 21):\n",
    "        f.write(\"{0:2d}번째 줄 입니다.\\n\".format(i))\n",
    "print(\"data.txt 파일에 추가 완료\")"
   ]
  },
  {
   "cell_type": "code",
   "execution_count": null,
   "metadata": {},
   "outputs": [],
   "source": []
  },
  {
   "cell_type": "code",
   "execution_count": null,
   "metadata": {},
   "outputs": [],
   "source": []
  },
  {
   "cell_type": "code",
   "execution_count": null,
   "metadata": {},
   "outputs": [],
   "source": []
  },
  {
   "cell_type": "code",
   "execution_count": null,
   "metadata": {},
   "outputs": [],
   "source": []
  },
  {
   "cell_type": "code",
   "execution_count": null,
   "metadata": {},
   "outputs": [],
   "source": []
  }
 ],
 "metadata": {
  "kernelspec": {
   "display_name": "Python 3",
   "language": "python",
   "name": "python3"
  },
  "language_info": {
   "codemirror_mode": {
    "name": "ipython",
    "version": 3
   },
   "file_extension": ".py",
   "mimetype": "text/x-python",
   "name": "python",
   "nbconvert_exporter": "python",
   "pygments_lexer": "ipython3",
   "version": "3.7.4"
  }
 },
 "nbformat": 4,
 "nbformat_minor": 2
}
