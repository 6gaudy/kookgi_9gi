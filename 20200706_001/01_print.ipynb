{
 "cells": [
  {
   "cell_type": "code",
   "execution_count": 3,
   "metadata": {},
   "outputs": [],
   "source": [
    "# '#'으로 시작하면 한 줄 주석 => 컴파일러나 인터프리터가 번역하지 않는다.\n",
    "# ''' 부터 ''' 사이에 코딩하면 범위 주석을 지정할 수 있다."
   ]
  },
  {
   "cell_type": "code",
   "execution_count": 10,
   "metadata": {},
   "outputs": [
    {
     "name": "stdout",
     "output_type": "stream",
     "text": [
      "Hello Python\n",
      "안녕 파이썬\n",
      "제2외국어를 배운 호랑이가 '야옹' 했습니다.\n",
      "제2외국어를 배운 고양이가 \"어흥\" 했습니다.\n",
      "제2외국어를 배운 호랑이가 \"야옹\" 했습니다.\n",
      "제2외국어를 배운 고양이가 '어흥' 했습니다.\n"
     ]
    }
   ],
   "source": [
    "# print() 함수는 () 안의 내용을 출력하고 줄을 바꾼다.\n",
    "print(\"Hello Python\")\n",
    "print('안녕 파이썬')\n",
    "print(\"제2외국어를 배운 호랑이가 '야옹' 했습니다.\")\n",
    "print('제2외국어를 배운 고양이가 \"어흥\" 했습니다.')\n",
    "print(\"제2외국어를 배운 호랑이가 \\\"야옹\\\" 했습니다.\")\n",
    "print('제2외국어를 배운 고양이가 \\'어흥\\' 했습니다.')"
   ]
  },
  {
   "cell_type": "code",
   "execution_count": 17,
   "metadata": {},
   "outputs": [
    {
     "name": "stdout",
     "output_type": "stream",
     "text": [
      "Hello \n",
      "Python, 안녕 파이썬\n"
     ]
    }
   ],
   "source": [
    "# print() 함수로 출력 후 줄을 변경하지 않으려면 아래와 같이 end 옵션을 지정한다.\n",
    "print(\"Hello \\nPython\", end = \", \") # \\n => new line => 줄을 바꾼다.\n",
    "print('안녕 파이썬')\n",
    "# end 옵션은 print() 함수로 출력한 후 출력할 내용을 지정한다. => end 옵션을 생략하면 \"\\n\"이 기본값으로 사용된다."
   ]
  },
  {
   "cell_type": "code",
   "execution_count": 22,
   "metadata": {},
   "outputs": [
    {
     "name": "stdout",
     "output_type": "stream",
     "text": [
      "Hello Python 안녕 파이썬\n",
      "Hello Python안녕 파이썬\n",
      "^^;^^;^^;^^;^^;^^;^^;^^;^^;^^;^^;^^;^^;^^;^^;^^;^^;^^;^^;^^;^^;^^;^^;^^;^^;^^;^^;^^;^^;^^;^^;^^;^^;^^;^^;^^;^^;^^;^^;^^;^^;^^;^^;^^;^^;^^;^^;^^;^^;^^;\n"
     ]
    }
   ],
   "source": [
    "# print() 함수로 2개 이상의 데이터를 출력하려면 \",\"나 \"+\"로 구분해서 출력한다.\n",
    "print(\"Hello Python\", \"안녕 파이썬\") # \",\"로 구분하면 데이터 사이에 공백이 출력된다.\n",
    "print(\"Hello Python\" + \"안녕 파이썬\") # \"+\"로 구분하면 데이터가 연결되서 출력된다.\n",
    "# print() 함수에서 문자열 뒤에 \"*\" 연산자를 사용하면 지정된 숫자만큼 문자열을 반복해서 출력한다.\n",
    "print(\"^^;\" * 50)"
   ]
  },
  {
   "cell_type": "markdown",
   "metadata": {},
   "source": [
    "\"%\"와 서식 문자를 사용해서 출력하기"
   ]
  },
  {
   "cell_type": "code",
   "execution_count": 23,
   "metadata": {},
   "outputs": [],
   "source": [
    "# 서식 문자\n",
    "# %d(정수), %f(실수), %s(문자, 문자열)를 사용해 출력 서식을 지정할 수 있고 출력 서식 문자를 제외한 나머지 문자들은 입력된 그대로 출력된다.\n",
    "# 출력 서식의 형식\n",
    "# %[-][0][n][.m]서식문자 => [] 안의 내용은 생략할 수 있다.\n",
    "# - : 전체 자리수(n)가 지정된 경우 데이터를 왼쪽으로 맞춰 출력한다.\n",
    "# 0 : 전체 자리수(n)가 지정된 경우 숫자 데이터의 왼쪽에 남는 자리에 \"0\"을 채워 출력한다.\n",
    "# n : 전체 자리수\n",
    "# .m : 실수를 출력할 경우 지정하는 소수점 아래 자리수"
   ]
  },
  {
   "cell_type": "code",
   "execution_count": 25,
   "metadata": {},
   "outputs": [
    {
     "name": "stdout",
     "output_type": "stream",
     "text": [
      "100\n",
      "1\n",
      "10000\n"
     ]
    }
   ],
   "source": [
    "print(100)\n",
    "print(1)\n",
    "print(10000)"
   ]
  },
  {
   "cell_type": "code",
   "execution_count": 28,
   "metadata": {},
   "outputs": [
    {
     "name": "stdout",
     "output_type": "stream",
     "text": [
      "  100\n",
      "    1\n",
      "1    \n",
      "00001\n",
      "10000\n"
     ]
    }
   ],
   "source": [
    "# print(\"출력 서식\" % 출력할 데이터)\n",
    "print(\"%5d\" % 100)\n",
    "print(\"%5d\" % 1)\n",
    "print(\"%-5d\" % 1)\n",
    "print(\"%05d\" % 1)\n",
    "print(\"%5d\" % 10000)"
   ]
  },
  {
   "cell_type": "code",
   "execution_count": 34,
   "metadata": {},
   "outputs": [
    {
     "name": "stdout",
     "output_type": "stream",
     "text": [
      "  abc\n",
      "    a\n",
      "a    \n",
      "    a\n",
      "abcde\n"
     ]
    }
   ],
   "source": [
    "print(\"%5s\" % \"abc\")\n",
    "print(\"%5s\" % \"a\")\n",
    "print(\"%-5s\" % \"a\")\n",
    "print(\"%05s\" % \"a\") # 파이썬은 문자열 서식에서 \"0\"이 무시된다.\n",
    "print(\"%5s\" % \"abcde\")"
   ]
  },
  {
   "cell_type": "code",
   "execution_count": 38,
   "metadata": {},
   "outputs": [
    {
     "name": "stdout",
     "output_type": "stream",
     "text": [
      "123.45\n",
      "123.46\n",
      "123.40\n",
      "  60\n",
      "  60\n"
     ]
    }
   ],
   "source": [
    "print(\"%6.2f\" % 123.45)\n",
    "print(\"%6.2f\" % 123.456) # 소수점 아래 숫자는 잘리는 자리에서 반올림시켜 출력한다. => 원래 데이터는 변경되지 않는다.\n",
    "print(\"%6.2f\" % 123.4)   # 남는 자리에는 \"0\"이 채워져서 출력된다.\n",
    "print(\"%4.0f\" % 60.4)\n",
    "print(\"%4.0f\" % 59.5)"
   ]
  },
  {
   "cell_type": "code",
   "execution_count": 58,
   "metadata": {},
   "outputs": [
    {
     "name": "stdout",
     "output_type": "stream",
     "text": [
      "5 + 3 = 8\n",
      "5 - 3 = 2\n",
      "5 * 3 = 15\n",
      "5 / 3 = 1\n",
      "5 / 3 = 1.666667\n",
      "5 // 3 = 1\n",
      "5 // 3 = 1.000000\n",
      "5 % 3 = 2\n",
      "2의 10승 = 1024\n",
      "루트 2 = 1.414214\n"
     ]
    }
   ],
   "source": [
    "# 출력 서식에 맞춰 출력할 데이터가 2건 이상이라면 출력할 데이터를 ()로 묶어야 한다.\n",
    "print(\"%d + %d = %d\" % (5, 3, 5 + 3)) # 덧셈\n",
    "print(\"%d - %d = %d\" % (5, 3, 5 - 3)) # 뺄셈\n",
    "print(\"%d * %d = %d\" % (5, 3, 5 * 3)) # 곱셈\n",
    "# 파이썬은 \"/\" 연산자로 나눗셈을 하면 소수점 아래까지 계산된다.\n",
    "print(\"%d / %d = %d\" % (5, 3, 5 / 3)) # 나눗셈 => 나눗셈 결과를 %d를 사용해서 정수로 출력하라 했기 때문에 정수만 출력된다.\n",
    "print(\"%d / %d = %f\" % (5, 3, 5 / 3)) # 나눗셈\n",
    "# 파이썬은 \"//\" 연산자로 나눗셈을 하면 몫만 계산된다.\n",
    "print(\"%d // %d = %d\" % (5, 3, 5 // 3)) # 나눗셈\n",
    "print(\"%d // %d = %f\" % (5, 3, 5 // 3)) # 나눗셈 => 나눗셈 결곽 계산된 몫을 실수로 출력하라 했으므로 실수로 출력된다.\n",
    "# 출력 서식을 지정할 때 \"%\" 자체를 출력하고 싶으면 연속해서 2개를 써야한다.\n",
    "print(\"%d %% %d = %d\" % (5, 3, 5 % 3)) # 나머지\n",
    "print(\"%d의 %d승 = %d\" % (2, 10, 2 ** 10)) # 거듭제곱\n",
    "print(\"루트 %d = %f\" % (2, 2 ** 0.5))"
   ]
  },
  {
   "cell_type": "code",
   "execution_count": 59,
   "metadata": {},
   "outputs": [],
   "source": [
    "# 산술 연산자 우선순위 : () => ** => *, /, //, % => +, -"
   ]
  },
  {
   "cell_type": "code",
   "execution_count": null,
   "metadata": {},
   "outputs": [],
   "source": []
  },
  {
   "cell_type": "code",
   "execution_count": null,
   "metadata": {},
   "outputs": [],
   "source": []
  },
  {
   "cell_type": "code",
   "execution_count": null,
   "metadata": {},
   "outputs": [],
   "source": []
  },
  {
   "cell_type": "code",
   "execution_count": null,
   "metadata": {},
   "outputs": [],
   "source": []
  },
  {
   "cell_type": "code",
   "execution_count": null,
   "metadata": {},
   "outputs": [],
   "source": []
  },
  {
   "cell_type": "code",
   "execution_count": null,
   "metadata": {},
   "outputs": [],
   "source": []
  },
  {
   "cell_type": "code",
   "execution_count": null,
   "metadata": {},
   "outputs": [],
   "source": []
  },
  {
   "cell_type": "code",
   "execution_count": null,
   "metadata": {},
   "outputs": [],
   "source": []
  }
 ],
 "metadata": {
  "kernelspec": {
   "display_name": "Python 3",
   "language": "python",
   "name": "python3"
  },
  "language_info": {
   "codemirror_mode": {
    "name": "ipython",
    "version": 3
   },
   "file_extension": ".py",
   "mimetype": "text/x-python",
   "name": "python",
   "nbconvert_exporter": "python",
   "pygments_lexer": "ipython3",
   "version": "3.7.4"
  }
 },
 "nbformat": 4,
 "nbformat_minor": 2
}
