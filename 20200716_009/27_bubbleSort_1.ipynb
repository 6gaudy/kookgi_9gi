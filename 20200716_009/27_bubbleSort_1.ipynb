{
 "cells": [
  {
   "cell_type": "markdown",
   "metadata": {},
   "source": [
    "선택 정렬 => 특정 위치의 데이터를 선택해서 나머지 데이터와 비교한다.  \n",
    "버블 정렬 => 인접한 2개의 데이터를 비교하며 정렬한다.\n",
    "\n",
    "정렬할 데이터의 개수가 n개일 경우 회전수는 n - 1 번이 된다.  \n",
    "데이터의 개수가 5개일 때 회전수에 따른 데이터가 선택되는 위치(j)의 변화는 아래와 같다.  \n",
    "i&nbsp;&nbsp;&nbsp;&nbsp;&nbsp;&nbsp;&nbsp;&nbsp;&nbsp;j  \n",
    "0&nbsp;&nbsp;&nbsp;&nbsp;0, 1, 2, 3  \n",
    "1&nbsp;&nbsp;&nbsp;&nbsp;0, 1, 2  \n",
    "2&nbsp;&nbsp;&nbsp;&nbsp;0, 1  \n",
    "3&nbsp;&nbsp;&nbsp;&nbsp;0"
   ]
  },
  {
   "cell_type": "code",
   "execution_count": 12,
   "metadata": {},
   "outputs": [
    {
     "name": "stdout",
     "output_type": "stream",
     "text": [
      "1회전 결과 : [1, 3, 4, 8, 9]\n",
      "2회전 결과 : [1, 3, 4, 8, 9]\n",
      "3회전 결과 : [1, 3, 4, 8, 9]\n",
      "4회전 결과 : [1, 3, 4, 8, 9]\n"
     ]
    }
   ],
   "source": [
    "data = [9, 1, 3, 4, 8]\n",
    "\n",
    "for i in range(len(data) - 1):         # 회전수                              # for i in range(1, len(data)):\n",
    "    for j in range(len(data) - i - 1): # 데이터 비교하기 위해 선택하는 위치  #     for j in range(len(data) - i):\n",
    "        # print(\"i = {}, j = {}\".format(i, j))\n",
    "        # 오름차순 정렬 => 앞(j번째)의 데이터가 뒤(j + 1번째)의 데이터 보다 크면 두 기억장소의 데이터를 교환한다.\n",
    "        # 부등호를 \">\"에서 \"<\"로 변경하면 내림차순으로 정렬된다.\n",
    "        if data[j] > data[j + 1]:\n",
    "            data[j], data[j + 1] = data[j + 1], data[j]\n",
    "    # ===== for j in range(len(data) - i - 1): 끝 => 회전 종료 =====\n",
    "    print(\"{}회전 결과 : {}\".format(i + 1, data))\n",
    "# ===== for i in range(len(data) - 1): 끝 => 정렬 종료 =====\n",
    "# print(\"정렬 결과 : {}\".format(data))"
   ]
  },
  {
   "cell_type": "code",
   "execution_count": null,
   "metadata": {},
   "outputs": [],
   "source": []
  },
  {
   "cell_type": "code",
   "execution_count": null,
   "metadata": {},
   "outputs": [],
   "source": []
  },
  {
   "cell_type": "code",
   "execution_count": null,
   "metadata": {},
   "outputs": [],
   "source": []
  },
  {
   "cell_type": "code",
   "execution_count": null,
   "metadata": {},
   "outputs": [],
   "source": []
  },
  {
   "cell_type": "code",
   "execution_count": null,
   "metadata": {},
   "outputs": [],
   "source": []
  }
 ],
 "metadata": {
  "kernelspec": {
   "display_name": "Python 3",
   "language": "python",
   "name": "python3"
  },
  "language_info": {
   "codemirror_mode": {
    "name": "ipython",
    "version": 3
   },
   "file_extension": ".py",
   "mimetype": "text/x-python",
   "name": "python",
   "nbconvert_exporter": "python",
   "pygments_lexer": "ipython3",
   "version": "3.7.4"
  }
 },
 "nbformat": 4,
 "nbformat_minor": 2
}
