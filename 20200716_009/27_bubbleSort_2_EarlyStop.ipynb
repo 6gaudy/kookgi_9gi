{
 "cells": [
  {
   "cell_type": "markdown",
   "metadata": {},
   "source": [
    "버블 정렬은 데이터가 어느정도 정렬이 되어있는 상태라면 회전수를 다 채우지 않아도 정렬이 완료되었나 판단해서 조기에 종료할 수 있다."
   ]
  },
  {
   "cell_type": "code",
   "execution_count": 6,
   "metadata": {},
   "outputs": [
    {
     "name": "stdout",
     "output_type": "stream",
     "text": [
      "1회전 결과 : [1, 3, 4, 8, 9]\n",
      "4 회전을 해야하지만 2 회전 후 중간 종료됨\n"
     ]
    }
   ],
   "source": [
    "data = [9, 1, 3, 4, 8]\n",
    "\n",
    "for i in range(len(data) - 1):\n",
    "    # ⓐ - 1 => 회전(정렬) 작업이 시작되기 전에 flag를 False로 초기화시킨다.\n",
    "    flag = False\n",
    "    \n",
    "    for j in range(len(data) - i - 1):\n",
    "        if data[j] > data[j + 1]:\n",
    "            data[j], data[j + 1] = data[j + 1], data[j]\n",
    "            # ⓑ - 1 => 값 교환(정렬) 작업이 실행되면 flag를 True로 변경한다.\n",
    "            flag = True\n",
    "    # ===== for j in range(len(data) - i - 1): 끝 => 회전 종료 =====\n",
    "    \n",
    "    # ⓒ - 2 => 한 회전이 종료되었을 때 값 교환 작업이 한 번도 실행되지 않았다면 현재 데이터는 모두 정렬이 되어있는 상태를 의미한다.\n",
    "    if not flag:\n",
    "        print(\"{} 회전을 해야하지만 {} 회전 후 중간 종료됨\".format(len(data) - 1, i + 1))\n",
    "        break;\n",
    "    print(\"{}회전 결과 : {}\".format(i + 1, data))\n",
    "    \n",
    "# ===== for i in range(len(data) - 1): 끝 => 정렬 종료 =====\n",
    "# print(\"정렬 결과 : {}\".format(data))"
   ]
  },
  {
   "cell_type": "code",
   "execution_count": null,
   "metadata": {},
   "outputs": [],
   "source": []
  },
  {
   "cell_type": "code",
   "execution_count": null,
   "metadata": {},
   "outputs": [],
   "source": []
  },
  {
   "cell_type": "code",
   "execution_count": null,
   "metadata": {},
   "outputs": [],
   "source": []
  },
  {
   "cell_type": "code",
   "execution_count": null,
   "metadata": {},
   "outputs": [],
   "source": []
  },
  {
   "cell_type": "code",
   "execution_count": null,
   "metadata": {},
   "outputs": [],
   "source": []
  }
 ],
 "metadata": {
  "kernelspec": {
   "display_name": "Python 3",
   "language": "python",
   "name": "python3"
  },
  "language_info": {
   "codemirror_mode": {
    "name": "ipython",
    "version": 3
   },
   "file_extension": ".py",
   "mimetype": "text/x-python",
   "name": "python",
   "nbconvert_exporter": "python",
   "pygments_lexer": "ipython3",
   "version": "3.7.4"
  }
 },
 "nbformat": 4,
 "nbformat_minor": 2
}
