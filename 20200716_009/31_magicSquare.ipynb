{
 "cells": [
  {
   "cell_type": "markdown",
   "metadata": {},
   "source": [
    "마방진 => 가로, 세로 대각헌 어느 방향으로 합계를 계산해도 같은 값이 나오는 숫자의 배열  \n",
    "최초의 \"1\"이 채워지는 자리는 첫 줄 정 가운데 열이다. => 홀수차 정방 행렬만 가능하다.  \n",
    "직전에 채워진 숫자에 따라 다음에 채워질 숫자의 위치가 결정된다. 직전에 채워진 숫자가 행렬의 차수(n)의 배수면 다음 숫자는 아래줄에 채운다. => 행 + 1  \n",
    "직전에 채워진 숫자가 행렬의 차수의 배수가 아니면 다음 숫자는 오른쪽 위 방향으로 채운다. => 행 - 1, 열 + 1  \n",
    "행이 0보다 작아지면 행의 위치를 마지막 행으로 조정하고 열이 행렬의 차수와 같아지면 열의 위치를 0으로 조정한다."
   ]
  },
  {
   "cell_type": "code",
   "execution_count": 1,
   "metadata": {},
   "outputs": [
    {
     "name": "stdout",
     "output_type": "stream",
     "text": [
      " 17  24   1   8  15 \n",
      " 23   5   7  14  16 \n",
      "  4   6  13  20  22 \n",
      " 10  12  19  21   3 \n",
      " 11  18  25   2   9 \n"
     ]
    }
   ],
   "source": [
    "a = [[0] * 5 for i in range(5)]\n",
    "# 5행 5열일 경우 최초의 \"1\"이 채워질 위치를 정한다.\n",
    "i = 0\n",
    "j = 2\n",
    "\n",
    "for k in range(1, 26):\n",
    "    a[i][j] = k # 마방진에 숫자를 채운다.\n",
    "    # 채운 숫자가 5의 배수인가 판단한다.\n",
    "    if k % 5 == 0:\n",
    "        # 5의 배수면 다음에 채워질 숫자의 위치는 행만 1증가 시킨다.\n",
    "        i += 1\n",
    "    else:\n",
    "        # 5의 배수가 아니면 다음에 채워질 숫자의 위치는 행은 1감소, 열은 1증가 시킨다.\n",
    "        i -= 1\n",
    "        # 행이 감소하다 0보다 작아지면 마지막 행으로 위치를 조정한다.\n",
    "        if i < 0:\n",
    "            i = 4\n",
    "        j += 1\n",
    "        # 열이 증가하다 5가 되면 첫 번째 열로 위치를 조정한다.\n",
    "        if j >= 5:\n",
    "            j = 0\n",
    "# ===== for k in range(1, 26): 끝 =====\n",
    "\n",
    "for i in range(len(a)):\n",
    "    for j in range(len(a[0])):\n",
    "        print(\"%3d \" % a[i][j], end = \"\")\n",
    "    print()                "
   ]
  }
 ],
 "metadata": {
  "kernelspec": {
   "display_name": "Python 3",
   "language": "python",
   "name": "python3"
  },
  "language_info": {
   "codemirror_mode": {
    "name": "ipython",
    "version": 3
   },
   "file_extension": ".py",
   "mimetype": "text/x-python",
   "name": "python",
   "nbconvert_exporter": "python",
   "pygments_lexer": "ipython3",
   "version": "3.7.4"
  }
 },
 "nbformat": 4,
 "nbformat_minor": 2
}
