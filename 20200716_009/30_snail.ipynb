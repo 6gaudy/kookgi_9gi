{
 "cells": [
  {
   "cell_type": "code",
   "execution_count": 4,
   "metadata": {},
   "outputs": [
    {
     "name": "stdout",
     "output_type": "stream",
     "text": [
      "  1   2   3   4   5 \n",
      " 16  17  18  19   6 \n",
      " 15  24  25  20   7 \n",
      " 14  23  22  21   8 \n",
      " 13  12  11  10   9 \n"
     ]
    }
   ],
   "source": [
    "a = [[0] * 5 for i in range(5)]\n",
    "n = 0  # 1 에서 25 까지 1씩 증가하는 변수\n",
    "s = 1  # 행과 열이 1 또는 -1씩 증가 또는 감소를 처리하는 변수\n",
    "i = 0  # 행\n",
    "j = -1 # 열\n",
    "k = 5  # 반복 횟수 제어에 사용하는 변수\n",
    "\n",
    "while True:\n",
    "    # 행 방향으로 숫자를 채운다.\n",
    "    for p in range(1, k + 1, 1):\n",
    "        n += 1; j += s\n",
    "        a[i][j] = n\n",
    "    # ===== for p in range(1, k + 1, 1): 끝 =====\n",
    "    # while 명령이 한 번 실행될 때 마다 k에 저장된 값을 1씩 감소시키다가 0이 되는 순간 무한 루프를 탈출한다.\n",
    "    k -= 1\n",
    "    if k <= 0:\n",
    "        break;\n",
    "    # 열 방향으로 숫자를 채운다.\n",
    "    for p in range(1, k + 1, 1):\n",
    "        n += 1; i += s\n",
    "        a[i][j] = n\n",
    "    # ===== for p in range(1, k + 1, 1): 끝 =====\n",
    "    s *= -1\n",
    "\n",
    "for i in range(len(a)):\n",
    "    for j in range(len(a[0])):\n",
    "        print(\"%3d \" % a[i][j], end = \"\")\n",
    "    print()"
   ]
  }
 ],
 "metadata": {
  "kernelspec": {
   "display_name": "Python 3",
   "language": "python",
   "name": "python3"
  },
  "language_info": {
   "codemirror_mode": {
    "name": "ipython",
    "version": 3
   },
   "file_extension": ".py",
   "mimetype": "text/x-python",
   "name": "python",
   "nbconvert_exporter": "python",
   "pygments_lexer": "ipython3",
   "version": "3.7.4"
  }
 },
 "nbformat": 4,
 "nbformat_minor": 2
}
