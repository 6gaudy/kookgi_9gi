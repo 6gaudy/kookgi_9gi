{
 "cells": [
  {
   "cell_type": "markdown",
   "metadata": {},
   "source": [
    "n개의 데이터(999가 입력되기 전 까지)를 입력받아 최대값과 최소값을 제외한 나머지 데이터의 표준 편차를 계산하는 프로그램  \n",
    "$$\\sqrt{\\frac{\\sum_{i=1}^{N-2} (x_i - \\bar{x})^2}{n-2}}$$"
   ]
  },
  {
   "cell_type": "code",
   "execution_count": 5,
   "metadata": {},
   "outputs": [
    {
     "name": "stdout",
     "output_type": "stream",
     "text": [
      "1번째 표준 편차를 계산할 데이터를 입력하세요 : 5\n",
      "2번째 표준 편차를 계산할 데이터를 입력하세요 : 4\n",
      "3번째 표준 편차를 계산할 데이터를 입력하세요 : 3\n",
      "4번째 표준 편차를 계산할 데이터를 입력하세요 : 2\n",
      "5번째 표준 편차를 계산할 데이터를 입력하세요 : 1\n",
      "6번째 표준 편차를 계산할 데이터를 입력하세요 : 999\n",
      "입력받은 데이터의 개수는 5개 이고 데이터는 [5, 4, 3, 2, 1] 입니다.\n"
     ]
    }
   ],
   "source": [
    "# 표준 편차를 계산할 데이터를 999가 입력될 때 까지 받는다.\n",
    "score = [] # 표준 편차를 계산할 데이터를 기억하는 빈 리스트를 선언한다.\n",
    "# 몇 번째 데이터로 999가 입력될지 모르기 때문에 무한 루프를 돌린다.\n",
    "while True:\n",
    "    data = int(input(\"{}번째 표준 편차를 계산할 데이터를 입력하세요 : \".format(len(score) + 1)))\n",
    "    if data == 999: # 입력받은 데이터가 999이면 더 이상 데이터 입력을 받을 필요가 없기 때문에 무한 루프를 탈출시킨다.\n",
    "        break\n",
    "    score.append(data) # 입력받은 데이터를 리스트에 추가한다.\n",
    "print(\"입력받은 데이터의 개수는 {}개 이고 데이터는 {} 입니다.\".format(len(score), score))"
   ]
  },
  {
   "cell_type": "code",
   "execution_count": 8,
   "metadata": {},
   "outputs": [
    {
     "name": "stdout",
     "output_type": "stream",
     "text": [
      "[1, 2, 3, 4, 5]\n"
     ]
    }
   ],
   "source": [
    "from selectionSorModule import *\n",
    "score = selectionSortAsc(score)\n",
    "print(score)\n",
    "\n",
    "# print(max(score)) # 최대값\n",
    "# print(min(score)) # 최소값"
   ]
  },
  {
   "cell_type": "code",
   "execution_count": 9,
   "metadata": {},
   "outputs": [
    {
     "name": "stdout",
     "output_type": "stream",
     "text": [
      "최대값과 최소값을 제외한 나머지 데이터의 합계 : 9\n"
     ]
    }
   ],
   "source": [
    "# 최대값과 최소값을 제외한 나머지 데이터의 평균을 계산한다.\n",
    "total = 0\n",
    "for s in score:\n",
    "    total += s\n",
    "total -= max(score) + min(score)\n",
    "print(\"최대값과 최소값을 제외한 나머지 데이터의 합계 : {}\".format(total))"
   ]
  },
  {
   "cell_type": "code",
   "execution_count": 10,
   "metadata": {},
   "outputs": [
    {
     "name": "stdout",
     "output_type": "stream",
     "text": [
      "최대값과 최소값을 제외한 나머지 데이터의 합계 : 9\n"
     ]
    }
   ],
   "source": [
    "total = 0\n",
    "for s in score[1:len(score) - 1]:\n",
    "    total += s\n",
    "print(\"최대값과 최소값을 제외한 나머지 데이터의 합계 : {}\".format(total))"
   ]
  },
  {
   "cell_type": "code",
   "execution_count": 11,
   "metadata": {},
   "outputs": [
    {
     "name": "stdout",
     "output_type": "stream",
     "text": [
      "최대값과 최소값을 제외한 나머지 데이터의 합계 : 9\n"
     ]
    }
   ],
   "source": [
    "total = 0\n",
    "for i in range(1, len(score) - 1):\n",
    "    total += score[i]\n",
    "print(\"최대값과 최소값을 제외한 나머지 데이터의 합계 : {}\".format(total))"
   ]
  },
  {
   "cell_type": "code",
   "execution_count": 12,
   "metadata": {},
   "outputs": [
    {
     "name": "stdout",
     "output_type": "stream",
     "text": [
      "최대값과 최소값을 제외한 나머지 데이터의 산술평균 : 3.0\n"
     ]
    }
   ],
   "source": [
    "# 최대값과 최소값을 제외한 나머지 데이터의 산술 평균을 계산한다.\n",
    "mean = total / (len(score) - 2)\n",
    "print(\"최대값과 최소값을 제외한 나머지 데이터의 산술평균 : {}\".format(mean))"
   ]
  },
  {
   "cell_type": "code",
   "execution_count": 14,
   "metadata": {},
   "outputs": [
    {
     "name": "stdout",
     "output_type": "stream",
     "text": [
      "최대값과 최소값을 제외한 나머지 데이터의 합계 : 2.0\n",
      "최대값과 최소값을 제외한 나머지 데이터의 평균 => 분산 : 0.6666666666666666\n"
     ]
    }
   ],
   "source": [
    "# 최대값과 최소값을 제외한 나머지 데이터와 산술 평균의 편차의 제곱의 합계와 평균(분산)을 계산한다.\n",
    "total = 0.0\n",
    "for i in range(1, len(score) - 1):\n",
    "    total += (score[i] - mean) ** 2\n",
    "print(\"최대값과 최소값을 제외한 나머지 데이터의 합계 : {}\".format(total))\n",
    "var = total / (len(score) - 2)\n",
    "print(\"최대값과 최소값을 제외한 나머지 데이터의 평균 => 분산 : {}\".format(var))"
   ]
  },
  {
   "cell_type": "code",
   "execution_count": 15,
   "metadata": {},
   "outputs": [
    {
     "name": "stdout",
     "output_type": "stream",
     "text": [
      "최대값과 최소값을 제외한 나머지 데이터의 표준 편차 : 0.816496580927726\n"
     ]
    }
   ],
   "source": [
    "# 표준 편차를 계산한다.\n",
    "std = var ** 0.5\n",
    "print(\"최대값과 최소값을 제외한 나머지 데이터의 표준 편차 : {}\".format(std))"
   ]
  },
  {
   "cell_type": "code",
   "execution_count": 17,
   "metadata": {},
   "outputs": [
    {
     "name": "stdout",
     "output_type": "stream",
     "text": [
      "최대값과 최소값을 제외한 나머지 데이터의 표준 편차 : 0.816496580927726\n"
     ]
    }
   ],
   "source": [
    "import math # 수학에 관련된 함수를 모아놓은 모듈\n",
    "print(\"최대값과 최소값을 제외한 나머지 데이터의 표준 편차 : {}\".format(math.sqrt(var)))"
   ]
  },
  {
   "cell_type": "code",
   "execution_count": null,
   "metadata": {},
   "outputs": [],
   "source": []
  },
  {
   "cell_type": "code",
   "execution_count": null,
   "metadata": {},
   "outputs": [],
   "source": []
  },
  {
   "cell_type": "code",
   "execution_count": null,
   "metadata": {},
   "outputs": [],
   "source": []
  }
 ],
 "metadata": {
  "kernelspec": {
   "display_name": "Python 3",
   "language": "python",
   "name": "python3"
  },
  "language_info": {
   "codemirror_mode": {
    "name": "ipython",
    "version": 3
   },
   "file_extension": ".py",
   "mimetype": "text/x-python",
   "name": "python",
   "nbconvert_exporter": "python",
   "pygments_lexer": "ipython3",
   "version": "3.7.4"
  }
 },
 "nbformat": 4,
 "nbformat_minor": 2
}
