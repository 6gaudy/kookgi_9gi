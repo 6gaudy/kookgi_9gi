{
 "cells": [
  {
   "cell_type": "code",
   "execution_count": 1,
   "metadata": {},
   "outputs": [],
   "source": [
    "string = \"We are the champions, My friends!\""
   ]
  },
  {
   "cell_type": "code",
   "execution_count": 4,
   "metadata": {},
   "outputs": [
    {
     "name": "stdout",
     "output_type": "stream",
     "text": [
      "33\n"
     ]
    }
   ],
   "source": [
    "# len() 함수는 인수로 지정된 문자열을 구성하는 문자의 개수를 얻어온다.\n",
    "print(len(string))"
   ]
  },
  {
   "cell_type": "code",
   "execution_count": 8,
   "metadata": {},
   "outputs": [
    {
     "name": "stdout",
     "output_type": "stream",
     "text": [
      "4\n",
      "1\n",
      "0\n"
     ]
    }
   ],
   "source": [
    "# count() 메소드는 인수로 지정된 문자의 출연 횟수를 얻어온다.\n",
    "# count() 메소드의 인수로 지정된 문자열이 특정 문자열에 포함되어있나 알아낼 수 있다. => 1 이상이면 포함\n",
    "print(string.count(\"e\"))\n",
    "print(string.count(\"We\"))\n",
    "print(string.count(\"we\"))"
   ]
  },
  {
   "cell_type": "code",
   "execution_count": 11,
   "metadata": {},
   "outputs": [
    {
     "name": "stdout",
     "output_type": "stream",
     "text": [
      "1\n",
      "0\n",
      "-1\n"
     ]
    }
   ],
   "source": [
    "# find() 메소드는 인수로 지정된 문자열이 최초로 나타나는 위치의 인덱스를 얻어온다.\n",
    "# find() 메소드의 인수로 지정된 문자열이 특정 문자열에 포함되어있나 알아낼 수 있다. => 0 이상이면 포함, -1은 불포함\n",
    "print(string.find(\"e\"))\n",
    "print(string.find(\"We\"))\n",
    "print(string.find(\"we\"))"
   ]
  },
  {
   "cell_type": "code",
   "execution_count": 15,
   "metadata": {},
   "outputs": [
    {
     "name": "stdout",
     "output_type": "stream",
     "text": [
      "1\n",
      "0\n"
     ]
    }
   ],
   "source": [
    "# index() 메소드는 인수로 지정된 문자열이 최초로 나타나는 위치의 인덱스를 얻어온다.\n",
    "# index() 메소드의 인수로 지정된 문자열이 특정 문자열에 포함되어있나 알아낼 수 있다. => 0 이상이면 포함, 에러가 발생되면 불포함\n",
    "print(string.index(\"e\"))\n",
    "print(string.index(\"We\"))\n",
    "# print(string.index(\"we\")) # 인수로 지정한 문자열이 없으면 에러가 발생된다."
   ]
  },
  {
   "cell_type": "code",
   "execution_count": 17,
   "metadata": {},
   "outputs": [],
   "source": [
    "string = \"KoreaIT\""
   ]
  },
  {
   "cell_type": "code",
   "execution_count": 19,
   "metadata": {},
   "outputs": [
    {
     "name": "stdout",
     "output_type": "stream",
     "text": [
      "K/o/r/e/a/I/T\n",
      "K~(^^~)o~(^^~)r~(^^~)e~(^^~)a~(^^~)I~(^^~)T\n"
     ]
    }
   ],
   "source": [
    "# join() 메소드는 인수로 지정된 문자열을 구성하는 문자 사이사이에 특정 문자열을 삽입한다.\n",
    "print(\"/\".join(string))\n",
    "print(\"~(^^~)\".join(string))"
   ]
  },
  {
   "cell_type": "code",
   "execution_count": 21,
   "metadata": {},
   "outputs": [
    {
     "name": "stdout",
     "output_type": "stream",
     "text": [
      "KOREAIT\n",
      "koreait\n"
     ]
    }
   ],
   "source": [
    "# upper() 메소드는 인수로 지정된 문자열을 무조건 대문자로 변환하고 lower() 메소드는 무조건 소문자로 변환한다.\n",
    "print(string.upper())\n",
    "print(string.lower())"
   ]
  },
  {
   "cell_type": "code",
   "execution_count": 22,
   "metadata": {},
   "outputs": [],
   "source": [
    "string = \"    python    \""
   ]
  },
  {
   "cell_type": "code",
   "execution_count": 28,
   "metadata": {},
   "outputs": [
    {
     "name": "stdout",
     "output_type": "stream",
     "text": [
      "    python    \n",
      "14\n",
      "python\n",
      "6\n",
      "python    \n",
      "10\n",
      "    python\n",
      "10\n"
     ]
    }
   ],
   "source": [
    "# strip() 메소드는 문자열 앞, 뒤의 불필요한 공백을 제거한다.\n",
    "# lstrip() 메소드는 문자열 왼쪽(앞)의 불필요한 공백을 제거한다.\n",
    "# rstrip() 메소드는 문자열 오른쪽(뒤)의 불필요한 공백을 제거한다.\n",
    "print(string)\n",
    "print(len(string))\n",
    "print(string.strip())\n",
    "print(len(string.strip()))\n",
    "print(string.lstrip())\n",
    "print(len(string.lstrip()))\n",
    "print(string.rstrip())\n",
    "print(len(string.rstrip()))"
   ]
  },
  {
   "cell_type": "code",
   "execution_count": 29,
   "metadata": {},
   "outputs": [],
   "source": [
    "string = \"We are the champions, My friends!\""
   ]
  },
  {
   "cell_type": "code",
   "execution_count": 31,
   "metadata": {},
   "outputs": [
    {
     "name": "stdout",
     "output_type": "stream",
     "text": [
      "We are the champions, Your friends!\n",
      "W^^; ar^^; th^^; champions, My fri^^;nds!\n"
     ]
    }
   ],
   "source": [
    "# replace(oldString, newString) 메소드는 문자열의 모든 oldString을 newString으로 치환한다.\n",
    "print(string.replace(\"My\", \"Your\"))\n",
    "print(string.replace(\"e\", \"^^;\"))"
   ]
  },
  {
   "cell_type": "code",
   "execution_count": 33,
   "metadata": {},
   "outputs": [
    {
     "name": "stdout",
     "output_type": "stream",
     "text": [
      "['We', 'are', 'the', 'champions,', 'My', 'friends!']\n",
      "<class 'list'>\n"
     ]
    }
   ],
   "source": [
    "# split() 메소드는 인수로 지정된 구분자를 이용해 문자열을 나눈다. => split() 메소드의 실행 결과는 list 타입이다.\n",
    "print(string.split())\n",
    "print(type(string.split()))"
   ]
  },
  {
   "cell_type": "markdown",
   "metadata": {},
   "source": [
    "strip() 메소드의 새로운 발견"
   ]
  },
  {
   "cell_type": "code",
   "execution_count": 43,
   "metadata": {},
   "outputs": [
    {
     "name": "stdout",
     "output_type": "stream",
     "text": [
      "python\n",
      "example\n"
     ]
    }
   ],
   "source": [
    "# strip() 메소드의 인수를 생략하면 기본값으로 문자열 양쪽 끝의 공백을 제거한다.\n",
    "print(\"    python    \".strip())\n",
    "# strip() 메소드가 꼭 공백만을 제거하는 것은 아니다.\n",
    "# 인수로 지정된 문자가 더 이상 문자열의 양 끝에 나타나지 않을 때 까지 인수로 지정된 문자를 제거한다. => 인수를 입력한 순서와 제거하는 순서는 상관없다.\n",
    "print(\"www.example.com\".strip(\"w.com\"))"
   ]
  },
  {
   "cell_type": "markdown",
   "metadata": {},
   "source": [
    "파이썬 공백 처리 방법"
   ]
  },
  {
   "cell_type": "code",
   "execution_count": 45,
   "metadata": {},
   "outputs": [
    {
     "name": "stdout",
     "output_type": "stream",
     "text": [
      "Hello                  World\n"
     ]
    }
   ],
   "source": [
    "string = \"    Hello                  World    \"\n",
    "print(string.strip())"
   ]
  },
  {
   "cell_type": "code",
   "execution_count": 46,
   "metadata": {},
   "outputs": [
    {
     "name": "stdout",
     "output_type": "stream",
     "text": [
      "HelloWorld\n"
     ]
    }
   ],
   "source": [
    "# replace() 메소드를 사용한 모든 공백 제거\n",
    "print(string.replace(\" \", \"\"))"
   ]
  },
  {
   "cell_type": "code",
   "execution_count": 48,
   "metadata": {},
   "outputs": [
    {
     "name": "stdout",
     "output_type": "stream",
     "text": [
      "['Hello', 'World']\n",
      "Hello World\n"
     ]
    }
   ],
   "source": [
    "# split(), join() 메소드를 사용해서 문자열 앞, 뒤의 모든 빈 칸을 제거하고 문자열 사이에 2칸 이상 띄어쓰기를 한 곳은 1칸만 띄어쓰기가 되게 한다.\n",
    "print(string.split())\n",
    "print(' '.join(string.split()))"
   ]
  },
  {
   "cell_type": "code",
   "execution_count": null,
   "metadata": {},
   "outputs": [],
   "source": []
  },
  {
   "cell_type": "code",
   "execution_count": null,
   "metadata": {},
   "outputs": [],
   "source": []
  },
  {
   "cell_type": "code",
   "execution_count": null,
   "metadata": {},
   "outputs": [],
   "source": []
  },
  {
   "cell_type": "code",
   "execution_count": null,
   "metadata": {},
   "outputs": [],
   "source": []
  },
  {
   "cell_type": "code",
   "execution_count": null,
   "metadata": {},
   "outputs": [],
   "source": []
  },
  {
   "cell_type": "code",
   "execution_count": null,
   "metadata": {},
   "outputs": [],
   "source": []
  },
  {
   "cell_type": "code",
   "execution_count": null,
   "metadata": {},
   "outputs": [],
   "source": []
  },
  {
   "cell_type": "code",
   "execution_count": null,
   "metadata": {},
   "outputs": [],
   "source": []
  }
 ],
 "metadata": {
  "kernelspec": {
   "display_name": "Python 3",
   "language": "python",
   "name": "python3"
  },
  "language_info": {
   "codemirror_mode": {
    "name": "ipython",
    "version": 3
   },
   "file_extension": ".py",
   "mimetype": "text/x-python",
   "name": "python",
   "nbconvert_exporter": "python",
   "pygments_lexer": "ipython3",
   "version": "3.7.4"
  }
 },
 "nbformat": 4,
 "nbformat_minor": 2
}
