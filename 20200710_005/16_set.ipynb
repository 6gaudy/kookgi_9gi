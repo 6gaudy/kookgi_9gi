{
 "cells": [
  {
   "cell_type": "markdown",
   "metadata": {},
   "source": [
    "set은 수학의 집합과 비슷한 형태로 중복되는 데이터의 입력을 허용하지 않고 입력되는 데이터의 순서와 실제로 저장되는 데이터의 순서가 다르다.  \n",
    "딕셔너리처럼 {}를 사용해서 데이터를 감싸주지만 key가 존재하지 않고 value만 존재한다."
   ]
  },
  {
   "cell_type": "code",
   "execution_count": 4,
   "metadata": {},
   "outputs": [
    {
     "name": "stdout",
     "output_type": "stream",
     "text": [
      "<class 'set'>\n",
      "set()\n"
     ]
    }
   ],
   "source": [
    "# 빈 set을 만든다. => {}를 사용할 수 없고 반드시 생성자를 이용해서만 만들 수 있다.\n",
    "a = set()\n",
    "print(type(a))\n",
    "print(a)"
   ]
  },
  {
   "cell_type": "code",
   "execution_count": 6,
   "metadata": {},
   "outputs": [
    {
     "name": "stdout",
     "output_type": "stream",
     "text": [
      "<class 'set'>\n",
      "{1, 2, 3, 4}\n"
     ]
    }
   ],
   "source": [
    "b = {1, 2, 3, 4}\n",
    "print(type(b))\n",
    "print(b)"
   ]
  },
  {
   "cell_type": "code",
   "execution_count": 10,
   "metadata": {},
   "outputs": [
    {
     "name": "stdout",
     "output_type": "stream",
     "text": [
      "<class 'list'>\n",
      "<class 'set'>\n",
      "{1, 2, 3, 4}\n",
      "<class 'tuple'>\n",
      "<class 'set'>\n",
      "{1, 2, 3, 4}\n"
     ]
    }
   ],
   "source": [
    "# 생성자의 인수로 리스트나 튜플을 넘겨받아 set을 만들어 사용할 수 있다.\n",
    "c = [1, 2, 3, 4] # 리스트\n",
    "print(type(c))\n",
    "d = set(c) # 생성자의 인수로 리스트를 넘겨받아 set을 만든다.\n",
    "print(type(d))\n",
    "print(d)\n",
    "\n",
    "e = 1, 2, 3, 4 # 튜플\n",
    "print(type(e))\n",
    "f = set(e) # 생성자의 인수로 튜플을 넘겨받아 set을 만든다.\n",
    "print(type(f))\n",
    "print(f)"
   ]
  },
  {
   "cell_type": "code",
   "execution_count": 11,
   "metadata": {},
   "outputs": [
    {
     "name": "stdout",
     "output_type": "stream",
     "text": [
      "<class 'set'>\n",
      "{1, 3, 5, 7}\n"
     ]
    }
   ],
   "source": [
    "# 중복되는 데이터는 입력되지 않는다.\n",
    "g = {1, 5, 1, 1, 1, 1, 3, 5, 7, 7}\n",
    "print(type(g))\n",
    "print(g)"
   ]
  },
  {
   "cell_type": "markdown",
   "metadata": {},
   "source": [
    "set 메소드"
   ]
  },
  {
   "cell_type": "code",
   "execution_count": 14,
   "metadata": {},
   "outputs": [
    {
     "name": "stdout",
     "output_type": "stream",
     "text": [
      "{105, 100}\n",
      "{105, 50, 100}\n",
      "{105, 50, 100, 12}\n"
     ]
    }
   ],
   "source": [
    "# add() 메소드로 set에 단일 데이터 한 개를 추가한다.\n",
    "h = {100, 105}\n",
    "print(h)\n",
    "h.add(50)\n",
    "print(h)\n",
    "h.add(12)\n",
    "print(h)"
   ]
  },
  {
   "cell_type": "code",
   "execution_count": 17,
   "metadata": {},
   "outputs": [
    {
     "name": "stdout",
     "output_type": "stream",
     "text": [
      "{105, 50, 100, 12}\n",
      "{3, 100, 4, 5, 105, 12, 50}\n",
      "{3, 100, 4, 5, 105, 777, 555, 12, 50, 666}\n"
     ]
    }
   ],
   "source": [
    "# update() 메소드로 리스트나 튜플을 이용해서 set에 여러개의 데이터를 한 번에 추가할 수 있다.\n",
    "i = {105, 50, 100, 12}\n",
    "print(i)\n",
    "i.update([3, 4, 5])\n",
    "print(i)\n",
    "i.update((555, 666, 777))\n",
    "print(i)"
   ]
  },
  {
   "cell_type": "code",
   "execution_count": 25,
   "metadata": {},
   "outputs": [
    {
     "name": "stdout",
     "output_type": "stream",
     "text": [
      "{105, 50, 100, 12}\n",
      "{105, 50, 12}\n",
      "{50, 12}\n",
      "{50, 12}\n",
      "set()\n"
     ]
    }
   ],
   "source": [
    "# remove() 또는 discard() 또는 clear() 메소드로 set에 저장된 데이터를 제거할 수 있다.\n",
    "j = {105, 50, 100, 12}\n",
    "print(j)\n",
    "j.remove(100) # 데이터 한 건을 제거한다.\n",
    "print(j)\n",
    "# j.remove(100) # remove() 메소드는 set에 저장되지 않은 데이터를 제거하려 하면 에러가 발생된다.\n",
    "j.discard(105)\n",
    "print(j)\n",
    "j.discard(999) # discard() 메소드는 set에 저장되지 않은 데이터를 제거하려 해도 에러가 발생되지 않는다.\n",
    "print(j)\n",
    "j.clear() # clear() 메소드는 set에 저장된 모든 데이터를 제거한다.\n",
    "print(j)"
   ]
  },
  {
   "cell_type": "code",
   "execution_count": 27,
   "metadata": {},
   "outputs": [
    {
     "name": "stdout",
     "output_type": "stream",
     "text": [
      "{105, 50, 100, 12}\n",
      "{105, 50, 100, 12}\n"
     ]
    }
   ],
   "source": [
    "# copy() 메소드로 set을 복사한다.\n",
    "k = {105, 50, 100, 12}\n",
    "print(k)\n",
    "l = k.copy()\n",
    "print(l)"
   ]
  },
  {
   "cell_type": "code",
   "execution_count": 39,
   "metadata": {},
   "outputs": [
    {
     "name": "stdout",
     "output_type": "stream",
     "text": [
      "{1, 2, 3, 4, 5, 6, 7}\n",
      "{1, 2, 3, 4, 5, 6, 7}\n",
      "{3, 4, 5}\n",
      "{3, 4, 5}\n",
      "{1, 2}\n",
      "{6, 7}\n",
      "{1, 2}\n",
      "{6, 7}\n",
      "{1, 2, 6, 7}\n",
      "{1, 2, 6, 7}\n",
      "{1, 2, 6, 7}\n"
     ]
    }
   ],
   "source": [
    "m = {1, 2, 3, 4, 5}\n",
    "n = {3, 4, 5, 6, 7}\n",
    "\n",
    "# 합집합 => union(), |\n",
    "print(m.union(n))\n",
    "print(m | n)\n",
    "\n",
    "# 교집합 => intersection(), &\n",
    "print(m.intersection(n))\n",
    "print(m & n)\n",
    "\n",
    "# 차집합 => difference(), -\n",
    "print(m.difference(n))\n",
    "print(n.difference(m))\n",
    "print(m - n)\n",
    "print(n - m)\n",
    "\n",
    "# 대칭 차집합 => 합집합 - 교집합 => symmetric_difference(), ^\n",
    "print((m | n) - (m & n))\n",
    "print(m.symmetric_difference(n))\n",
    "print(m ^ n)"
   ]
  },
  {
   "cell_type": "code",
   "execution_count": null,
   "metadata": {},
   "outputs": [],
   "source": []
  },
  {
   "cell_type": "code",
   "execution_count": null,
   "metadata": {},
   "outputs": [],
   "source": []
  },
  {
   "cell_type": "code",
   "execution_count": null,
   "metadata": {},
   "outputs": [],
   "source": []
  },
  {
   "cell_type": "code",
   "execution_count": null,
   "metadata": {},
   "outputs": [],
   "source": []
  },
  {
   "cell_type": "code",
   "execution_count": null,
   "metadata": {},
   "outputs": [],
   "source": []
  },
  {
   "cell_type": "code",
   "execution_count": null,
   "metadata": {},
   "outputs": [],
   "source": []
  },
  {
   "cell_type": "code",
   "execution_count": null,
   "metadata": {},
   "outputs": [],
   "source": []
  },
  {
   "cell_type": "code",
   "execution_count": null,
   "metadata": {},
   "outputs": [],
   "source": []
  },
  {
   "cell_type": "code",
   "execution_count": null,
   "metadata": {},
   "outputs": [],
   "source": []
  },
  {
   "cell_type": "code",
   "execution_count": null,
   "metadata": {},
   "outputs": [],
   "source": []
  }
 ],
 "metadata": {
  "kernelspec": {
   "display_name": "Python 3",
   "language": "python",
   "name": "python3"
  },
  "language_info": {
   "codemirror_mode": {
    "name": "ipython",
    "version": 3
   },
   "file_extension": ".py",
   "mimetype": "text/x-python",
   "name": "python",
   "nbconvert_exporter": "python",
   "pygments_lexer": "ipython3",
   "version": "3.7.4"
  }
 },
 "nbformat": 4,
 "nbformat_minor": 2
}
