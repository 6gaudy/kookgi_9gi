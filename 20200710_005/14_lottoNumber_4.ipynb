{
 "cells": [
  {
   "cell_type": "code",
   "execution_count": 1,
   "metadata": {},
   "outputs": [],
   "source": [
    "import random"
   ]
  },
  {
   "cell_type": "code",
   "execution_count": 78,
   "metadata": {},
   "outputs": [
    {
     "name": "stdout",
     "output_type": "stream",
     "text": [
      "29\n",
      "15\n",
      "24\n",
      "16\n",
      "19\n",
      "19\n",
      "30\n",
      "{15, 16, 19, 24, 29, 30}\n",
      "19\n",
      "4\n"
     ]
    }
   ],
   "source": [
    "# 로또 번호를 기억할 빈 set을 만든다.\n",
    "lotto = set()\n",
    "# print(type(lotto))\n",
    "# print(lotto)\n",
    "\n",
    "# 1등 번호\n",
    "# 무한 루프를 돌려주는 이유는 랜덤으로 발생시킨 숫자가 몇 번 반복될지 모르기 때문이다.\n",
    "while True:\n",
    "    number = random.randrange(1, 46)\n",
    "    lotto.add(number)\n",
    "    print(number)\n",
    "    # set에 중복되지 않는 숫자 6개가 저장되면 무한 루프를 탈출시킨다.\n",
    "    if len(lotto) == 6:\n",
    "        break\n",
    "# ===== while True: 끝 =====\n",
    "print(lotto)\n",
    "\n",
    "# 보너스 번호\n",
    "while True:\n",
    "    bonus = random.randrange(1, 46)\n",
    "    print(bonus)\n",
    "    if bonus not in lotto:\n",
    "        break;\n",
    "# ===== while True: 끝 =====    "
   ]
  },
  {
   "cell_type": "code",
   "execution_count": null,
   "metadata": {},
   "outputs": [],
   "source": []
  },
  {
   "cell_type": "code",
   "execution_count": null,
   "metadata": {},
   "outputs": [],
   "source": []
  },
  {
   "cell_type": "code",
   "execution_count": null,
   "metadata": {},
   "outputs": [],
   "source": []
  },
  {
   "cell_type": "code",
   "execution_count": null,
   "metadata": {},
   "outputs": [],
   "source": []
  },
  {
   "cell_type": "code",
   "execution_count": null,
   "metadata": {},
   "outputs": [],
   "source": []
  }
 ],
 "metadata": {
  "kernelspec": {
   "display_name": "Python 3",
   "language": "python",
   "name": "python3"
  },
  "language_info": {
   "codemirror_mode": {
    "name": "ipython",
    "version": 3
   },
   "file_extension": ".py",
   "mimetype": "text/x-python",
   "name": "python",
   "nbconvert_exporter": "python",
   "pygments_lexer": "ipython3",
   "version": "3.7.4"
  }
 },
 "nbformat": 4,
 "nbformat_minor": 2
}
