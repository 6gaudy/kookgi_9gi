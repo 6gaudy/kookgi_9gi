{
 "cells": [
  {
   "cell_type": "markdown",
   "metadata": {},
   "source": [
    "리스트, 튜플, 딕셔너리, set과 함께 사용하는 for  \n",
    "리스트, 튜플, 딕셔너리, set의 0번째 값을 변수에 저장하고 반복을 시작하고 마지막 값을 변수에 넣고 반복한 후 반복을 종료한다.  \n",
    "for 변수 in 리스트, 튜플, 딕셔너리, set의 이름: => 인덱싱 및 슬라이싱도 가능하다.  \n",
    "&nbsp;&nbsp;&nbsp;&nbsp;반복할 문장  \n",
    "&nbsp;&nbsp;&nbsp;&nbsp;..."
   ]
  },
  {
   "cell_type": "code",
   "execution_count": 10,
   "metadata": {},
   "outputs": [
    {
     "name": "stdout",
     "output_type": "stream",
     "text": [
      "['Life', 'is', 'too', 'Good']\n",
      "================================================================================\n",
      "Life\n",
      "is\n",
      "too\n",
      "Good\n",
      "================================================================================\n",
      "is\n",
      "too\n",
      "================================================================================\n",
      "Life\n",
      "is\n",
      "too\n",
      "Good\n"
     ]
    }
   ],
   "source": [
    "# 리스트와 함께 사용하는 for\n",
    "a = [\"Life\", \"is\", \"too\", \"Good\"]\n",
    "print(a)\n",
    "print(\"=\" * 80)\n",
    "for i in a:\n",
    "    print(i)\n",
    "print(\"=\" * 80)\n",
    "for i in a[1:3]:\n",
    "    print(i)\n",
    "print(\"=\" * 80)\n",
    "for i in range(len(a)):\n",
    "    print(a[i])"
   ]
  },
  {
   "cell_type": "code",
   "execution_count": 11,
   "metadata": {},
   "outputs": [
    {
     "name": "stdout",
     "output_type": "stream",
     "text": [
      "('Life', 'is', 'too', 'Good')\n",
      "================================================================================\n",
      "Life\n",
      "is\n",
      "too\n",
      "Good\n",
      "================================================================================\n",
      "is\n",
      "too\n",
      "================================================================================\n",
      "Life\n",
      "is\n",
      "too\n",
      "Good\n"
     ]
    }
   ],
   "source": [
    "# 튜플과 함께 사용하는 for\n",
    "a = \"Life\", \"is\", \"too\", \"Good\"\n",
    "print(a)\n",
    "print(\"=\" * 80)\n",
    "for i in a:\n",
    "    print(i)\n",
    "print(\"=\" * 80)\n",
    "for i in a[1:3]:\n",
    "    print(i)\n",
    "print(\"=\" * 80)\n",
    "for i in range(len(a)):\n",
    "    print(a[i])"
   ]
  },
  {
   "cell_type": "code",
   "execution_count": 15,
   "metadata": {},
   "outputs": [
    {
     "name": "stdout",
     "output_type": "stream",
     "text": [
      "{'is', 'too', 'Good', 'Life'}\n",
      "================================================================================\n",
      "is\n",
      "too\n",
      "Good\n",
      "Life\n",
      "================================================================================\n"
     ]
    }
   ],
   "source": [
    "# set과 함께 사용하는 for\n",
    "a = {\"Life\", \"is\", \"too\", \"Good\"}\n",
    "print(a)\n",
    "print(\"=\" * 80)\n",
    "for i in a:\n",
    "    print(i)\n",
    "print(\"=\" * 80)\n",
    "'''\n",
    "for i in a[1:3]: # set은 입력되는 데이터 순서와 실제 저장되는 데이터의 순서가 달라서 슬라이싱을 사용할 수 없으므로 에러가 발생된다.\n",
    "    print(i)\n",
    "print(\"=\" * 80)\n",
    "for i in range(len(a)):\n",
    "    print(a[i]) # set은 입력되는 데이터 순서와 실제 저장되는 데이터의 순서가 달라서 인덱싱을 사용할 수 없으므로 에러가 발생된다.\n",
    "'''\n",
    "pass"
   ]
  },
  {
   "cell_type": "code",
   "execution_count": 24,
   "metadata": {},
   "outputs": [
    {
     "name": "stdout",
     "output_type": "stream",
     "text": [
      "{'apple': 1000, 'banana': 3500, 'melon': 10000, 'mango': 5000}\n",
      "dict_keys(['apple', 'banana', 'melon', 'mango'])\n",
      "dict_values([1000, 3500, 10000, 5000])\n",
      "dict_items([('apple', 1000), ('banana', 3500), ('melon', 10000), ('mango', 5000)])\n"
     ]
    }
   ],
   "source": [
    "# 딕셔너리와 함께 사용하는 for\n",
    "d = {\"apple\": 1000, \"banana\": 3500, \"melon\": 10000, \"mango\": 5000}\n",
    "print(d)\n",
    "print(d.keys())\n",
    "print(d.values())\n",
    "print(d.items())"
   ]
  },
  {
   "cell_type": "code",
   "execution_count": 25,
   "metadata": {},
   "outputs": [
    {
     "name": "stdout",
     "output_type": "stream",
     "text": [
      "apple\n",
      "banana\n",
      "melon\n",
      "mango\n",
      "================================================================================\n",
      "apple\n",
      "banana\n",
      "melon\n",
      "mango\n"
     ]
    }
   ],
   "source": [
    "for key in d: # 딕셔너리 이름은 딕서너리이름.keys()와 같은 의미로 사용된다.\n",
    "    print(key)\n",
    "print(\"=\" * 80)\n",
    "for key in d.keys():\n",
    "    print(key)"
   ]
  },
  {
   "cell_type": "code",
   "execution_count": 29,
   "metadata": {},
   "outputs": [
    {
     "name": "stdout",
     "output_type": "stream",
     "text": [
      "1000\n",
      "3500\n",
      "10000\n",
      "5000\n",
      "================================================================================\n",
      "1000\n",
      "3500\n",
      "10000\n",
      "5000\n",
      "================================================================================\n",
      "1000\n",
      "3500\n",
      "10000\n",
      "5000\n"
     ]
    }
   ],
   "source": [
    "for value in d.values():\n",
    "    print(value)\n",
    "print(\"=\" * 80)\n",
    "for key in d.keys():\n",
    "    print(d[key])\n",
    "print(\"=\" * 80)\n",
    "for key in d.keys():\n",
    "    print(d.get(key))"
   ]
  },
  {
   "cell_type": "code",
   "execution_count": 46,
   "metadata": {},
   "outputs": [
    {
     "name": "stdout",
     "output_type": "stream",
     "text": [
      "('apple', 1000)\n",
      "('banana', 3500)\n",
      "('melon', 10000)\n",
      "('mango', 5000)\n",
      "================================================================================\n",
      "apple\n",
      "banana\n",
      "melon\n",
      "mango\n",
      "================================================================================\n",
      "1000\n",
      "3500\n",
      "10000\n",
      "5000\n",
      "================================================================================\n",
      "apple 는  1,000원 입니다.\n",
      "banana는  3,500원 입니다.\n",
      "melon 는 10,000원 입니다.\n",
      "mango 는  5,000원 입니다.\n"
     ]
    }
   ],
   "source": [
    "for item in d.items():\n",
    "    print(item)\n",
    "print(\"=\" * 80)\n",
    "for item in d.items():\n",
    "    print(item[0])\n",
    "print(\"=\" * 80)\n",
    "for item in d.items():\n",
    "    print(item[1])\n",
    "print(\"=\" * 80)\n",
    "for key, value in d.items():\n",
    "    print(\"{0:6s}는 {1:6,d}원 입니다.\".format(key, value))"
   ]
  },
  {
   "cell_type": "code",
   "execution_count": null,
   "metadata": {},
   "outputs": [],
   "source": []
  },
  {
   "cell_type": "code",
   "execution_count": null,
   "metadata": {},
   "outputs": [],
   "source": []
  },
  {
   "cell_type": "code",
   "execution_count": null,
   "metadata": {},
   "outputs": [],
   "source": []
  },
  {
   "cell_type": "code",
   "execution_count": null,
   "metadata": {},
   "outputs": [],
   "source": []
  },
  {
   "cell_type": "code",
   "execution_count": null,
   "metadata": {},
   "outputs": [],
   "source": []
  },
  {
   "cell_type": "code",
   "execution_count": null,
   "metadata": {},
   "outputs": [],
   "source": []
  },
  {
   "cell_type": "code",
   "execution_count": null,
   "metadata": {},
   "outputs": [],
   "source": []
  },
  {
   "cell_type": "code",
   "execution_count": null,
   "metadata": {},
   "outputs": [],
   "source": []
  }
 ],
 "metadata": {
  "kernelspec": {
   "display_name": "Python 3",
   "language": "python",
   "name": "python3"
  },
  "language_info": {
   "codemirror_mode": {
    "name": "ipython",
    "version": 3
   },
   "file_extension": ".py",
   "mimetype": "text/x-python",
   "name": "python",
   "nbconvert_exporter": "python",
   "pygments_lexer": "ipython3",
   "version": "3.7.4"
  }
 },
 "nbformat": 4,
 "nbformat_minor": 2
}
