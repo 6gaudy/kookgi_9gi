{
 "cells": [
  {
   "cell_type": "code",
   "execution_count": 1,
   "metadata": {},
   "outputs": [],
   "source": [
    "import random"
   ]
  },
  {
   "cell_type": "code",
   "execution_count": 17,
   "metadata": {},
   "outputs": [
    {
     "name": "stdout",
     "output_type": "stream",
     "text": [
      "로또 복권 구매 금액을 입력하세요 : 5000\n",
      "  1 game : 06 10 13 28 31 37 \n",
      "  2 game : 04 23 24 28 41 43 \n",
      "  3 game : 08 09 15 24 32 39 \n",
      "  4 game : 04 10 12 14 22 35 \n",
      "  5 game : 23 26 33 35 42 45 \n"
     ]
    }
   ],
   "source": [
    "# 로또 복권 구매 금액을 입력받아 입력받은 금액만큼 로또 번호를 출력하는 프로그램\n",
    "lotto = [i for i in range(1, 46)]\n",
    "\n",
    "# 로또 복권 구매 금액을 입력받는다.\n",
    "money = int(input(\"로또 복권 구매 금액을 입력하세요 : \"))\n",
    "\n",
    "# 복권 구매 금액만큼 반복하며 로또 번호를 출력한다.\n",
    "for i in range(money // 1000):\n",
    "    \n",
    "    # 반복문 내부에 다른 반복문이 나와야 하는 경우 반복문을 제어하는 변수 이름은 반드시 다른 이름을 사용해야 한다.\n",
    "    for j in range(1000000):\n",
    "        r = random.randrange(1, 45)\n",
    "        lotto[0], lotto[r] = lotto[r], lotto[0]\n",
    "    # ===== for j in range(1000000): 끝 =====\n",
    "    \n",
    "    print(\"{0:3d} game : \".format(i + 1), end = \"\")\n",
    "    '''\n",
    "    for j in range(6):\n",
    "        print(\"{0:2d} \".format(lotto[j]), end = \"\")\n",
    "    # ===== for j in range(6): 끝 =====\n",
    "    '''\n",
    "    \n",
    "    # 1등 번호를 오름차순으로 정렬해서 출력하기 위해 lotto 리스트의 앞 6개만 슬라이싱한 후 sort() 메소드로 오름차순으로 정렬해서 출력한다.\n",
    "    result = lotto[:6]\n",
    "    result.sort()\n",
    "    for j in range(6):\n",
    "        print(\"{0:02d} \".format(result[j]), end = \"\")\n",
    "    # ===== for j in range(6): 끝 =====\n",
    "    print()\n",
    "    \n",
    "# ===== for i in range(money // 1000): 끝 =====    "
   ]
  },
  {
   "cell_type": "code",
   "execution_count": null,
   "metadata": {},
   "outputs": [],
   "source": []
  },
  {
   "cell_type": "code",
   "execution_count": null,
   "metadata": {},
   "outputs": [],
   "source": []
  },
  {
   "cell_type": "code",
   "execution_count": null,
   "metadata": {},
   "outputs": [],
   "source": []
  },
  {
   "cell_type": "code",
   "execution_count": null,
   "metadata": {},
   "outputs": [],
   "source": []
  },
  {
   "cell_type": "code",
   "execution_count": null,
   "metadata": {},
   "outputs": [],
   "source": []
  }
 ],
 "metadata": {
  "kernelspec": {
   "display_name": "Python 3",
   "language": "python",
   "name": "python3"
  },
  "language_info": {
   "codemirror_mode": {
    "name": "ipython",
    "version": 3
   },
   "file_extension": ".py",
   "mimetype": "text/x-python",
   "name": "python",
   "nbconvert_exporter": "python",
   "pygments_lexer": "ipython3",
   "version": "3.7.4"
  }
 },
 "nbformat": 4,
 "nbformat_minor": 2
}
