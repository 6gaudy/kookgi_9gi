{
 "cells": [
  {
   "cell_type": "markdown",
   "metadata": {},
   "source": [
    "4 부터 10000 사이의 완전수를 구하고 완전수의 개수를 출력하는 프로그램  \n",
    "완전수란 자기 자신을 제외한 약수의 합계가 자기 자신과 같은 숫자를 말한다.  \n",
    "6의 약수는 1, 2, 3, 6 이고 자기 자신인 6을 제외한 약수 1, 2, 3의 합계가 자기 자신인 6이 되므로 6은 완전수라 부른다."
   ]
  },
  {
   "cell_type": "code",
   "execution_count": 4,
   "metadata": {},
   "outputs": [
    {
     "name": "stdout",
     "output_type": "stream",
     "text": [
      "1번째 완전수 :    6\n",
      "2번째 완전수 :   28\n",
      "3번째 완전수 :  496\n",
      "4번째 완전수 : 8128\n",
      "완전수의 개수는 4개 입니다.\n"
     ]
    }
   ],
   "source": [
    "lm = 0 # 완전수의 개수를 세는 변수\n",
    "\n",
    "# 바깥 반복은 4 부터 10000 사이의 완전수를 판별해야 하므로 완전수를 판별할 수를 4 부터 10000 까지 1씩 증가시켜주는 역할을 한다.\n",
    "for n in range(4, 10001, 1):\n",
    "    \n",
    "    total = 0 # 완전수인가 판별할 수(n)의 약수의 합계를 계산하는 변수 => 반드시 반복이 시작될 때 마다 초기화시켜야 한다.\n",
    "    # 어떤 숫자를 나눠서 떨어뜨릴 수 있는 가장 큰 숫자는 자기 자신을 제외하면 자신의 절반을 넘어가지 않는다.\n",
    "    k = n // 2\n",
    "    # 안쪽 반복은 n이 완전수인가 판별하기 위해 자신을 제외한 약수의 합계를 계산한다.\n",
    "    \n",
    "    for j in range(1, k + 1, 1):\n",
    "        # 완전수인가 판별할 수의 약수를 계산하기 위해서 1 부터 k 사이의 숫자로 나눈 나머지를 계산한다.\n",
    "        r = n % j\n",
    "        # 나머지가 0이면 j는 n의 약수이므로 약수의 합계를 계산한다.\n",
    "        if r == 0: # n을 j로 나눠서 떨어졌는가? => j는 n의 약수인가?\n",
    "            total += j # j가 n의 약수이므로 약수의 합계를 계산한다.\n",
    "        # ===== if r == 0: 끝 =====\n",
    "    # ===== for j in range(1, k + 1, 1): 끝 =====\n",
    "    \n",
    "    # n이 완전수인가 판단해서 완전수면 n을 출력하고 완전수의 개수를 증가시킨다.\n",
    "    if n == total:\n",
    "        lm += 1 # 완전수의 개수를 1증가 시킨다.\n",
    "        print(\"{0}번째 완전수 : {1:4d}\".format(lm, n))\n",
    "    \n",
    "# ===== for n in range(4, 10001, 1): 끝 =====\n",
    "# 완전수의 개수를 출력한다.\n",
    "print(\"완전수의 개수는 {}개 입니다.\".format(lm))"
   ]
  },
  {
   "cell_type": "code",
   "execution_count": 13,
   "metadata": {},
   "outputs": [
    {
     "name": "stdout",
     "output_type": "stream",
     "text": [
      "P1 : 6    = 1 + 2 + 3\n",
      "P2 : 28   = 1 + 2 + 4 + 7 + 14\n",
      "P3 : 496  = 1 + 2 + 4 + 8 + 16 + 31 + 62 + 124 + 248\n",
      "P4 : 8128 = 1 + 2 + 4 + 8 + 16 + 32 + 64 + 127 + 254 + 508 + 1016 + 2032 + 4064\n",
      "완전수의 개수는 4개 입니다.\n"
     ]
    }
   ],
   "source": [
    "lm = 0\n",
    "for n in range(4, 10001, 1):\n",
    "    total = 0\n",
    "    fn = [] # 약수를 기억할 빈 리스트를 만든다.\n",
    "    k = n // 2\n",
    "    for j in range(1, k + 1, 1):\n",
    "        r = n % j\n",
    "        if r == 0:\n",
    "            total += j\n",
    "            fn.append(j) # 약수를 리스트에 추가한다.\n",
    "    # ===== for j in range(1, k + 1, 1): 끝 =====\n",
    "    if n == total:\n",
    "        lm += 1 # 완전수의 개수를 1증가 시킨다.\n",
    "        # print(\"{0}번째 완전수 : {1:4d} = \".format(lm, n), end = \"\")\n",
    "        print(\"P%d : %-4d = \" % (lm, n), end = \"\")\n",
    "        for i in range(len(fn)):\n",
    "            if i > 0:\n",
    "                print(\" + \", end = \"\")\n",
    "            print(fn[i], end = \"\")\n",
    "        # ===== for i in range(len(fn)): 끝 =====\n",
    "        print()\n",
    "# ===== for n in range(4, 10001, 1): 끝 =====\n",
    "print(\"완전수의 개수는 {}개 입니다.\".format(lm))"
   ]
  },
  {
   "cell_type": "code",
   "execution_count": null,
   "metadata": {},
   "outputs": [],
   "source": []
  },
  {
   "cell_type": "code",
   "execution_count": null,
   "metadata": {},
   "outputs": [],
   "source": []
  },
  {
   "cell_type": "code",
   "execution_count": null,
   "metadata": {},
   "outputs": [],
   "source": []
  },
  {
   "cell_type": "code",
   "execution_count": null,
   "metadata": {},
   "outputs": [],
   "source": []
  }
 ],
 "metadata": {
  "kernelspec": {
   "display_name": "Python 3",
   "language": "python",
   "name": "python3"
  },
  "language_info": {
   "codemirror_mode": {
    "name": "ipython",
    "version": 3
   },
   "file_extension": ".py",
   "mimetype": "text/x-python",
   "name": "python",
   "nbconvert_exporter": "python",
   "pygments_lexer": "ipython3",
   "version": "3.7.4"
  }
 },
 "nbformat": 4,
 "nbformat_minor": 2
}
