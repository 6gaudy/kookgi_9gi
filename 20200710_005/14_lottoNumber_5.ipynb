{
 "cells": [
  {
   "cell_type": "code",
   "execution_count": 2,
   "metadata": {},
   "outputs": [],
   "source": [
    "import random"
   ]
  },
  {
   "cell_type": "code",
   "execution_count": 6,
   "metadata": {},
   "outputs": [
    {
     "name": "stdout",
     "output_type": "stream",
     "text": [
      "24\n",
      "6\n",
      "27\n",
      "11\n",
      "23\n",
      "2\n",
      "[24, 6, 27, 11, 23, 2]\n",
      "2\n",
      "31\n",
      "[24, 6, 27, 11, 23, 2, 31]\n"
     ]
    }
   ],
   "source": [
    "# 로또 번호를 기억할 빈 리스트를 만든다.\n",
    "lotto = []\n",
    "\n",
    "# 1등 번호\n",
    "while True:\n",
    "    number = random.randrange(1, 46)\n",
    "    print(number)\n",
    "    if number not in lotto:\n",
    "        lotto.append(number)\n",
    "    # set에 중복되지 않는 숫자 6개가 저장되면 무한 루프를 탈출시킨다.\n",
    "    if len(lotto) == 6:\n",
    "        break\n",
    "# ===== while True: 끝 =====\n",
    "print(lotto)\n",
    "\n",
    "# 보너스 번호\n",
    "while True:\n",
    "    bonus = random.randrange(1, 46)\n",
    "    print(bonus)\n",
    "    if bonus not in lotto:\n",
    "        lotto.append(bonus)\n",
    "        break;\n",
    "# ===== while True: 끝 =====\n",
    "print(lotto)"
   ]
  },
  {
   "cell_type": "code",
   "execution_count": 19,
   "metadata": {},
   "outputs": [
    {
     "name": "stdout",
     "output_type": "stream",
     "text": [
      "15\n",
      "1\n",
      "40\n",
      "23\n",
      "40\n",
      "23\n",
      "10\n",
      "14\n",
      "[15, 1, 40, 23, 10, 14]\n",
      "15\n",
      "39\n",
      "[15, 1, 40, 23, 10, 14, 39]\n"
     ]
    }
   ],
   "source": [
    "# 로또 번호를 기억할 빈 리스트를 만든다.\n",
    "lotto = []\n",
    "\n",
    "# 1등 번호\n",
    "while len(lotto) != 6:\n",
    "    number = random.randrange(1, 46)\n",
    "    print(number)\n",
    "    if number not in lotto:\n",
    "        lotto.append(number)\n",
    "# ===== while True: 끝 =====\n",
    "print(lotto)\n",
    "\n",
    "# 보너스 번호\n",
    "while len(lotto) != 7:\n",
    "    bonus = random.randrange(1, 46)\n",
    "    print(bonus)\n",
    "    if bonus not in lotto:\n",
    "        lotto.append(bonus)\n",
    "# ===== while True: 끝 =====\n",
    "print(lotto)"
   ]
  },
  {
   "cell_type": "code",
   "execution_count": null,
   "metadata": {},
   "outputs": [],
   "source": []
  },
  {
   "cell_type": "code",
   "execution_count": null,
   "metadata": {},
   "outputs": [],
   "source": []
  },
  {
   "cell_type": "code",
   "execution_count": null,
   "metadata": {},
   "outputs": [],
   "source": []
  },
  {
   "cell_type": "code",
   "execution_count": null,
   "metadata": {},
   "outputs": [],
   "source": []
  }
 ],
 "metadata": {
  "kernelspec": {
   "display_name": "Python 3",
   "language": "python",
   "name": "python3"
  },
  "language_info": {
   "codemirror_mode": {
    "name": "ipython",
    "version": 3
   },
   "file_extension": ".py",
   "mimetype": "text/x-python",
   "name": "python",
   "nbconvert_exporter": "python",
   "pygments_lexer": "ipython3",
   "version": "3.7.4"
  }
 },
 "nbformat": 4,
 "nbformat_minor": 2
}
