{
 "cells": [
  {
   "cell_type": "markdown",
   "metadata": {},
   "source": [
    "global 변수  \n",
    "함수안에서 선언된 변수의 유효 범위 => 함수 내부에서 선언된 변수는 함수 외부에서 사용될 수 없다. => 독립된 기억 장소를 가진다.  \n",
    "함수 외부에서 선언된 변수와 함수 내부에서 선언된 변수는 서로 다른 변수로 취급된다. => c언어의 call by value 처럼 사용된다."
   ]
  },
  {
   "cell_type": "code",
   "execution_count": 1,
   "metadata": {},
   "outputs": [],
   "source": [
    "def func7(var1):\n",
    "    var1 += 1\n",
    "    print(\"함수 내부의 변수 var1 : {}\".format(var1))"
   ]
  },
  {
   "cell_type": "code",
   "execution_count": 2,
   "metadata": {},
   "outputs": [
    {
     "name": "stdout",
     "output_type": "stream",
     "text": [
      "함수 내부의 변수 var1 : 2\n",
      "함수 외부의 변수 var1 : 1\n"
     ]
    }
   ],
   "source": [
    "var1 = 1\n",
    "func7(var1)\n",
    "print(\"함수 외부의 변수 var1 : {}\".format(var1))"
   ]
  },
  {
   "cell_type": "code",
   "execution_count": 3,
   "metadata": {},
   "outputs": [],
   "source": [
    "# global을 사용하면 함수 내부에서 함수 외부의 변수에 저장된 데이터를 변경할 수 있다. => 함수 내부에서 함수 외부의 변수를 사용할 수 있다.\n",
    "def func8():\n",
    "    # global 변수로 사용할 변수는 함수의 인수로 지정하면 안된다.\n",
    "    # global로 선언된 변수는 함수 내부에서 데이터를 변경시키면 함수 외부에서 선언된 변수에 저장된 데이터도 같이 변경된다.\n",
    "    # c언어의 call by reference 방식처럼 사용된다. => 부작용(side effect) 현상이 발생될 수 있으니 주의해서 사용해야 한다.\n",
    "    global var2 # 함수 외부에서 선언한 var2라는 변수를 함수 내부에서 사용을 하겠다고 선언한다.\n",
    "    var2 += 1\n",
    "    print(\"함수 내부의 변수 var2 : {}\".format(var2))"
   ]
  },
  {
   "cell_type": "code",
   "execution_count": 4,
   "metadata": {},
   "outputs": [
    {
     "name": "stdout",
     "output_type": "stream",
     "text": [
      "함수 내부의 변수 var2 : 1000\n",
      "함수 외부의 변수 var2 : 1000\n"
     ]
    }
   ],
   "source": [
    "var2 = 999\n",
    "func8()\n",
    "print(\"함수 외부의 변수 var2 : {}\".format(var2))"
   ]
  },
  {
   "cell_type": "code",
   "execution_count": null,
   "metadata": {},
   "outputs": [],
   "source": []
  },
  {
   "cell_type": "code",
   "execution_count": null,
   "metadata": {},
   "outputs": [],
   "source": []
  },
  {
   "cell_type": "code",
   "execution_count": null,
   "metadata": {},
   "outputs": [],
   "source": []
  },
  {
   "cell_type": "code",
   "execution_count": null,
   "metadata": {},
   "outputs": [],
   "source": []
  },
  {
   "cell_type": "code",
   "execution_count": null,
   "metadata": {},
   "outputs": [],
   "source": []
  },
  {
   "cell_type": "code",
   "execution_count": null,
   "metadata": {},
   "outputs": [],
   "source": []
  }
 ],
 "metadata": {
  "kernelspec": {
   "display_name": "Python 3",
   "language": "python",
   "name": "python3"
  },
  "language_info": {
   "codemirror_mode": {
    "name": "ipython",
    "version": 3
   },
   "file_extension": ".py",
   "mimetype": "text/x-python",
   "name": "python",
   "nbconvert_exporter": "python",
   "pygments_lexer": "ipython3",
   "version": "3.7.4"
  }
 },
 "nbformat": 4,
 "nbformat_minor": 2
}
