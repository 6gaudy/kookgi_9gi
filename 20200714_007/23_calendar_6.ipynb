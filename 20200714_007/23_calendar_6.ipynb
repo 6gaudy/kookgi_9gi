{
 "cells": [
  {
   "cell_type": "code",
   "execution_count": 9,
   "metadata": {},
   "outputs": [],
   "source": [
    "# 특정 module의 특정 함수만 import 해서 사용하려면 아래와 같이 import 시키면 된다.\n",
    "# from module이름 import 함수이름 => from 다음에 지정한 모듈의 모든 함수를 import 시키지 않고 지정한 함수만 import 시킨다.\n",
    "# from calendarModule import weekDay # calendarModule이라는 module의 weekDay() 함수만 import 시킨다.\n",
    "# from calendarModule import lastDay # calendarModule이라는 module의 lastDay() 함수만 import 시킨다.\n",
    "\n",
    "# 위의 두 문장에서 import 시키는 함수 weekDay()와 lastDay()는 calendarModule module의 함수이므로 아래와 같이 1줄로 줄여서 사용할 수 있다.\n",
    "# from calendarModule import weekDay, lastDay\n",
    "\n",
    "# 아래와 같이 코딩하면 calendarModule module의 모든 함수를  import 시켜서 사용할 수 있다.\n",
    "from calendarModule import *"
   ]
  },
  {
   "cell_type": "code",
   "execution_count": 10,
   "metadata": {},
   "outputs": [
    {
     "name": "stdout",
     "output_type": "stream",
     "text": [
      "달력을 출력하려는 년과 월을 입력하세요 : 2020 7\n",
      "============================\n",
      "         2020년 7월\n",
      "============================\n",
      " 일  월  화  수  목  금  토 \n",
      "============================\n",
      "              1   2   3   4 \n",
      "  5   6   7   8   9  10  11 \n",
      " 12  13  14  15  16  17  18 \n",
      " 19  20  21  22  23  24  25 \n",
      " 26  27  28  29  30  31 \n",
      "============================\n"
     ]
    }
   ],
   "source": [
    "year, month = map(int, input(\"달력을 출력하려는 년과 월을 입력하세요 : \").split())\n",
    "print(\"=\" * 28)\n",
    "print(\"         {0:4d}년 {1:d}월\".format(year, month))\n",
    "print(\"=\" * 28)\n",
    "print(\" 일  월  화  수  목  금  토 \")\n",
    "print(\"=\" * 28)\n",
    "for i in range(weekDay(year, month, 1)):\n",
    "    print(\"    \", end = \"\")\n",
    "for i in range(1, lastDay(year, month) + 1):\n",
    "    print(\" {0:2d} \".format(i), end = \"\")\n",
    "    if weekDay(year, month, i) == 6 and i != lastDay(year, month):\n",
    "        print()\n",
    "print(\"\\n\" + \"=\" * 28)"
   ]
  },
  {
   "cell_type": "code",
   "execution_count": null,
   "metadata": {},
   "outputs": [],
   "source": []
  },
  {
   "cell_type": "code",
   "execution_count": null,
   "metadata": {},
   "outputs": [],
   "source": []
  },
  {
   "cell_type": "code",
   "execution_count": null,
   "metadata": {},
   "outputs": [],
   "source": []
  },
  {
   "cell_type": "code",
   "execution_count": null,
   "metadata": {},
   "outputs": [],
   "source": []
  },
  {
   "cell_type": "code",
   "execution_count": null,
   "metadata": {},
   "outputs": [],
   "source": []
  },
  {
   "cell_type": "code",
   "execution_count": null,
   "metadata": {},
   "outputs": [],
   "source": []
  },
  {
   "cell_type": "code",
   "execution_count": null,
   "metadata": {},
   "outputs": [],
   "source": []
  },
  {
   "cell_type": "code",
   "execution_count": null,
   "metadata": {},
   "outputs": [],
   "source": []
  },
  {
   "cell_type": "code",
   "execution_count": null,
   "metadata": {},
   "outputs": [],
   "source": []
  },
  {
   "cell_type": "code",
   "execution_count": null,
   "metadata": {},
   "outputs": [],
   "source": []
  },
  {
   "cell_type": "code",
   "execution_count": null,
   "metadata": {},
   "outputs": [],
   "source": []
  }
 ],
 "metadata": {
  "kernelspec": {
   "display_name": "Python 3",
   "language": "python",
   "name": "python3"
  },
  "language_info": {
   "codemirror_mode": {
    "name": "ipython",
    "version": 3
   },
   "file_extension": ".py",
   "mimetype": "text/x-python",
   "name": "python",
   "nbconvert_exporter": "python",
   "pygments_lexer": "ipython3",
   "version": "3.7.4"
  }
 },
 "nbformat": 4,
 "nbformat_minor": 2
}
