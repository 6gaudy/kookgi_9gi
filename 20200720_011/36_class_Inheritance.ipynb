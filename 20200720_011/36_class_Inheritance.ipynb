{
 "cells": [
  {
   "cell_type": "markdown",
   "metadata": {},
   "source": [
    "부모(상위, 슈퍼, 기반) 클래스"
   ]
  },
  {
   "cell_type": "code",
   "execution_count": 18,
   "metadata": {},
   "outputs": [],
   "source": [
    "class Parent:\n",
    "    def __init__(self, name = \"무명씨\", gender = False):\n",
    "        self.name = name\n",
    "        self.gender = gender\n",
    "        print(\"부모 클래스의 생성자 실행\")\n",
    "    def __str__(self):\n",
    "        return \"{}({})\".format(self.name, \"남\" if self.gender else \"여\")"
   ]
  },
  {
   "cell_type": "markdown",
   "metadata": {},
   "source": [
    "부모 클래스가 잘 생성되었나 확인한다."
   ]
  },
  {
   "cell_type": "code",
   "execution_count": 20,
   "metadata": {},
   "outputs": [
    {
     "name": "stdout",
     "output_type": "stream",
     "text": [
      "부모 클래스의 생성자 실행\n",
      "무명씨(여)\n",
      "부모 클래스의 생성자 실행\n",
      "홍길동(남)\n",
      "부모 클래스의 생성자 실행\n",
      "성춘향(여)\n"
     ]
    }
   ],
   "source": [
    "parent1 = Parent()\n",
    "print(parent1)\n",
    "parent2 = Parent(\"홍길동\",  True)\n",
    "print(parent2)\n",
    "parent3 = Parent(\"성춘향\",  False)\n",
    "print(parent3)"
   ]
  },
  {
   "cell_type": "markdown",
   "metadata": {},
   "source": [
    "클래스 상속  \n",
    "상속이란 부모 클래스에서 작성한 멤버 변수와 함수를 자식 클래스에서 별도로 선언하지 않고도 선언한 것 처럼 사용할 수 있게 해주는 기능을 말한다."
   ]
  },
  {
   "cell_type": "markdown",
   "metadata": {},
   "source": [
    "상속의 형식  \n",
    "class 자식클래스이름(부모클래스이름)"
   ]
  },
  {
   "cell_type": "code",
   "execution_count": 23,
   "metadata": {},
   "outputs": [],
   "source": [
    "class Child(Parent):\n",
    "    # 부모(Parent)로 부터 __init__(self, name = \"무명씨\", gender = False), __str__(self), self.name, self.gender를 상속받았다.\n",
    "    # => 별도로 정의하지 않더라도 사용할 수 있다.\n",
    "    # 자식 클래스에서 사용할 멤버 변수나 함수를 추가한다.\n",
    "    \n",
    "    # override(재정의) => 부모 클래스로부터 상속받은 함수의 기능이 마음에 들지 않거나 부족한 부분이 있을 경우 자식 클래스에서 다시만들어 사용하는 것을\n",
    "    # 말한다. => 부모 클래스에서 상속받은 함수는 무시된다.\n",
    "    def __init__(self, name = \"무명씨\", gender = False, age = 0, nickname = \"없음\"):\n",
    "        # self.name = name\n",
    "        # self.gender = gender\n",
    "        # 부모 클래스로 부터 상속받은 멤버 변수는 부모 클래스의 생성자를 호출해서 초기화한다.\n",
    "        # super() => 부모 클래스를 의미한다.\n",
    "        super().__init__(name, gender) # 부모 클래스의 생성자 __init__(self, name = \"무명씨\", gender = False)를 실행한다.\n",
    "        self.age = age\n",
    "        self.nickname = nickname\n",
    "        print(\"자식 클래스의 생성자 실행\")\n",
    "    def __str__(self):\n",
    "        # return \"{}({}) - {}, {}\".format(self.name, \"남\" if self.gender else \"여\", self.age, self.nickname)\n",
    "        return  super().__str__() +  \" - {}, {}\".format(self.age, self.nickname)"
   ]
  },
  {
   "cell_type": "code",
   "execution_count": 24,
   "metadata": {},
   "outputs": [
    {
     "name": "stdout",
     "output_type": "stream",
     "text": [
      "부모 클래스의 생성자 실행\n",
      "자식 클래스의 생성자 실행\n",
      "무명씨(여) - 0, 없음\n",
      "무명씨\n",
      "False\n",
      "부모 클래스의 생성자 실행\n",
      "자식 클래스의 생성자 실행\n",
      "홍길동(남) - 20, 도적넘\n"
     ]
    }
   ],
   "source": [
    "child1 = Child()\n",
    "print(child1)\n",
    "print(child1.name)\n",
    "print(child1.gender)\n",
    "child2 = Child(\"홍길동\", True, 20, \"도적넘\")\n",
    "print(child2)"
   ]
  },
  {
   "cell_type": "code",
   "execution_count": null,
   "metadata": {},
   "outputs": [],
   "source": []
  },
  {
   "cell_type": "code",
   "execution_count": null,
   "metadata": {},
   "outputs": [],
   "source": []
  },
  {
   "cell_type": "code",
   "execution_count": null,
   "metadata": {},
   "outputs": [],
   "source": []
  },
  {
   "cell_type": "code",
   "execution_count": null,
   "metadata": {},
   "outputs": [],
   "source": []
  },
  {
   "cell_type": "code",
   "execution_count": null,
   "metadata": {},
   "outputs": [],
   "source": []
  },
  {
   "cell_type": "code",
   "execution_count": null,
   "metadata": {},
   "outputs": [],
   "source": []
  },
  {
   "cell_type": "code",
   "execution_count": null,
   "metadata": {},
   "outputs": [],
   "source": []
  },
  {
   "cell_type": "code",
   "execution_count": null,
   "metadata": {},
   "outputs": [],
   "source": []
  }
 ],
 "metadata": {
  "kernelspec": {
   "display_name": "Python 3",
   "language": "python",
   "name": "python3"
  },
  "language_info": {
   "codemirror_mode": {
    "name": "ipython",
    "version": 3
   },
   "file_extension": ".py",
   "mimetype": "text/x-python",
   "name": "python",
   "nbconvert_exporter": "python",
   "pygments_lexer": "ipython3",
   "version": "3.7.4"
  }
 },
 "nbformat": 4,
 "nbformat_minor": 2
}
