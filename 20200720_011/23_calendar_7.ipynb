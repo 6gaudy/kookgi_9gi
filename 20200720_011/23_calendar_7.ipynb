{
 "cells": [
  {
   "cell_type": "code",
   "execution_count": 1,
   "metadata": {},
   "outputs": [],
   "source": [
    "import calendarModule as cm\n",
    "from datetime import datetime as dt"
   ]
  },
  {
   "cell_type": "code",
   "execution_count": 6,
   "metadata": {},
   "outputs": [
    {
     "name": "stdout",
     "output_type": "stream",
     "text": [
      "1 => 특정달, 2 => 이번달 : 2\n",
      "============================\n",
      "         2020년 7월\n",
      "============================\n",
      " 일  월  화  수  목  금  토 \n",
      "============================\n",
      "              1   2   3   4 \n",
      "  5   6   7   8   9  10  11 \n",
      " 12  13  14  15  16  17  18 \n",
      " 19  20  21  22  23  24  25 \n",
      " 26  27  28  29  30  31 \n",
      "============================\n"
     ]
    }
   ],
   "source": [
    "n = int(input(\"1 => 특정달, 2 => 이번달 : \"))\n",
    "\n",
    "if n == 1:\n",
    "    year, month = map(int, input(\"달력을 출력하려는 년과 월을 입력하세요 : \").split())\n",
    "else:\n",
    "    now = dt.now()\n",
    "    year = now.year\n",
    "    month = now.month\n",
    "\n",
    "print(\"=\" * 28)\n",
    "print(\"         {0:4d}년 {1:d}월\".format(year, month))\n",
    "print(\"=\" * 28)\n",
    "print(\" 일  월  화  수  목  금  토 \")\n",
    "print(\"=\" * 28)\n",
    "for i in range(cm.weekDay(year, month, 1)):\n",
    "    print(\"    \", end = \"\")\n",
    "for i in range(1, cm.lastDay(year, month) + 1):\n",
    "    print(\" {0:2d} \".format(i), end = \"\")\n",
    "    if cm.weekDay(year, month, i) == 6 and i != cm.lastDay(year, month):\n",
    "        print()\n",
    "print(\"\\n\" + \"=\" * 28)"
   ]
  },
  {
   "cell_type": "code",
   "execution_count": null,
   "metadata": {},
   "outputs": [],
   "source": []
  },
  {
   "cell_type": "code",
   "execution_count": null,
   "metadata": {},
   "outputs": [],
   "source": []
  },
  {
   "cell_type": "code",
   "execution_count": null,
   "metadata": {},
   "outputs": [],
   "source": []
  },
  {
   "cell_type": "code",
   "execution_count": null,
   "metadata": {},
   "outputs": [],
   "source": []
  },
  {
   "cell_type": "code",
   "execution_count": null,
   "metadata": {},
   "outputs": [],
   "source": []
  },
  {
   "cell_type": "code",
   "execution_count": null,
   "metadata": {},
   "outputs": [],
   "source": []
  },
  {
   "cell_type": "code",
   "execution_count": null,
   "metadata": {},
   "outputs": [],
   "source": []
  },
  {
   "cell_type": "code",
   "execution_count": null,
   "metadata": {},
   "outputs": [],
   "source": []
  },
  {
   "cell_type": "code",
   "execution_count": null,
   "metadata": {},
   "outputs": [],
   "source": []
  },
  {
   "cell_type": "code",
   "execution_count": null,
   "metadata": {},
   "outputs": [],
   "source": []
  },
  {
   "cell_type": "code",
   "execution_count": null,
   "metadata": {},
   "outputs": [],
   "source": []
  }
 ],
 "metadata": {
  "kernelspec": {
   "display_name": "Python 3",
   "language": "python",
   "name": "python3"
  },
  "language_info": {
   "codemirror_mode": {
    "name": "ipython",
    "version": 3
   },
   "file_extension": ".py",
   "mimetype": "text/x-python",
   "name": "python",
   "nbconvert_exporter": "python",
   "pygments_lexer": "ipython3",
   "version": "3.7.4"
  }
 },
 "nbformat": 4,
 "nbformat_minor": 2
}
